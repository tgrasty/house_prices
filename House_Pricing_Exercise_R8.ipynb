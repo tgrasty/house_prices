{
 "cells": [
  {
   "cell_type": "markdown",
   "metadata": {
    "colab_type": "text",
    "id": "-FKyv-zGM8f8"
   },
   "source": [
    "# Kaggle competition: Predicting House Prices 202003"
   ]
  },
  {
   "cell_type": "code",
   "execution_count": 79,
   "metadata": {
    "colab": {
     "base_uri": "https://localhost:8080/",
     "height": 356
    },
    "colab_type": "code",
    "id": "9AC4Bmq3nYsx",
    "outputId": "e2854d1c-a324-4e1b-cdb8-3f5f510cb520"
   },
   "outputs": [],
   "source": [
    "#pip install pandasql"
   ]
  },
  {
   "cell_type": "code",
   "execution_count": 80,
   "metadata": {},
   "outputs": [],
   "source": [
    "#conda install -c conda-forge shap"
   ]
  },
  {
   "cell_type": "code",
   "execution_count": 81,
   "metadata": {},
   "outputs": [],
   "source": [
    "#pip install xgboost"
   ]
  },
  {
   "cell_type": "code",
   "execution_count": 82,
   "metadata": {},
   "outputs": [],
   "source": [
    "#pip install google"
   ]
  },
  {
   "cell_type": "code",
   "execution_count": 83,
   "metadata": {
    "colab": {
     "base_uri": "https://localhost:8080/",
     "height": 70
    },
    "colab_type": "code",
    "id": "qj-szKGrM8gR",
    "outputId": "bdcd1bad-dd20-4372-af6d-b143d513caae"
   },
   "outputs": [],
   "source": [
    "import pandas as pd\n",
    "import numpy as np\n",
    "from sklearn import tree\n",
    "from sklearn.tree import plot_tree\n",
    "from sklearn.tree import DecisionTreeClassifier\n",
    "from sklearn.tree import DecisionTreeRegressor\n",
    "from sklearn.model_selection import train_test_split\n",
    "from sklearn import metrics\n",
    "from sklearn.linear_model import LinearRegression\n",
    "from sklearn.model_selection import cross_val_score\n",
    "from sklearn.metrics import mean_squared_log_error\n",
    "import statsmodels.api as sm\n",
    "from statsmodels.formula.api import ols\n",
    "from sklearn.preprocessing import StandardScaler\n",
    "from pydoc import help\n",
    "import scipy.stats as stats\n",
    "from scipy.stats.stats import pearsonr\n",
    "from statsmodels.stats.multicomp import pairwise_tukeyhsd\n",
    "from statsmodels.stats.multicomp import MultiComparison\n",
    "from scipy.stats.stats import kendalltau\n",
    "from sklearn import svm\n",
    "from sklearn.svm import SVR\n",
    "from sklearn.ensemble import RandomForestRegressor\n",
    "import matplotlib.pyplot as plt\n",
    "import pandasql as ps\n",
    "from sklearn.feature_selection import RFE\n",
    "from sklearn.inspection import permutation_importance\n",
    "import shap\n",
    "from xgboost import XGBRegressor\n",
    "import math\n",
    "from scipy.stats import skew"
   ]
  },
  {
   "cell_type": "code",
   "execution_count": 84,
   "metadata": {
    "colab": {},
    "colab_type": "code",
    "id": "hf3D0SX_M8gl"
   },
   "outputs": [],
   "source": [
    "#conda install -c conda-forge scikit-learn"
   ]
  },
  {
   "cell_type": "code",
   "execution_count": 85,
   "metadata": {
    "colab": {},
    "colab_type": "code",
    "id": "b82YpoRrM8gv"
   },
   "outputs": [],
   "source": [
    "#conda update -n base -c defaults conda"
   ]
  },
  {
   "cell_type": "code",
   "execution_count": 86,
   "metadata": {
    "colab": {},
    "colab_type": "code",
    "id": "MRpdzhnTM8hP"
   },
   "outputs": [],
   "source": [
    "def correlated_variables(data,obj_variable,min_abs_corr=0.6):\n",
    "    \"\"\"\n",
    "    Generates a DataFrame with the correlations and variables that are higher than \"min_corr\" for variable selection.\n",
    "    data: DataFrame. Correlation matrix only for numeric variables and including objective variable.\n",
    "    min_abs_corr: int. Minimum absolute correlation that will be selected as high correlated\n",
    "    obj_variable: string. Name of the objective variable for the model\n",
    "    \"\"\"\n",
    "    high_corr = pd.DataFrame(columns=['Variable1','Variable2','Corr_V1&V2','Corr_V1&Obj','Corr_V2&Obj'])\n",
    "    k=1\n",
    "    obj_var_pos = data.columns.get_loc(obj_variable)\n",
    "    for i in range(0,len(data)):\n",
    "        for j in range(k,len(data)):\n",
    "            if(np.absolute(data.iloc[i,j])>=min_abs_corr and j!=obj_var_pos):\n",
    "                a = data.index[i]\n",
    "                b = data.columns[j]\n",
    "                c = data.iloc[i,j]\n",
    "                d = data.iloc[i,obj_var_pos]\n",
    "                e = data.iloc[j,obj_var_pos]\n",
    "                high_corr = high_corr.append(pd.DataFrame([[a,b,c,d,e]],columns=high_corr.columns))\n",
    "        k+=1\n",
    "    return high_corr.sort_values('Corr_V1&V2',ascending=False)"
   ]
  },
  {
   "cell_type": "code",
   "execution_count": 87,
   "metadata": {
    "colab": {},
    "colab_type": "code",
    "id": "E8NkXbUVM8hi"
   },
   "outputs": [],
   "source": [
    "def null_info(df):\n",
    "    null_count = df.isna().sum().to_frame()\n",
    "    null_count.columns = ['#_NA'] \n",
    "    null_count['%'] = null_count*100/len(df)\n",
    "    #null_count[null_count['%']>30].sort_values('%',ascending=False)\n",
    "    df_dtypes = df.dtypes.to_frame()\n",
    "    df_dtypes.columns = ['data_type']\n",
    "    return null_count.merge(df_dtypes,how='left',left_on=null_count.index,right_on=df_dtypes.index).sort_values('%',ascending=False)\n"
   ]
  },
  {
   "cell_type": "code",
   "execution_count": 88,
   "metadata": {
    "colab": {},
    "colab_type": "code",
    "id": "RWGbN3x9M8h2"
   },
   "outputs": [],
   "source": [
    "#Generate 'Empty' category for categorical variables and fill with 0 numerical ones\n",
    "def fill_missing_values(data):\n",
    "    \"\"\"\n",
    "    Fill missing values with category 'Empty' for categorical variables and 0 for numerical\n",
    "    Data: DataFrame. Contains the data that will be analyzed\n",
    "    \"\"\"\n",
    "    df1 = data.copy()\n",
    "    for i in df1:\n",
    "        if df1[i].dtypes == 'object': \n",
    "            #print('Transforming column: ',i,'\\n')\n",
    "            df1[i].fillna('Empty',inplace=True)\n",
    "        else:\n",
    "            df1[i].fillna(0,inplace=True)\n",
    "    return df1"
   ]
  },
  {
   "cell_type": "code",
   "execution_count": 89,
   "metadata": {
    "colab": {},
    "colab_type": "code",
    "id": "8auqBgQuM8iS"
   },
   "outputs": [],
   "source": [
    "from sklearn.utils import check_array\n",
    "def mean_absolute_percentage_error(y_true, y_pred): \n",
    "    \"\"\"\n",
    "    Returns the mean absolute percentage error\n",
    "    y_true: 1d array. Real values of \"y\"\n",
    "    y_pred: 1d array. Predicted values of \"y\"\n",
    "    \"\"\"\n",
    "    #y_true, y_pred = check_array(y_true, y_pred)\n",
    "\n",
    "    ## Note: does not handle mix 1d representation\n",
    "    #if _is_1d(y_true): \n",
    "    #    y_true, y_pred = _check_1d_array(y_true, y_pred)\n",
    "\n",
    "    return np.mean(np.abs((y_true - y_pred) / y_true)) * 100"
   ]
  },
  {
   "cell_type": "code",
   "execution_count": 90,
   "metadata": {
    "colab": {},
    "colab_type": "code",
    "id": "u-RA5QXGM8ic"
   },
   "outputs": [],
   "source": [
    "def pearson_filtering(data,obj_variable,max_pvalue=0.05,min_abs_pearson=0.5):\n",
    "    \"\"\"\n",
    "    Returns DataFrame with the pearson correlation and p-values for numerical variables of \"data\" with a higher correlation than \"threshold\" with the \"obj_variable\"\n",
    "    data: Data Frame containing numerical and categorical variables as well as the objective variable\n",
    "    max_pvalue: float/int. Maximum pvalue for numeric variables correlation\n",
    "    min_abs_pearson: float/int. Minimum absolute pearson correlation between the regressor variables and objective variable (\"obj_variable\")\n",
    "    obj_variable: string. Name of the objective variable within \"data\"\n",
    "    \"\"\"\n",
    "    data_corr = data.loc[:,data.dtypes!='object'].corr()\n",
    "    selected_numerical = data_corr[data_corr[obj_variable].abs()>min_abs_pearson][obj_variable]\n",
    "    try:\n",
    "        selected_numerical.drop([obj_variable],inplace=True)\n",
    "    except (KeyError):\n",
    "        pass\n",
    "\n",
    "    #Calculate P-values and filtering significant variables (<5%)\n",
    "    pearson_stats = [pearsonr(data[i].to_numpy(),data[obj_variable]) for i in data[selected_numerical.index]]\n",
    "    result = pd.DataFrame(pearson_stats,columns=['Corr_Coef','P-value'],index=selected_numerical.index)\n",
    "    result['abs_corr'] = result['Corr_Coef'].abs()\n",
    "    return result[result['P-value']<max_pvalue].sort_values('abs_corr',ascending=False).drop('abs_corr',axis=1)"
   ]
  },
  {
   "cell_type": "code",
   "execution_count": 91,
   "metadata": {
    "colab": {},
    "colab_type": "code",
    "id": "LVWnppDMM8io"
   },
   "outputs": [],
   "source": [
    "def cross_plot(data, barra, variable, categorias, size=(10,7), titulo = None, order=1):\n",
    "    \"\"\"\n",
    "    Generates double axis plot with lines and bars\n",
    "    data: DataFrame. With data for the plot.\n",
    "    barra: String. Name of the column of \"data\" that will be represented as bars.\n",
    "    variable: String. Name of the column of \"data\" that will be represented as a line.\n",
    "    categorias: String. Name of the column of \"data\" that will be used as the x-axis categories.\n",
    "    titulo: String. Title of the graph.\n",
    "    order: Int. 1 means \"categorias\" will be ordered.\n",
    "    \"\"\"\n",
    "    fig, ax1 = plt.subplots(figsize=size)\n",
    "    ax2 = ax1.twinx()\n",
    "    if order==1:\n",
    "        data = data.sort_values(barra).reset_index(drop=True)\n",
    "    data[barra].plot(kind='bar', color='b', ax=ax1, label=barra)\n",
    "    try:\n",
    "        for v in variable:\n",
    "            data[v].plot(kind='line', marker='d', ax=ax2, label=v)\n",
    "    except:\n",
    "        data[variable].plot(kind='line',color='r', marker='d', ax=ax2, label=variable)\n",
    "    ax1.yaxis.tick_left()\n",
    "    ax2.yaxis.tick_right()\n",
    "    ticks = data[categorias]\n",
    "    plt.xticks(np.arange(ticks.unique().shape[0]),ticks)\n",
    "    plt.xticks(rotation=60)\n",
    "    \n",
    "    n_cat = data.shape[0]\n",
    "    max_height = data[variable].max()\n",
    "    min_height = data[variable].min()\n",
    "    plt.xlim(-0.5,n_cat-0.5)\n",
    "    plt.ylim(min_height*0.95,max_height*1.05)\n",
    "    \n",
    "    plt.title(titulo)\n",
    "    ax1.set_xlabel(categorias)\n",
    "    ax1.set_ylabel(barra)\n",
    "    ax2.set_ylabel(variable)\n",
    "    plt.legend()"
   ]
  },
  {
   "cell_type": "code",
   "execution_count": 92,
   "metadata": {
    "colab": {
     "base_uri": "https://localhost:8080/",
     "height": 34
    },
    "colab_type": "code",
    "id": "XalG4xw-M8jN",
    "outputId": "cf96bd41-1997-4709-93f7-3d191e8c31a3"
   },
   "outputs": [
    {
     "data": {
      "text/plain": [
       "(1459, 80)"
      ]
     },
     "execution_count": 92,
     "metadata": {},
     "output_type": "execute_result"
    }
   ],
   "source": [
    "datasets = {}\n",
    "datasets['0.test_original'] = pd.read_csv('https://raw.githubusercontent.com/tgrasty/house_prices/master/test.csv')\n",
    "datasets['0.test_original'].shape"
   ]
  },
  {
   "cell_type": "code",
   "execution_count": 93,
   "metadata": {
    "colab": {},
    "colab_type": "code",
    "id": "kKR3uRkWM8i1"
   },
   "outputs": [],
   "source": [
    "path = 'https://raw.githubusercontent.com/tgrasty/house_prices/master/train.csv'"
   ]
  },
  {
   "cell_type": "code",
   "execution_count": 94,
   "metadata": {
    "colab": {},
    "colab_type": "code",
    "id": "Fo5LV_taM8i-"
   },
   "outputs": [],
   "source": [
    "df = pd.read_csv(path)"
   ]
  },
  {
   "cell_type": "code",
   "execution_count": 95,
   "metadata": {
    "colab": {},
    "colab_type": "code",
    "id": "ouC10-jJM8jG"
   },
   "outputs": [],
   "source": [
    "datasets['1.train_original'] = df"
   ]
  },
  {
   "cell_type": "code",
   "execution_count": 96,
   "metadata": {
    "colab": {
     "base_uri": "https://localhost:8080/",
     "height": 34
    },
    "colab_type": "code",
    "id": "eiM6CCL5M8jV",
    "outputId": "d9d16468-0863-47ef-d28e-ecf8f7a6f5e7"
   },
   "outputs": [
    {
     "data": {
      "text/plain": [
       "(1460, 81)"
      ]
     },
     "execution_count": 96,
     "metadata": {},
     "output_type": "execute_result"
    }
   ],
   "source": [
    "df.shape"
   ]
  },
  {
   "cell_type": "code",
   "execution_count": 97,
   "metadata": {
    "colab": {
     "base_uri": "https://localhost:8080/",
     "height": 34
    },
    "colab_type": "code",
    "id": "yy1ALNZcM8jd",
    "outputId": "74e8dc9b-6bd5-4eee-87ee-217e0f617fa3"
   },
   "outputs": [
    {
     "data": {
      "text/plain": [
       "dict_keys(['0.test_original', '1.train_original'])"
      ]
     },
     "execution_count": 97,
     "metadata": {},
     "output_type": "execute_result"
    }
   ],
   "source": [
    "pd.set_option('display.max_rows', 100)\n",
    "datasets.keys()"
   ]
  },
  {
   "cell_type": "code",
   "execution_count": 98,
   "metadata": {
    "colab": {
     "base_uri": "https://localhost:8080/",
     "height": 195
    },
    "colab_type": "code",
    "id": "7DwMUrS-M8jp",
    "outputId": "ce5a4f7f-7bf1-43b6-8975-dc737fb9ba2b"
   },
   "outputs": [
    {
     "data": {
      "text/html": [
       "<div>\n",
       "<style scoped>\n",
       "    .dataframe tbody tr th:only-of-type {\n",
       "        vertical-align: middle;\n",
       "    }\n",
       "\n",
       "    .dataframe tbody tr th {\n",
       "        vertical-align: top;\n",
       "    }\n",
       "\n",
       "    .dataframe thead th {\n",
       "        text-align: right;\n",
       "    }\n",
       "</style>\n",
       "<table border=\"1\" class=\"dataframe\">\n",
       "  <thead>\n",
       "    <tr style=\"text-align: right;\">\n",
       "      <th></th>\n",
       "      <th>key_0</th>\n",
       "      <th>0_x</th>\n",
       "      <th>0_y</th>\n",
       "      <th>1</th>\n",
       "      <th>2</th>\n",
       "      <th>3</th>\n",
       "      <th>4</th>\n",
       "    </tr>\n",
       "  </thead>\n",
       "  <tbody>\n",
       "    <tr>\n",
       "      <th>0</th>\n",
       "      <td>Id</td>\n",
       "      <td>int64</td>\n",
       "      <td>1</td>\n",
       "      <td>2</td>\n",
       "      <td>3</td>\n",
       "      <td>4</td>\n",
       "      <td>5</td>\n",
       "    </tr>\n",
       "    <tr>\n",
       "      <th>1</th>\n",
       "      <td>MSSubClass</td>\n",
       "      <td>int64</td>\n",
       "      <td>60</td>\n",
       "      <td>20</td>\n",
       "      <td>60</td>\n",
       "      <td>70</td>\n",
       "      <td>60</td>\n",
       "    </tr>\n",
       "    <tr>\n",
       "      <th>2</th>\n",
       "      <td>MSZoning</td>\n",
       "      <td>object</td>\n",
       "      <td>RL</td>\n",
       "      <td>RL</td>\n",
       "      <td>RL</td>\n",
       "      <td>RL</td>\n",
       "      <td>RL</td>\n",
       "    </tr>\n",
       "    <tr>\n",
       "      <th>3</th>\n",
       "      <td>LotFrontage</td>\n",
       "      <td>float64</td>\n",
       "      <td>65</td>\n",
       "      <td>80</td>\n",
       "      <td>68</td>\n",
       "      <td>60</td>\n",
       "      <td>84</td>\n",
       "    </tr>\n",
       "    <tr>\n",
       "      <th>4</th>\n",
       "      <td>LotArea</td>\n",
       "      <td>int64</td>\n",
       "      <td>8450</td>\n",
       "      <td>9600</td>\n",
       "      <td>11250</td>\n",
       "      <td>9550</td>\n",
       "      <td>14260</td>\n",
       "    </tr>\n",
       "  </tbody>\n",
       "</table>\n",
       "</div>"
      ],
      "text/plain": [
       "         key_0      0_x   0_y     1      2     3      4\n",
       "0           Id    int64     1     2      3     4      5\n",
       "1   MSSubClass    int64    60    20     60    70     60\n",
       "2     MSZoning   object    RL    RL     RL    RL     RL\n",
       "3  LotFrontage  float64    65    80     68    60     84\n",
       "4      LotArea    int64  8450  9600  11250  9550  14260"
      ]
     },
     "execution_count": 98,
     "metadata": {},
     "output_type": "execute_result"
    }
   ],
   "source": [
    "# Check data types\n",
    "sample = df.head().transpose()\n",
    "types = df.dtypes.to_frame()\n",
    "types.merge(sample,how='left',left_on=types.index,right_on=sample.index).head()"
   ]
  },
  {
   "cell_type": "code",
   "execution_count": 99,
   "metadata": {
    "colab": {},
    "colab_type": "code",
    "id": "YAEtzS6oB4kR"
   },
   "outputs": [],
   "source": [
    "quantitative = [f for f in df.columns if df.dtypes[f] != 'object']\n",
    "quantitative.remove('SalePrice')\n",
    "quantitative.remove('Id')\n",
    "qualitative = [f for f in df.columns if df.dtypes[f] == 'object']"
   ]
  },
  {
   "cell_type": "code",
   "execution_count": 100,
   "metadata": {
    "colab": {
     "base_uri": "https://localhost:8080/",
     "height": 34
    },
    "colab_type": "code",
    "id": "UctVo0NDC2I1",
    "outputId": "4a629df4-0110-4146-9c12-313faf9f2881"
   },
   "outputs": [
    {
     "name": "stdout",
     "output_type": "stream",
     "text": [
      "False\n"
     ]
    }
   ],
   "source": [
    "test_normality = lambda x: stats.shapiro(x.fillna(0))[1] <0.01\n",
    "normal = pd.DataFrame(df[quantitative])\n",
    "normal = normal.apply(test_normality)\n",
    "print(not normal.any())\n"
   ]
  },
  {
   "cell_type": "code",
   "execution_count": 101,
   "metadata": {
    "colab": {
     "base_uri": "https://localhost:8080/",
     "height": 590
    },
    "colab_type": "code",
    "id": "mEiJb6InHQRI",
    "outputId": "eda3be76-1a09-49da-8176-8606019db43e"
   },
   "outputs": [
    {
     "data": {
      "text/plain": [
       "<matplotlib.axes._subplots.AxesSubplot at 0x20953c4f108>"
      ]
     },
     "execution_count": 101,
     "metadata": {},
     "output_type": "execute_result"
    },
    {
     "data": {
      "image/png": "[encoded data removed]",
      "text/plain": [
       "<Figure size 432x288 with 1 Axes>"
      ]
     },
     "metadata": {
      "needs_background": "light"
     },
     "output_type": "display_data"
    },
    {
     "data": {
      "image/png": "[encoded data removed]",
      "text/plain": [
       "<Figure size 432x288 with 1 Axes>"
      ]
     },
     "metadata": {
      "needs_background": "light"
     },
     "output_type": "display_data"
    }
   ],
   "source": [
    "import seaborn as sns\n",
    "y = df['SalePrice']\n",
    "plt.figure(1); plt.title('Normal')\n",
    "sns.distplot(y, kde=False, fit=stats.norm)\n",
    "plt.figure(2); plt.title('Log Normal')\n",
    "sns.distplot(y, kde=False, fit=stats.lognorm)"
   ]
  },
  {
   "cell_type": "markdown",
   "metadata": {
    "colab_type": "text",
    "id": "cL0XgDm3M8j3"
   },
   "source": [
    "### Data Cleansing\n"
   ]
  },
  {
   "cell_type": "code",
   "execution_count": 102,
   "metadata": {
    "colab": {
     "base_uri": "https://localhost:8080/",
     "height": 195
    },
    "colab_type": "code",
    "id": "rCaNoQZ2M8j5",
    "outputId": "24fb262c-8d11-46cc-cd4e-4b880536fa08"
   },
   "outputs": [
    {
     "data": {
      "text/html": [
       "<div>\n",
       "<style scoped>\n",
       "    .dataframe tbody tr th:only-of-type {\n",
       "        vertical-align: middle;\n",
       "    }\n",
       "\n",
       "    .dataframe tbody tr th {\n",
       "        vertical-align: top;\n",
       "    }\n",
       "\n",
       "    .dataframe thead th {\n",
       "        text-align: right;\n",
       "    }\n",
       "</style>\n",
       "<table border=\"1\" class=\"dataframe\">\n",
       "  <thead>\n",
       "    <tr style=\"text-align: right;\">\n",
       "      <th></th>\n",
       "      <th>key_0</th>\n",
       "      <th>#_NA</th>\n",
       "      <th>%</th>\n",
       "      <th>data_type</th>\n",
       "    </tr>\n",
       "  </thead>\n",
       "  <tbody>\n",
       "    <tr>\n",
       "      <th>72</th>\n",
       "      <td>PoolQC</td>\n",
       "      <td>1453</td>\n",
       "      <td>99.520548</td>\n",
       "      <td>object</td>\n",
       "    </tr>\n",
       "    <tr>\n",
       "      <th>74</th>\n",
       "      <td>MiscFeature</td>\n",
       "      <td>1406</td>\n",
       "      <td>96.301370</td>\n",
       "      <td>object</td>\n",
       "    </tr>\n",
       "    <tr>\n",
       "      <th>6</th>\n",
       "      <td>Alley</td>\n",
       "      <td>1369</td>\n",
       "      <td>93.767123</td>\n",
       "      <td>object</td>\n",
       "    </tr>\n",
       "    <tr>\n",
       "      <th>73</th>\n",
       "      <td>Fence</td>\n",
       "      <td>1179</td>\n",
       "      <td>80.753425</td>\n",
       "      <td>object</td>\n",
       "    </tr>\n",
       "    <tr>\n",
       "      <th>57</th>\n",
       "      <td>FireplaceQu</td>\n",
       "      <td>690</td>\n",
       "      <td>47.260274</td>\n",
       "      <td>object</td>\n",
       "    </tr>\n",
       "  </tbody>\n",
       "</table>\n",
       "</div>"
      ],
      "text/plain": [
       "          key_0  #_NA          % data_type\n",
       "72       PoolQC  1453  99.520548    object\n",
       "74  MiscFeature  1406  96.301370    object\n",
       "6         Alley  1369  93.767123    object\n",
       "73        Fence  1179  80.753425    object\n",
       "57  FireplaceQu   690  47.260274    object"
      ]
     },
     "execution_count": 102,
     "metadata": {},
     "output_type": "execute_result"
    }
   ],
   "source": [
    "df_nulls = null_info(df)\n",
    "df_nulls.head()\n",
    "#df_nulls[df_nulls['%']>0].sort_values('%',ascending=False)"
   ]
  },
  {
   "cell_type": "code",
   "execution_count": 103,
   "metadata": {
    "colab": {
     "base_uri": "https://localhost:8080/",
     "height": 34
    },
    "colab_type": "code",
    "id": "gtaqvSF1NG8G",
    "outputId": "ac97d613-65fd-4c42-e622-eef184fa3504"
   },
   "outputs": [
    {
     "data": {
      "text/plain": [
       "dict_keys(['0.test_original', '1.train_original'])"
      ]
     },
     "execution_count": 103,
     "metadata": {},
     "output_type": "execute_result"
    }
   ],
   "source": [
    "datasets.keys()"
   ]
  },
  {
   "cell_type": "code",
   "execution_count": 104,
   "metadata": {
    "colab": {},
    "colab_type": "code",
    "id": "EaKMNuS5M8kB"
   },
   "outputs": [],
   "source": [
    "features = pd.concat([df.drop('SalePrice',axis=1),datasets['0.test_original']]).reset_index(drop=True)\n",
    "df1 = fill_missing_values(features)"
   ]
  },
  {
   "cell_type": "code",
   "execution_count": 105,
   "metadata": {
    "colab": {
     "base_uri": "https://localhost:8080/",
     "height": 47
    },
    "colab_type": "code",
    "id": "OWpCEHlFM8kH",
    "outputId": "0786356f-d4e3-463e-cb9c-8a6730709057"
   },
   "outputs": [
    {
     "data": {
      "text/html": [
       "<div>\n",
       "<style scoped>\n",
       "    .dataframe tbody tr th:only-of-type {\n",
       "        vertical-align: middle;\n",
       "    }\n",
       "\n",
       "    .dataframe tbody tr th {\n",
       "        vertical-align: top;\n",
       "    }\n",
       "\n",
       "    .dataframe thead th {\n",
       "        text-align: right;\n",
       "    }\n",
       "</style>\n",
       "<table border=\"1\" class=\"dataframe\">\n",
       "  <thead>\n",
       "    <tr style=\"text-align: right;\">\n",
       "      <th></th>\n",
       "      <th>key_0</th>\n",
       "      <th>#_NA</th>\n",
       "      <th>%</th>\n",
       "      <th>data_type</th>\n",
       "    </tr>\n",
       "  </thead>\n",
       "  <tbody>\n",
       "  </tbody>\n",
       "</table>\n",
       "</div>"
      ],
      "text/plain": [
       "Empty DataFrame\n",
       "Columns: [key_0, #_NA, %, data_type]\n",
       "Index: []"
      ]
     },
     "execution_count": 105,
     "metadata": {},
     "output_type": "execute_result"
    }
   ],
   "source": [
    "df1_nulls = null_info(df1)\n",
    "df1_nulls[df1_nulls['%']>0].sort_values('%',ascending=False)"
   ]
  },
  {
   "cell_type": "markdown",
   "metadata": {
    "colab_type": "text",
    "id": "RutTYnj1M8kO"
   },
   "source": [
    "#### Correction of data types"
   ]
  },
  {
   "cell_type": "code",
   "execution_count": 106,
   "metadata": {
    "colab": {
     "base_uri": "https://localhost:8080/",
     "height": 34
    },
    "colab_type": "code",
    "id": "1ZxYqBz2M8kR",
    "outputId": "6fcdedea-e2b5-40d8-d496-5c79bf31bab7"
   },
   "outputs": [
    {
     "data": {
      "text/plain": [
       "array(['Y', 'N'], dtype=object)"
      ]
     },
     "execution_count": 106,
     "metadata": {},
     "output_type": "execute_result"
    }
   ],
   "source": [
    "df1['CentralAir'].unique()"
   ]
  },
  {
   "cell_type": "code",
   "execution_count": 107,
   "metadata": {
    "colab": {},
    "colab_type": "code",
    "id": "cZOjACKTM8kY"
   },
   "outputs": [],
   "source": [
    "#CentralAir -> transform to binary\n",
    "df1['CentralAir'] = df1['CentralAir'].map(lambda x: 1 if x=='Y' else 0)"
   ]
  },
  {
   "cell_type": "code",
   "execution_count": 108,
   "metadata": {
    "colab": {},
    "colab_type": "code",
    "id": "5vfWzV_zM8kj"
   },
   "outputs": [],
   "source": [
    "#Correct current numeric variables that represent categories: transform to string\n",
    "to_string = ['MSSubClass','YearBuilt','YearRemodAdd','GarageYrBlt','MoSold','YrSold']\n",
    "new_categorical = df1[to_string].astype(str)\n",
    "df1.drop(to_string,axis=1,inplace=True)\n",
    "df1 = pd.concat([df1,new_categorical],axis=1)"
   ]
  },
  {
   "cell_type": "code",
   "execution_count": 109,
   "metadata": {
    "colab": {
     "base_uri": "https://localhost:8080/",
     "height": 34
    },
    "colab_type": "code",
    "id": "AbT9reucM8ks",
    "outputId": "b86f3192-1294-4e31-f363-f8a5b60dd328"
   },
   "outputs": [
    {
     "data": {
      "text/plain": [
       "dtype('O')"
      ]
     },
     "execution_count": 109,
     "metadata": {},
     "output_type": "execute_result"
    }
   ],
   "source": [
    "df1.MSSubClass.dtypes"
   ]
  },
  {
   "cell_type": "markdown",
   "metadata": {
    "colab_type": "text",
    "id": "DXBhZ3MSM8kz"
   },
   "source": [
    "###  Variable Generation"
   ]
  },
  {
   "cell_type": "code",
   "execution_count": 110,
   "metadata": {
    "colab": {},
    "colab_type": "code",
    "id": "PkZgupBPM8k0"
   },
   "outputs": [],
   "source": [
    "df1['TotalArea'] = df1.PoolArea+df1.LotArea+df1.GrLivArea+df1.GarageArea"
   ]
  },
  {
   "cell_type": "code",
   "execution_count": 111,
   "metadata": {
    "colab": {},
    "colab_type": "code",
    "id": "ir04Jxe1M8k9"
   },
   "outputs": [],
   "source": [
    "#features_subset = df.loc[:,['Neighborhood','TotalArea','OveralQual','HeatingQC','CentralAir','SaleCondition']]\n",
    "df1['TotalLivingArea'] = df1['1stFlrSF']+df1['2ndFlrSF']"
   ]
  },
  {
   "cell_type": "code",
   "execution_count": 112,
   "metadata": {
    "colab": {},
    "colab_type": "code",
    "id": "VSszOtKZQ7Or"
   },
   "outputs": [],
   "source": [
    "df1['YrBltAndRemod']=df1['YearBuilt']+df1['YearRemodAdd']\n",
    "df1['TotalSF']=df1['TotalBsmtSF'] + df1['1stFlrSF'] + df1['2ndFlrSF']\n",
    " \n",
    "df1['TotalSqrFootage'] = (df1['BsmtFinSF1'] + df1['BsmtFinSF2'] +\n",
    "                                 df1['1stFlrSF'] + df1['2ndFlrSF'])\n",
    " \n",
    "df1['TotalBathrooms'] = (df1['FullBath'] + (0.5 * df1['HalfBath']) +\n",
    "                               df1['BsmtFullBath'] + (0.5 * df1['BsmtHalfBath']))\n",
    " \n",
    "df1['TotalPorchSf'] = (df1['OpenPorchSF'] + df1['3SsnPorch'] +\n",
    "                              df1['EnclosedPorch'] + df1['ScreenPorch'] +\n",
    "                              df1['WoodDeckSF'])\n",
    "df1['haspool'] = df1['PoolArea'].apply(lambda x: 1 if x > 0 else 0)\n",
    "df1['has2ndfloor'] = df1['2ndFlrSF'].apply(lambda x: 1 if x > 0 else 0)\n",
    "df1['hasgarage'] = df1['GarageArea'].apply(lambda x: 1 if x > 0 else 0)\n",
    "df1['hasbsmt'] = df1['TotalBsmtSF'].apply(lambda x: 1 if x > 0 else 0)\n",
    "df1['hasfireplace'] = df1['Fireplaces'].apply(lambda x: 1 if x > 0 else 0)"
   ]
  },
  {
   "cell_type": "code",
   "execution_count": 113,
   "metadata": {
    "colab": {},
    "colab_type": "code",
    "id": "eBiKIStrM8lD"
   },
   "outputs": [],
   "source": [
    "datasets['2.train+test_cleaned+new features'] = df1"
   ]
  },
  {
   "cell_type": "code",
   "execution_count": 114,
   "metadata": {
    "colab": {
     "base_uri": "https://localhost:8080/",
     "height": 34
    },
    "colab_type": "code",
    "id": "KZ537UdiM8lK",
    "outputId": "211a4a35-4d6b-49c7-829c-4e0a34b00635"
   },
   "outputs": [
    {
     "data": {
      "text/plain": [
       "dict_keys(['0.test_original', '1.train_original', '2.train+test_cleaned+new features'])"
      ]
     },
     "execution_count": 114,
     "metadata": {},
     "output_type": "execute_result"
    }
   ],
   "source": [
    "datasets.keys()"
   ]
  },
  {
   "cell_type": "markdown",
   "metadata": {
    "colab_type": "text",
    "id": "ctdcCv1tM8ly"
   },
   "source": [
    "### Variable Selection"
   ]
  },
  {
   "cell_type": "markdown",
   "metadata": {
    "colab_type": "text",
    "id": "M4597JlWM8l6"
   },
   "source": [
    "#### Filtering features: Pearson correlation"
   ]
  },
  {
   "cell_type": "code",
   "execution_count": 115,
   "metadata": {
    "colab": {
     "base_uri": "https://localhost:8080/",
     "height": 0
    },
    "colab_type": "code",
    "id": "EKU-ATsCORXK",
    "outputId": "2cf29cee-4998-49bf-e7a3-d6b565496baa"
   },
   "outputs": [
    {
     "data": {
      "text/html": [
       "<div>\n",
       "<style scoped>\n",
       "    .dataframe tbody tr th:only-of-type {\n",
       "        vertical-align: middle;\n",
       "    }\n",
       "\n",
       "    .dataframe tbody tr th {\n",
       "        vertical-align: top;\n",
       "    }\n",
       "\n",
       "    .dataframe thead th {\n",
       "        text-align: right;\n",
       "    }\n",
       "</style>\n",
       "<table border=\"1\" class=\"dataframe\">\n",
       "  <thead>\n",
       "    <tr style=\"text-align: right;\">\n",
       "      <th></th>\n",
       "      <th>LotFrontage</th>\n",
       "      <th>LotArea</th>\n",
       "      <th>OverallQual</th>\n",
       "      <th>OverallCond</th>\n",
       "      <th>MasVnrArea</th>\n",
       "      <th>BsmtFinSF1</th>\n",
       "      <th>BsmtFinSF2</th>\n",
       "      <th>BsmtUnfSF</th>\n",
       "      <th>TotalBsmtSF</th>\n",
       "      <th>CentralAir</th>\n",
       "      <th>...</th>\n",
       "      <th>YrBltAndRemod_20052007</th>\n",
       "      <th>YrBltAndRemod_20062006</th>\n",
       "      <th>YrBltAndRemod_20062007</th>\n",
       "      <th>YrBltAndRemod_20072007</th>\n",
       "      <th>YrBltAndRemod_20072008</th>\n",
       "      <th>YrBltAndRemod_20082008</th>\n",
       "      <th>YrBltAndRemod_20082009</th>\n",
       "      <th>YrBltAndRemod_20092009</th>\n",
       "      <th>YrBltAndRemod_20092010</th>\n",
       "      <th>YrBltAndRemod_20102010</th>\n",
       "    </tr>\n",
       "  </thead>\n",
       "  <tbody>\n",
       "    <tr>\n",
       "      <th>0</th>\n",
       "      <td>0.212877</td>\n",
       "      <td>-0.207142</td>\n",
       "      <td>0.651479</td>\n",
       "      <td>-0.517200</td>\n",
       "      <td>0.514104</td>\n",
       "      <td>0.575425</td>\n",
       "      <td>-0.288653</td>\n",
       "      <td>-0.944591</td>\n",
       "      <td>-0.459303</td>\n",
       "      <td>0.263813</td>\n",
       "      <td>...</td>\n",
       "      <td>-0.045376</td>\n",
       "      <td>-0.180366</td>\n",
       "      <td>-0.120803</td>\n",
       "      <td>-0.154412</td>\n",
       "      <td>-0.101885</td>\n",
       "      <td>-0.105263</td>\n",
       "      <td>-0.069409</td>\n",
       "      <td>-0.098397</td>\n",
       "      <td>-0.052414</td>\n",
       "      <td>-0.02618</td>\n",
       "    </tr>\n",
       "    <tr>\n",
       "      <th>1</th>\n",
       "      <td>0.645747</td>\n",
       "      <td>-0.091886</td>\n",
       "      <td>-0.071836</td>\n",
       "      <td>2.179628</td>\n",
       "      <td>-0.570750</td>\n",
       "      <td>1.171992</td>\n",
       "      <td>-0.288653</td>\n",
       "      <td>-0.641228</td>\n",
       "      <td>0.466465</td>\n",
       "      <td>0.263813</td>\n",
       "      <td>...</td>\n",
       "      <td>-0.045376</td>\n",
       "      <td>-0.180366</td>\n",
       "      <td>-0.120803</td>\n",
       "      <td>-0.154412</td>\n",
       "      <td>-0.101885</td>\n",
       "      <td>-0.105263</td>\n",
       "      <td>-0.069409</td>\n",
       "      <td>-0.098397</td>\n",
       "      <td>-0.052414</td>\n",
       "      <td>-0.02618</td>\n",
       "    </tr>\n",
       "    <tr>\n",
       "      <th>2</th>\n",
       "      <td>0.299451</td>\n",
       "      <td>0.073480</td>\n",
       "      <td>0.651479</td>\n",
       "      <td>-0.517200</td>\n",
       "      <td>0.325915</td>\n",
       "      <td>0.092907</td>\n",
       "      <td>-0.288653</td>\n",
       "      <td>-0.301643</td>\n",
       "      <td>-0.313369</td>\n",
       "      <td>0.263813</td>\n",
       "      <td>...</td>\n",
       "      <td>-0.045376</td>\n",
       "      <td>-0.180366</td>\n",
       "      <td>-0.120803</td>\n",
       "      <td>-0.154412</td>\n",
       "      <td>-0.101885</td>\n",
       "      <td>-0.105263</td>\n",
       "      <td>-0.069409</td>\n",
       "      <td>-0.098397</td>\n",
       "      <td>-0.052414</td>\n",
       "      <td>-0.02618</td>\n",
       "    </tr>\n",
       "    <tr>\n",
       "      <th>3</th>\n",
       "      <td>0.068587</td>\n",
       "      <td>-0.096897</td>\n",
       "      <td>0.651479</td>\n",
       "      <td>-0.517200</td>\n",
       "      <td>-0.570750</td>\n",
       "      <td>-0.499274</td>\n",
       "      <td>-0.288653</td>\n",
       "      <td>-0.061670</td>\n",
       "      <td>-0.687324</td>\n",
       "      <td>0.263813</td>\n",
       "      <td>...</td>\n",
       "      <td>-0.045376</td>\n",
       "      <td>-0.180366</td>\n",
       "      <td>-0.120803</td>\n",
       "      <td>-0.154412</td>\n",
       "      <td>-0.101885</td>\n",
       "      <td>-0.105263</td>\n",
       "      <td>-0.069409</td>\n",
       "      <td>-0.098397</td>\n",
       "      <td>-0.052414</td>\n",
       "      <td>-0.02618</td>\n",
       "    </tr>\n",
       "    <tr>\n",
       "      <th>4</th>\n",
       "      <td>0.761179</td>\n",
       "      <td>0.375148</td>\n",
       "      <td>1.374795</td>\n",
       "      <td>-0.517200</td>\n",
       "      <td>1.366489</td>\n",
       "      <td>0.463568</td>\n",
       "      <td>-0.288653</td>\n",
       "      <td>-0.174865</td>\n",
       "      <td>0.199680</td>\n",
       "      <td>0.263813</td>\n",
       "      <td>...</td>\n",
       "      <td>-0.045376</td>\n",
       "      <td>-0.180366</td>\n",
       "      <td>-0.120803</td>\n",
       "      <td>-0.154412</td>\n",
       "      <td>-0.101885</td>\n",
       "      <td>-0.105263</td>\n",
       "      <td>-0.069409</td>\n",
       "      <td>-0.098397</td>\n",
       "      <td>-0.052414</td>\n",
       "      <td>-0.02618</td>\n",
       "    </tr>\n",
       "  </tbody>\n",
       "</table>\n",
       "<p>5 rows × 984 columns</p>\n",
       "</div>"
      ],
      "text/plain": [
       "   LotFrontage   LotArea  OverallQual  OverallCond  MasVnrArea  BsmtFinSF1  \\\n",
       "0     0.212877 -0.207142     0.651479    -0.517200    0.514104    0.575425   \n",
       "1     0.645747 -0.091886    -0.071836     2.179628   -0.570750    1.171992   \n",
       "2     0.299451  0.073480     0.651479    -0.517200    0.325915    0.092907   \n",
       "3     0.068587 -0.096897     0.651479    -0.517200   -0.570750   -0.499274   \n",
       "4     0.761179  0.375148     1.374795    -0.517200    1.366489    0.463568   \n",
       "\n",
       "   BsmtFinSF2  BsmtUnfSF  TotalBsmtSF  CentralAir  ...  \\\n",
       "0   -0.288653  -0.944591    -0.459303    0.263813  ...   \n",
       "1   -0.288653  -0.641228     0.466465    0.263813  ...   \n",
       "2   -0.288653  -0.301643    -0.313369    0.263813  ...   \n",
       "3   -0.288653  -0.061670    -0.687324    0.263813  ...   \n",
       "4   -0.288653  -0.174865     0.199680    0.263813  ...   \n",
       "\n",
       "   YrBltAndRemod_20052007  YrBltAndRemod_20062006  YrBltAndRemod_20062007  \\\n",
       "0               -0.045376               -0.180366               -0.120803   \n",
       "1               -0.045376               -0.180366               -0.120803   \n",
       "2               -0.045376               -0.180366               -0.120803   \n",
       "3               -0.045376               -0.180366               -0.120803   \n",
       "4               -0.045376               -0.180366               -0.120803   \n",
       "\n",
       "   YrBltAndRemod_20072007  YrBltAndRemod_20072008  YrBltAndRemod_20082008  \\\n",
       "0               -0.154412               -0.101885               -0.105263   \n",
       "1               -0.154412               -0.101885               -0.105263   \n",
       "2               -0.154412               -0.101885               -0.105263   \n",
       "3               -0.154412               -0.101885               -0.105263   \n",
       "4               -0.154412               -0.101885               -0.105263   \n",
       "\n",
       "   YrBltAndRemod_20082009  YrBltAndRemod_20092009  YrBltAndRemod_20092010  \\\n",
       "0               -0.069409               -0.098397               -0.052414   \n",
       "1               -0.069409               -0.098397               -0.052414   \n",
       "2               -0.069409               -0.098397               -0.052414   \n",
       "3               -0.069409               -0.098397               -0.052414   \n",
       "4               -0.069409               -0.098397               -0.052414   \n",
       "\n",
       "   YrBltAndRemod_20102010  \n",
       "0                -0.02618  \n",
       "1                -0.02618  \n",
       "2                -0.02618  \n",
       "3                -0.02618  \n",
       "4                -0.02618  \n",
       "\n",
       "[5 rows x 984 columns]"
      ]
     },
     "execution_count": 115,
     "metadata": {},
     "output_type": "execute_result"
    }
   ],
   "source": [
    "data = datasets['2.train+test_cleaned+new features'].iloc[:len(datasets['1.train_original']),:]\n",
    "data = pd.concat([data,datasets['1.train_original'].SalePrice],axis=1)\n",
    "data = pd.get_dummies(data,drop_first=True).drop('Id',axis=1)\n",
    "scaler = StandardScaler() \n",
    "numerical_std = pd.DataFrame(scaler.fit_transform(data),columns=data.columns)\n",
    "numerical_std.head()"
   ]
  },
  {
   "cell_type": "code",
   "execution_count": 116,
   "metadata": {
    "colab": {
     "base_uri": "https://localhost:8080/",
     "height": 0
    },
    "colab_type": "code",
    "id": "6LxdAtxWvgvZ",
    "outputId": "fd7c40a1-1b48-4581-d809-bf0944abc503"
   },
   "outputs": [
    {
     "data": {
      "text/plain": [
       "(1460, 984)"
      ]
     },
     "execution_count": 116,
     "metadata": {},
     "output_type": "execute_result"
    }
   ],
   "source": [
    "numerical_std.shape"
   ]
  },
  {
   "cell_type": "code",
   "execution_count": 117,
   "metadata": {
    "colab": {
     "base_uri": "https://localhost:8080/",
     "height": 0
    },
    "colab_type": "code",
    "id": "CKAffcF8M8l8",
    "outputId": "3b2edd81-d0d9-4dcd-f44f-0aa9e2e878c9"
   },
   "outputs": [
    {
     "data": {
      "text/html": [
       "<div>\n",
       "<style scoped>\n",
       "    .dataframe tbody tr th:only-of-type {\n",
       "        vertical-align: middle;\n",
       "    }\n",
       "\n",
       "    .dataframe tbody tr th {\n",
       "        vertical-align: top;\n",
       "    }\n",
       "\n",
       "    .dataframe thead th {\n",
       "        text-align: right;\n",
       "    }\n",
       "</style>\n",
       "<table border=\"1\" class=\"dataframe\">\n",
       "  <thead>\n",
       "    <tr style=\"text-align: right;\">\n",
       "      <th></th>\n",
       "      <th>Corr_Coef</th>\n",
       "      <th>P-value</th>\n",
       "    </tr>\n",
       "  </thead>\n",
       "  <tbody>\n",
       "    <tr>\n",
       "      <th>OverallQual</th>\n",
       "      <td>0.790982</td>\n",
       "      <td>2.185675e-313</td>\n",
       "    </tr>\n",
       "    <tr>\n",
       "      <th>TotalSF</th>\n",
       "      <td>0.782260</td>\n",
       "      <td>5.511173e-302</td>\n",
       "    </tr>\n",
       "    <tr>\n",
       "      <th>TotalLivingArea</th>\n",
       "      <td>0.716883</td>\n",
       "      <td>1.183941e-230</td>\n",
       "    </tr>\n",
       "    <tr>\n",
       "      <th>GrLivArea</th>\n",
       "      <td>0.708624</td>\n",
       "      <td>4.518034e-223</td>\n",
       "    </tr>\n",
       "    <tr>\n",
       "      <th>TotalSqrFootage</th>\n",
       "      <td>0.708047</td>\n",
       "      <td>1.497662e-222</td>\n",
       "    </tr>\n",
       "  </tbody>\n",
       "</table>\n",
       "</div>"
      ],
      "text/plain": [
       "                 Corr_Coef        P-value\n",
       "OverallQual       0.790982  2.185675e-313\n",
       "TotalSF           0.782260  5.511173e-302\n",
       "TotalLivingArea   0.716883  1.183941e-230\n",
       "GrLivArea         0.708624  4.518034e-223\n",
       "TotalSqrFootage   0.708047  1.497662e-222"
      ]
     },
     "execution_count": 117,
     "metadata": {},
     "output_type": "execute_result"
    }
   ],
   "source": [
    "pearson_importance = pearson_filtering(numerical_std,'SalePrice',max_pvalue=0.05,min_abs_pearson=0.0)\n",
    "pearson_importance.head()"
   ]
  },
  {
   "cell_type": "code",
   "execution_count": 118,
   "metadata": {
    "colab": {
     "base_uri": "https://localhost:8080/",
     "height": 0
    },
    "colab_type": "code",
    "id": "EAE_xnbwvLPq",
    "outputId": "3d4ff105-cb03-40d9-bd2d-443ef220cd8d"
   },
   "outputs": [
    {
     "data": {
      "text/plain": [
       "(313, 2)"
      ]
     },
     "execution_count": 118,
     "metadata": {},
     "output_type": "execute_result"
    }
   ],
   "source": [
    "pearson_importance.shape"
   ]
  },
  {
   "cell_type": "markdown",
   "metadata": {
    "colab_type": "text",
    "id": "hce-B3QkM8n5"
   },
   "source": [
    "### Correlation and Integration"
   ]
  },
  {
   "cell_type": "code",
   "execution_count": 119,
   "metadata": {
    "colab": {
     "base_uri": "https://localhost:8080/",
     "height": 0
    },
    "colab_type": "code",
    "id": "IEkzm4B0M8oO",
    "outputId": "702ca9e0-e5f7-41e8-e68d-885913dbe842",
    "scrolled": true
   },
   "outputs": [
    {
     "data": {
      "text/html": [
       "<div>\n",
       "<style scoped>\n",
       "    .dataframe tbody tr th:only-of-type {\n",
       "        vertical-align: middle;\n",
       "    }\n",
       "\n",
       "    .dataframe tbody tr th {\n",
       "        vertical-align: top;\n",
       "    }\n",
       "\n",
       "    .dataframe thead th {\n",
       "        text-align: right;\n",
       "    }\n",
       "</style>\n",
       "<table border=\"1\" class=\"dataframe\">\n",
       "  <thead>\n",
       "    <tr style=\"text-align: right;\">\n",
       "      <th></th>\n",
       "      <th>Variable1</th>\n",
       "      <th>Variable2</th>\n",
       "      <th>Corr_V1&amp;V2</th>\n",
       "      <th>Corr_V1&amp;Obj</th>\n",
       "      <th>Corr_V2&amp;Obj</th>\n",
       "    </tr>\n",
       "  </thead>\n",
       "  <tbody>\n",
       "    <tr>\n",
       "      <th>0</th>\n",
       "      <td>YearBuilt_1875</td>\n",
       "      <td>YrBltAndRemod_18751996</td>\n",
       "      <td>1.0</td>\n",
       "      <td>-0.028655</td>\n",
       "      <td>-0.028655</td>\n",
       "    </tr>\n",
       "    <tr>\n",
       "      <th>0</th>\n",
       "      <td>YearRemodAdd_1954</td>\n",
       "      <td>YrBltAndRemod_19541954</td>\n",
       "      <td>1.0</td>\n",
       "      <td>-0.074066</td>\n",
       "      <td>-0.074066</td>\n",
       "    </tr>\n",
       "    <tr>\n",
       "      <th>0</th>\n",
       "      <td>ExterCond_Po</td>\n",
       "      <td>YrBltAndRemod_19401966</td>\n",
       "      <td>1.0</td>\n",
       "      <td>-0.034424</td>\n",
       "      <td>-0.034424</td>\n",
       "    </tr>\n",
       "    <tr>\n",
       "      <th>0</th>\n",
       "      <td>Exterior1st_CBlock</td>\n",
       "      <td>Exterior2nd_CBlock</td>\n",
       "      <td>1.0</td>\n",
       "      <td>-0.025028</td>\n",
       "      <td>-0.025028</td>\n",
       "    </tr>\n",
       "    <tr>\n",
       "      <th>0</th>\n",
       "      <td>YearRemodAdd_1967</td>\n",
       "      <td>YrBltAndRemod_19671967</td>\n",
       "      <td>1.0</td>\n",
       "      <td>-0.056700</td>\n",
       "      <td>-0.056700</td>\n",
       "    </tr>\n",
       "  </tbody>\n",
       "</table>\n",
       "</div>"
      ],
      "text/plain": [
       "            Variable1               Variable2  Corr_V1&V2  Corr_V1&Obj  \\\n",
       "0      YearBuilt_1875  YrBltAndRemod_18751996         1.0    -0.028655   \n",
       "0   YearRemodAdd_1954  YrBltAndRemod_19541954         1.0    -0.074066   \n",
       "0        ExterCond_Po  YrBltAndRemod_19401966         1.0    -0.034424   \n",
       "0  Exterior1st_CBlock      Exterior2nd_CBlock         1.0    -0.025028   \n",
       "0   YearRemodAdd_1967  YrBltAndRemod_19671967         1.0    -0.056700   \n",
       "\n",
       "   Corr_V2&Obj  \n",
       "0    -0.028655  \n",
       "0    -0.074066  \n",
       "0    -0.034424  \n",
       "0    -0.025028  \n",
       "0    -0.056700  "
      ]
     },
     "execution_count": 119,
     "metadata": {},
     "output_type": "execute_result"
    }
   ],
   "source": [
    "correlation = numerical_std.corr()\n",
    "pre_selection = correlated_variables(correlation,'SalePrice')\n",
    "pre_selection.head()"
   ]
  },
  {
   "cell_type": "code",
   "execution_count": 120,
   "metadata": {
    "colab": {
     "base_uri": "https://localhost:8080/",
     "height": 0
    },
    "colab_type": "code",
    "id": "rn-LLzeoM8oX",
    "outputId": "56286955-0232-471e-8999-1aa26c00aea9"
   },
   "outputs": [
    {
     "data": {
      "text/html": [
       "['2ndFlrSF', 'Foundation_PConc', 'Condition1_Norm', 'ExterQual_Gd', 'Foundation_PConc', 'BsmtFinSF1', 'Condition2_Norm', 'BsmtCond_TA', 'SaleType_New', 'OverallQual', 'RoofMatl_Tar&Grv', 'SaleCondition_Partial', 'HouseStyle_2Story', 'has2ndfloor', 'MasVnrArea', 'BsmtFinType2_Unf', 'GarageQual_TA', 'GarageType_Attchd', 'Heating_GasA', 'GarageCond_TA', 'BsmtQual_Gd', 'SaleCondition_Partial', 'SaleType_New', 'Foundation_PConc', '2ndFlrSF', 'MasVnrType_BrkFace', 'hasbsmt', 'MSZoning_RL', 'KitchenQual_Gd', 'Electrical_SBrkr', 'has2ndfloor', 'ExterCond_TA', 'ExterQual_Gd', 'RoofStyle_Hip', 'hasbsmt', 'hasbsmt', 'hasgarage', 'hasbsmt']"
      ],
      "text/plain": [
       "['2ndFlrSF',\n",
       " 'Foundation_PConc',\n",
       " 'Condition1_Norm',\n",
       " 'ExterQual_Gd',\n",
       " 'Foundation_PConc',\n",
       " 'BsmtFinSF1',\n",
       " 'Condition2_Norm',\n",
       " 'BsmtCond_TA',\n",
       " 'SaleType_New',\n",
       " 'OverallQual',\n",
       " 'RoofMatl_Tar&Grv',\n",
       " 'SaleCondition_Partial',\n",
       " 'HouseStyle_2Story',\n",
       " 'has2ndfloor',\n",
       " 'MasVnrArea',\n",
       " 'BsmtFinType2_Unf',\n",
       " 'GarageQual_TA',\n",
       " 'GarageType_Attchd',\n",
       " 'Heating_GasA',\n",
       " 'GarageCond_TA',\n",
       " 'BsmtQual_Gd',\n",
       " 'SaleCondition_Partial',\n",
       " 'SaleType_New',\n",
       " 'Foundation_PConc',\n",
       " '2ndFlrSF',\n",
       " 'MasVnrType_BrkFace',\n",
       " 'hasbsmt',\n",
       " 'MSZoning_RL',\n",
       " 'KitchenQual_Gd',\n",
       " 'Electrical_SBrkr',\n",
       " 'has2ndfloor',\n",
       " 'ExterCond_TA',\n",
       " 'ExterQual_Gd',\n",
       " 'RoofStyle_Hip',\n",
       " 'hasbsmt',\n",
       " 'hasbsmt',\n",
       " 'hasgarage',\n",
       " 'hasbsmt']"
      ]
     },
     "execution_count": 120,
     "metadata": {},
     "output_type": "execute_result"
    }
   ],
   "source": [
    "#Filter strongly correlated variables\n",
    "pre_selection.reset_index(drop=True,inplace=True)\n",
    "result = []\n",
    "max_correlation = 0.4\n",
    "for i in pre_selection.index:\n",
    "    if pre_selection.loc[i,'Corr_V1&V2'] < max_correlation:\n",
    "        a = pre_selection.loc[i,'Corr_V1&Obj']\n",
    "        b = pre_selection.loc[i,'Corr_V2&Obj']\n",
    "        if a>=b:\n",
    "            result.append(pre_selection.loc[i,'Variable1'])\n",
    "        else:\n",
    "            result.append(pre_selection.loc[i,'Variable2'])\n",
    "result"
   ]
  },
  {
   "cell_type": "code",
   "execution_count": 121,
   "metadata": {
    "colab": {
     "base_uri": "https://localhost:8080/",
     "height": 0
    },
    "colab_type": "code",
    "id": "fsgLjgL73Azs",
    "outputId": "16b1bfe0-47df-4d9a-da67-84181b46cedf"
   },
   "outputs": [
    {
     "data": {
      "text/html": [
       "['Condition2', 'HouseStyle', 'hasbsmt', 'SaleType', 'BsmtCond', '2ndFlrSF', 'GarageCond', 'has2ndfloor', 'Heating', 'SaleCondition', 'RoofMatl', 'KitchenQual', 'ExterQual', 'ExterCond', 'Electrical', 'RoofStyle', 'MasVnrArea', 'MasVnrType', 'Condition1', 'MSZoning', 'GarageType', 'GarageQual', 'BsmtFinSF1', 'hasgarage', 'BsmtFinType2', 'OverallQual', 'BsmtQual', 'Foundation']"
      ],
      "text/plain": [
       "['Condition2',\n",
       " 'HouseStyle',\n",
       " 'hasbsmt',\n",
       " 'SaleType',\n",
       " 'BsmtCond',\n",
       " '2ndFlrSF',\n",
       " 'GarageCond',\n",
       " 'has2ndfloor',\n",
       " 'Heating',\n",
       " 'SaleCondition',\n",
       " 'RoofMatl',\n",
       " 'KitchenQual',\n",
       " 'ExterQual',\n",
       " 'ExterCond',\n",
       " 'Electrical',\n",
       " 'RoofStyle',\n",
       " 'MasVnrArea',\n",
       " 'MasVnrType',\n",
       " 'Condition1',\n",
       " 'MSZoning',\n",
       " 'GarageType',\n",
       " 'GarageQual',\n",
       " 'BsmtFinSF1',\n",
       " 'hasgarage',\n",
       " 'BsmtFinType2',\n",
       " 'OverallQual',\n",
       " 'BsmtQual',\n",
       " 'Foundation']"
      ]
     },
     "execution_count": 121,
     "metadata": {},
     "output_type": "execute_result"
    }
   ],
   "source": [
    "pearson_feature_selection = list(set([i.split('_')[0] for i in result]))\n",
    "pearson_feature_selection"
   ]
  },
  {
   "cell_type": "code",
   "execution_count": 122,
   "metadata": {
    "colab": {
     "base_uri": "https://localhost:8080/",
     "height": 0
    },
    "colab_type": "code",
    "id": "tjinY7VLuURK",
    "outputId": "222600b8-7107-4036-8462-fad65453f67d"
   },
   "outputs": [
    {
     "data": {
      "text/plain": [
       "28"
      ]
     },
     "execution_count": 122,
     "metadata": {},
     "output_type": "execute_result"
    }
   ],
   "source": [
    "len(pearson_feature_selection)"
   ]
  },
  {
   "cell_type": "code",
   "execution_count": 123,
   "metadata": {
    "colab": {
     "base_uri": "https://localhost:8080/",
     "height": 0
    },
    "colab_type": "code",
    "id": "0Gn8HGzLtLbP",
    "outputId": "a1f00865-c0fc-4613-b90e-9f3e0be28e62"
   },
   "outputs": [
    {
     "data": {
      "text/plain": [
       "dict_keys(['0.test_original', '1.train_original', '2.train+test_cleaned+new features'])"
      ]
     },
     "execution_count": 123,
     "metadata": {},
     "output_type": "execute_result"
    }
   ],
   "source": [
    "datasets.keys()"
   ]
  },
  {
   "cell_type": "code",
   "execution_count": 124,
   "metadata": {
    "colab": {
     "base_uri": "https://localhost:8080/",
     "height": 0
    },
    "colab_type": "code",
    "id": "jFgQtj3st2m0",
    "outputId": "9c4aaae2-6dd8-4448-ac62-11015a369383"
   },
   "outputs": [
    {
     "data": {
      "text/plain": [
       "(2919, 28)"
      ]
     },
     "execution_count": 124,
     "metadata": {},
     "output_type": "execute_result"
    }
   ],
   "source": [
    "datasets['3.train+test_pearson filtered'] = datasets['2.train+test_cleaned+new features'][pearson_feature_selection]\n",
    "datasets['2.train+test_cleaned+new features'][pearson_feature_selection].shape"
   ]
  },
  {
   "cell_type": "markdown",
   "metadata": {
    "colab_type": "text",
    "id": "2UEHB11RM8pF"
   },
   "source": [
    "### Generate New Features from selected ones"
   ]
  },
  {
   "cell_type": "code",
   "execution_count": 125,
   "metadata": {
    "colab": {
     "base_uri": "https://localhost:8080/",
     "height": 504
    },
    "colab_type": "code",
    "id": "53ArWLhd46f3",
    "outputId": "f848bc9d-2df7-40f9-8acf-567d96e4b653"
   },
   "outputs": [
    {
     "data": {
      "text/plain": [
       "Condition2        object\n",
       "HouseStyle        object\n",
       "hasbsmt            int64\n",
       "SaleType          object\n",
       "BsmtCond          object\n",
       "2ndFlrSF           int64\n",
       "GarageCond        object\n",
       "has2ndfloor        int64\n",
       "Heating           object\n",
       "SaleCondition     object\n",
       "RoofMatl          object\n",
       "KitchenQual       object\n",
       "ExterQual         object\n",
       "ExterCond         object\n",
       "Electrical        object\n",
       "RoofStyle         object\n",
       "MasVnrArea       float64\n",
       "MasVnrType        object\n",
       "Condition1        object\n",
       "MSZoning          object\n",
       "GarageType        object\n",
       "GarageQual        object\n",
       "BsmtFinSF1       float64\n",
       "hasgarage          int64\n",
       "BsmtFinType2      object\n",
       "OverallQual        int64\n",
       "BsmtQual          object\n",
       "Foundation        object\n",
       "dtype: object"
      ]
     },
     "execution_count": 125,
     "metadata": {},
     "output_type": "execute_result"
    }
   ],
   "source": [
    "datasets['3.train+test_pearson filtered'].dtypes"
   ]
  },
  {
   "cell_type": "code",
   "execution_count": 126,
   "metadata": {
    "colab": {
     "base_uri": "https://localhost:8080/",
     "height": 34
    },
    "colab_type": "code",
    "id": "vvcnWIf6M8pG",
    "outputId": "40f390d7-5b57-49b5-e1d7-6575d1eea602"
   },
   "outputs": [
    {
     "data": {
      "text/plain": [
       "Index(['hasbsmt', '2ndFlrSF', 'has2ndfloor', 'hasgarage', 'OverallQual'], dtype='object')"
      ]
     },
     "execution_count": 126,
     "metadata": {},
     "output_type": "execute_result"
    }
   ],
   "source": [
    "a = datasets['3.train+test_pearson filtered']\n",
    "a.columns[a.dtypes == 'int64']\n",
    "#[max(a[i]) for i in a[a.dtypes == 'int64']]\n",
    "# dummie_features = datasets['4.selected variables'].dtypes=='uint8'\n",
    "# datasets['4.selected variables']['sum_dummies'] = datasets['4.selected variables'].loc[:,dummie_features].sum(axis=1)\n",
    "#table = datasets['4.selected variables'].groupby('sum_dummies').agg({'SalePrice':['mean','count','std']})\n",
    "#table"
   ]
  },
  {
   "cell_type": "code",
   "execution_count": 127,
   "metadata": {
    "colab": {},
    "colab_type": "code",
    "id": "cMr-c_3WM8pN"
   },
   "outputs": [],
   "source": [
    "# datasets['4.selected variables'].boxplot(['SalePrice'],by='sum_dummies')"
   ]
  },
  {
   "cell_type": "code",
   "execution_count": 128,
   "metadata": {
    "colab": {},
    "colab_type": "code",
    "id": "-W6H-WrbM8pS"
   },
   "outputs": [],
   "source": [
    "# numeric_features = datasets['4.selected variables'].loc[:,datasets['4.selected variables'].dtypes!='uint8']\n",
    "# scaler = StandardScaler() \n",
    "# data_scaled = scaler.fit_transform(numeric_features)\n",
    "# df_data_scaled = pd.DataFrame(data_scaled,columns=numeric_features.columns)\n",
    "# df_data_scaled['sum_numeric'] = df_data_scaled.drop(['SalePrice','Id','sum_dummies'],axis=1).sum(axis=1)\n",
    "# #df_data_scaled['sum_numeric_range'] = pd.cut(df_data_scaled['sum_numeric'].reset_index(drop=True),10)\n",
    "# df_data_scaled.plot.scatter('sum_numeric','SalePrice')"
   ]
  },
  {
   "cell_type": "code",
   "execution_count": 129,
   "metadata": {
    "colab": {},
    "colab_type": "code",
    "id": "zqUhta5LM8pY"
   },
   "outputs": [],
   "source": [
    "# datasets['4.selected variables']['numeric_sum_std'] = df_data_scaled['sum_numeric']"
   ]
  },
  {
   "cell_type": "markdown",
   "metadata": {
    "colab_type": "text",
    "id": "DJE-SGZXM8pe"
   },
   "source": [
    "## Modeling 1\n",
    "\n"
   ]
  },
  {
   "cell_type": "code",
   "execution_count": 130,
   "metadata": {
    "colab": {
     "base_uri": "https://localhost:8080/",
     "height": 34
    },
    "colab_type": "code",
    "id": "DXIw6XUVM8pg",
    "outputId": "d1395d52-7493-4fa7-b0f2-55eeb31ee23b"
   },
   "outputs": [
    {
     "data": {
      "text/plain": [
       "dict_keys(['0.test_original', '1.train_original', '2.train+test_cleaned+new features', '3.train+test_pearson filtered'])"
      ]
     },
     "execution_count": 130,
     "metadata": {},
     "output_type": "execute_result"
    }
   ],
   "source": [
    "datasets.keys()"
   ]
  },
  {
   "cell_type": "markdown",
   "metadata": {
    "colab_type": "text",
    "id": "AMLTh8rjnjN7"
   },
   "source": [
    "## Transform features\n"
   ]
  },
  {
   "cell_type": "code",
   "execution_count": 131,
   "metadata": {
    "colab": {
     "base_uri": "https://localhost:8080/",
     "height": 312
    },
    "colab_type": "code",
    "id": "LllEMmpC9ELc",
    "outputId": "02090fd4-fcce-4482-df81-cdb239d664c6"
   },
   "outputs": [
    {
     "data": {
      "text/plain": [
       "<matplotlib.axes._subplots.AxesSubplot at 0x20951711308>"
      ]
     },
     "execution_count": 131,
     "metadata": {},
     "output_type": "execute_result"
    },
    {
     "data": {
      "image/png": "[encoded data removed]",
      "text/plain": [
       "<Figure size 432x288 with 1 Axes>"
      ]
     },
     "metadata": {
      "needs_background": "light"
     },
     "output_type": "display_data"
    }
   ],
   "source": [
    "y = datasets['1.train_original'][\"SalePrice\"]\n",
    "plt.figure(1); plt.title('XXX')\n",
    "sns.distplot(y, kde=False, fit=stats.norm)"
   ]
  },
  {
   "cell_type": "code",
   "execution_count": 132,
   "metadata": {
    "colab": {
     "base_uri": "https://localhost:8080/",
     "height": 307
    },
    "colab_type": "code",
    "id": "5IsknIkCIjbS",
    "outputId": "120bc28e-0eeb-4911-fac5-d02d3d07e965"
   },
   "outputs": [
    {
     "data": {
      "text/plain": [
       "<matplotlib.axes._subplots.AxesSubplot at 0x20953ec2c48>"
      ]
     },
     "execution_count": 132,
     "metadata": {},
     "output_type": "execute_result"
    },
    {
     "data": {
      "image/png": "[encoded data removed]",
      "text/plain": [
       "<Figure size 432x288 with 1 Axes>"
      ]
     },
     "metadata": {
      "needs_background": "light"
     },
     "output_type": "display_data"
    }
   ],
   "source": [
    "log_y = round(np.log1p(datasets['1.train_original'][\"SalePrice\"])*1e6).astype(int)\n",
    "sns.distplot(log_y,kde=False,fit=stats.norm)"
   ]
  },
  {
   "cell_type": "code",
   "execution_count": 133,
   "metadata": {
    "colab": {},
    "colab_type": "code",
    "id": "mOakzMG_rq7t"
   },
   "outputs": [],
   "source": [
    "def inverse_transform(data_transformed):\n",
    "  try:\n",
    "    return round(data_transformed.apply(lambda x: math.exp(x/1e6)-1)).astype(int)\n",
    "  except:\n",
    "    return (np.exp(data_transformed/1e6)-1).round().astype(int)"
   ]
  },
  {
   "cell_type": "code",
   "execution_count": 134,
   "metadata": {
    "colab": {
     "base_uri": "https://localhost:8080/",
     "height": 34
    },
    "colab_type": "code",
    "id": "RRoqhJLfoUfE",
    "outputId": "8ef3e580-4cc4-42f1-8fc3-10ef5604c351"
   },
   "outputs": [
    {
     "data": {
      "text/html": [
       "['2ndFlrSF', 'MasVnrArea', 'BsmtFinSF1', 'OverallQual']"
      ],
      "text/plain": [
       "['2ndFlrSF', 'MasVnrArea', 'BsmtFinSF1', 'OverallQual']"
      ]
     },
     "execution_count": 134,
     "metadata": {},
     "output_type": "execute_result"
    }
   ],
   "source": [
    "data = datasets['3.train+test_pearson filtered']\n",
    "numeric_features = []\n",
    "for i in data:\n",
    "  if data[i].dtype != object and i not in ['hasgarage','hasbsmt','has2ndfloor']:\n",
    "    numeric_features.append(i)\n",
    "numeric_features = [i for i in numeric_features if i not in ['Id','SalePrice']]\n",
    "numeric_features[0:10]\n"
   ]
  },
  {
   "cell_type": "code",
   "execution_count": 135,
   "metadata": {
    "colab": {
     "base_uri": "https://localhost:8080/",
     "height": 101
    },
    "colab_type": "code",
    "id": "7kvkoD2arrj7",
    "outputId": "c311839d-73aa-42c8-a679-09854e310c94"
   },
   "outputs": [
    {
     "data": {
      "text/plain": [
       "2ndFlrSF       0.861675\n",
       "MasVnrArea     2.613592\n",
       "BsmtFinSF1     1.425230\n",
       "OverallQual    0.197110\n",
       "dtype: float64"
      ]
     },
     "execution_count": 135,
     "metadata": {},
     "output_type": "execute_result"
    }
   ],
   "source": [
    "skew_features = data[numeric_features].apply(lambda x: skew(x))#.sort_values(ascending=False)\n",
    "skew_features.head()"
   ]
  },
  {
   "cell_type": "code",
   "execution_count": 136,
   "metadata": {
    "colab": {
     "base_uri": "https://localhost:8080/",
     "height": 101
    },
    "colab_type": "code",
    "id": "u9Ck8OBMz6YG",
    "outputId": "5d1e6141-76af-4212-d7d7-56263375de3f"
   },
   "outputs": [
    {
     "name": "stderr",
     "output_type": "stream",
     "text": [
      "\n",
      "A value is trying to be set on a copy of a slice from a DataFrame.\n",
      "Try using .loc[row_indexer,col_indexer] = value instead\n",
      "\n",
      "See the caveats in the documentation: https://pandas.pydata.org/pandas-docs/stable/user_guide/indexing.html#returning-a-view-versus-a-copy\n"
     ]
    }
   ],
   "source": [
    "from scipy.special import boxcox1p\n",
    "from scipy.stats import boxcox_normmax\n",
    "high_skew = skew_features[skew_features > 0.5]\n",
    "skew_index = high_skew.index\n",
    "\n",
    "for i in skew_index:\n",
    "    data[i] = boxcox1p(data[i], boxcox_normmax(data[i] + 1))"
   ]
  },
  {
   "cell_type": "code",
   "execution_count": 137,
   "metadata": {
    "colab": {
     "base_uri": "https://localhost:8080/",
     "height": 218
    },
    "colab_type": "code",
    "id": "1Z4uHWASviRb",
    "outputId": "164fb549-9938-4fb4-a23d-cb9e9ad3b1a6"
   },
   "outputs": [
    {
     "data": {
      "text/plain": [
       "0       12247699\n",
       "1       12109016\n",
       "2       12317171\n",
       "3       11849405\n",
       "4       12429220\n",
       "          ...   \n",
       "1455    12072547\n",
       "1456    12254868\n",
       "1457    12493133\n",
       "1458    11864469\n",
       "1459    11901590\n",
       "Name: SalePrice, Length: 1460, dtype: int32"
      ]
     },
     "execution_count": 137,
     "metadata": {},
     "output_type": "execute_result"
    }
   ],
   "source": [
    "final_features = pd.get_dummies(data).reset_index(drop=True)\n",
    "to_sum = [i for i in data if data[i].dtypes=='float64' or i =='OverallQual']\n",
    "final_features['sum_numerical'] = final_features.loc[:,to_sum].sum(axis=1)\n",
    "x_train = final_features.iloc[:len(log_y),:]\n",
    "datasets['5.all_features_log_transform'] = pd.concat([log_y,x_train],axis=1).reset_index(drop=True)\n",
    "datasets['5.all_features_log_transform'].SalePrice"
   ]
  },
  {
   "cell_type": "code",
   "execution_count": 158,
   "metadata": {},
   "outputs": [],
   "source": []
  },
  {
   "cell_type": "markdown",
   "metadata": {
    "colab_type": "text",
    "id": "gBXyH0VSnt70"
   },
   "source": [
    "### Train Models\n"
   ]
  },
  {
   "cell_type": "code",
   "execution_count": 138,
   "metadata": {
    "colab": {},
    "colab_type": "code",
    "id": "aHgBahhsM8pm"
   },
   "outputs": [],
   "source": [
    "data = datasets['5.all_features_log_transform']\n",
    "x_train,x_test,y_train,y_test = train_test_split(data.drop(['SalePrice'],axis=1),data['SalePrice'], test_size=0.2,random_state=42)"
   ]
  },
  {
   "cell_type": "code",
   "execution_count": 139,
   "metadata": {
    "colab": {},
    "colab_type": "code",
    "id": "yJAn-rksM8pr"
   },
   "outputs": [],
   "source": [
    "def train_models(x_train,x_test,y_train,y_test):\n",
    "    tree = DecisionTreeRegressor(max_depth=5,min_weight_fraction_leaf=0.03,random_state=42)\n",
    "    rf = RandomForestRegressor(n_estimators = 50, random_state = 42, bootstrap=True\n",
    "                               #,max_samples=0.5\n",
    "                               ,min_weight_fraction_leaf=0.01\n",
    "                              )\n",
    "    xgboost = XGBRegressor(n_estimators=100,early_stopping_rounds=5,eval_set=[(x_test, y_test)])\n",
    "    mod_list = {'lin_reg':LinearRegression(),'svm':svm.SVR(kernel='linear'),'tree':tree,'random_forest':rf,'xgboost':xgboost}\n",
    "    perf_metrics = ['R^2','MAE','RMSE','MAPE','RMSLE']\n",
    "    results = pd.DataFrame(columns=perf_metrics)\n",
    "\n",
    "    for i in mod_list:\n",
    "        #Train models\n",
    "        mod_list[i].fit(x_train,y_train)\n",
    "        y_pred = mod_list[i].predict(x_test)\n",
    "        #Transform y_test and y_pred to original values if needed\n",
    "        y_test2 = inverse_transform(y_test)\n",
    "        y_pred2 = inverse_transform(y_pred)\n",
    "        r2 = mod_list[i].score(x_test, y_test)\n",
    "        mae = metrics.mean_absolute_error(y_pred2,y_test2)\n",
    "        rmse = np.sqrt(metrics.mean_squared_error(y_pred2,y_test2))\n",
    "        mape = mean_absolute_percentage_error(y_test2,y_pred2)\n",
    "        rmsle = ''\n",
    "        try:\n",
    "            rmsle = np.sqrt(metrics.mean_squared_log_error(y_test2,y_pred2))\n",
    "        except:\n",
    "            pass\n",
    "        line = pd.DataFrame(data=[[r2,mae,rmse,mape,rmsle]],index=[i],columns=results.columns)\n",
    "        results = pd.concat([results,line],axis=0)\n",
    "    \n",
    "    return results,mod_list"
   ]
  },
  {
   "cell_type": "code",
   "execution_count": 140,
   "metadata": {
    "colab": {
     "base_uri": "https://localhost:8080/",
     "height": 229
    },
    "colab_type": "code",
    "id": "G_1V43EbM8pv",
    "outputId": "ae28f209-c626-4375-e01c-c8d026c9da4a"
   },
   "outputs": [
    {
     "name": "stderr",
     "output_type": "stream",
     "text": [
      "overflow encountered in exp\n"
     ]
    },
    {
     "name": "stdout",
     "output_type": "stream",
     "text": [
      "[18:33:04] WARNING: C:\\Users\\Administrator\\workspace\\xgboost-win64_release_1.1.0\\src\\learner.cc:480: \n",
      "Parameters: { early_stopping_rounds, eval_set } might not be used.\n",
      "\n",
      "  This may not be accurate due to some parameters are only used in language bindings but\n",
      "  passed down to XGBoost core.  Or some parameters are not used but slip through this\n",
      "  verification. Please open an issue if you find above cases.\n",
      "\n",
      "\n"
     ]
    },
    {
     "data": {
      "text/html": [
       "<div>\n",
       "<style scoped>\n",
       "    .dataframe tbody tr th:only-of-type {\n",
       "        vertical-align: middle;\n",
       "    }\n",
       "\n",
       "    .dataframe tbody tr th {\n",
       "        vertical-align: top;\n",
       "    }\n",
       "\n",
       "    .dataframe thead th {\n",
       "        text-align: right;\n",
       "    }\n",
       "</style>\n",
       "<table border=\"1\" class=\"dataframe\">\n",
       "  <thead>\n",
       "    <tr style=\"text-align: right;\">\n",
       "      <th></th>\n",
       "      <th>R^2</th>\n",
       "      <th>MAE</th>\n",
       "      <th>RMSE</th>\n",
       "      <th>MAPE</th>\n",
       "      <th>RMSLE</th>\n",
       "    </tr>\n",
       "  </thead>\n",
       "  <tbody>\n",
       "    <tr>\n",
       "      <th>lin_reg</th>\n",
       "      <td>-5.338034e+12</td>\n",
       "      <td>7.376957e+06</td>\n",
       "      <td>16694.558814</td>\n",
       "      <td>3058.881776</td>\n",
       "      <td></td>\n",
       "    </tr>\n",
       "    <tr>\n",
       "      <th>svm</th>\n",
       "      <td>3.816442e-01</td>\n",
       "      <td>4.510544e+04</td>\n",
       "      <td>16150.133785</td>\n",
       "      <td>25.831825</td>\n",
       "      <td>0.339694</td>\n",
       "    </tr>\n",
       "    <tr>\n",
       "      <th>tree</th>\n",
       "      <td>7.390947e-01</td>\n",
       "      <td>2.849490e+04</td>\n",
       "      <td>15129.963339</td>\n",
       "      <td>16.960046</td>\n",
       "      <td>0.220653</td>\n",
       "    </tr>\n",
       "    <tr>\n",
       "      <th>random_forest</th>\n",
       "      <td>8.059434e-01</td>\n",
       "      <td>2.232840e+04</td>\n",
       "      <td>15898.719307</td>\n",
       "      <td>13.352731</td>\n",
       "      <td>0.190298</td>\n",
       "    </tr>\n",
       "    <tr>\n",
       "      <th>xgboost</th>\n",
       "      <td>8.060822e-01</td>\n",
       "      <td>2.330445e+04</td>\n",
       "      <td>14260.166977</td>\n",
       "      <td>13.341812</td>\n",
       "      <td>0.190229</td>\n",
       "    </tr>\n",
       "  </tbody>\n",
       "</table>\n",
       "</div>"
      ],
      "text/plain": [
       "                        R^2           MAE          RMSE         MAPE     RMSLE\n",
       "lin_reg       -5.338034e+12  7.376957e+06  16694.558814  3058.881776          \n",
       "svm            3.816442e-01  4.510544e+04  16150.133785    25.831825  0.339694\n",
       "tree           7.390947e-01  2.849490e+04  15129.963339    16.960046  0.220653\n",
       "random_forest  8.059434e-01  2.232840e+04  15898.719307    13.352731  0.190298\n",
       "xgboost        8.060822e-01  2.330445e+04  14260.166977    13.341812  0.190229"
      ]
     },
     "execution_count": 140,
     "metadata": {},
     "output_type": "execute_result"
    }
   ],
   "source": [
    "results,mod_list = train_models(x_train,x_test,y_train,y_test)\n",
    "results"
   ]
  },
  {
   "cell_type": "code",
   "execution_count": 141,
   "metadata": {
    "colab": {
     "base_uri": "https://localhost:8080/",
     "height": 151
    },
    "colab_type": "code",
    "id": "4o-NjrX3M8p5",
    "outputId": "7e0c4610-9c2a-4a58-882e-9dc977711214"
   },
   "outputs": [
    {
     "name": "stdout",
     "output_type": "stream",
     "text": [
      "Cross Validation: \n",
      " neg_mean_squared_log_error :\n",
      "[18:33:04] WARNING: C:\\Users\\Administrator\\workspace\\xgboost-win64_release_1.1.0\\src\\learner.cc:480: \n",
      "Parameters: { early_stopping_rounds, eval_set } might not be used.\n",
      "\n",
      "  This may not be accurate due to some parameters are only used in language bindings but\n",
      "  passed down to XGBoost core.  Or some parameters are not used but slip through this\n",
      "  verification. Please open an issue if you find above cases.\n",
      "\n",
      "\n",
      "[18:33:05] WARNING: C:\\Users\\Administrator\\workspace\\xgboost-win64_release_1.1.0\\src\\learner.cc:480: \n",
      "Parameters: { early_stopping_rounds, eval_set } might not be used.\n",
      "\n",
      "  This may not be accurate due to some parameters are only used in language bindings but\n",
      "  passed down to XGBoost core.  Or some parameters are not used but slip through this\n",
      "  verification. Please open an issue if you find above cases.\n",
      "\n",
      "\n",
      "[18:33:05] WARNING: C:\\Users\\Administrator\\workspace\\xgboost-win64_release_1.1.0\\src\\learner.cc:480: \n",
      "Parameters: { early_stopping_rounds, eval_set } might not be used.\n",
      "\n",
      "  This may not be accurate due to some parameters are only used in language bindings but\n",
      "  passed down to XGBoost core.  Or some parameters are not used but slip through this\n",
      "  verification. Please open an issue if you find above cases.\n",
      "\n",
      "\n",
      "[18:33:05] WARNING: C:\\Users\\Administrator\\workspace\\xgboost-win64_release_1.1.0\\src\\learner.cc:480: \n",
      "Parameters: { early_stopping_rounds, eval_set } might not be used.\n",
      "\n",
      "  This may not be accurate due to some parameters are only used in language bindings but\n",
      "  passed down to XGBoost core.  Or some parameters are not used but slip through this\n",
      "  verification. Please open an issue if you find above cases.\n",
      "\n",
      "\n",
      "[18:33:06] WARNING: C:\\Users\\Administrator\\workspace\\xgboost-win64_release_1.1.0\\src\\learner.cc:480: \n",
      "Parameters: { early_stopping_rounds, eval_set } might not be used.\n",
      "\n",
      "  This may not be accurate due to some parameters are only used in language bindings but\n",
      "  passed down to XGBoost core.  Or some parameters are not used but slip through this\n",
      "  verification. Please open an issue if you find above cases.\n",
      "\n",
      "\n"
     ]
    },
    {
     "data": {
      "text/plain": [
       "0.015327672277288007"
      ]
     },
     "execution_count": 141,
     "metadata": {},
     "output_type": "execute_result"
    }
   ],
   "source": [
    "# Cross Validation\n",
    "X = datasets['5.all_features_log_transform'].drop(['SalePrice'],axis=1)                                         \n",
    "y = datasets['5.all_features_log_transform']['SalePrice']\n",
    "metric = 'neg_mean_squared_log_error'\n",
    "print('Cross Validation: \\n',metric,':')\n",
    "np.mean(np.sqrt(np.absolute(cross_val_score(mod_list['xgboost'],X, y, cv=5, scoring=metric))))"
   ]
  },
  {
   "cell_type": "code",
   "execution_count": 142,
   "metadata": {
    "colab": {},
    "colab_type": "code",
    "id": "Eki35rdGM8p0"
   },
   "outputs": [],
   "source": [
    "# # Plot Decision Tree\n",
    "# model = mod_list['random_forest'].estimators_[2]\n",
    "# model.get_depth()\n",
    "# plt.figure(figsize=(120,50))\n",
    "# a = plot_tree(model, \n",
    "#               feature_names=x_train.columns, \n",
    "#               #class_names=breast_cancer.target_names, \n",
    "#               filled=True, \n",
    "#               rounded=True, \n",
    "#               fontsize=40)"
   ]
  },
  {
   "cell_type": "code",
   "execution_count": 143,
   "metadata": {
    "colab": {
     "base_uri": "https://localhost:8080/",
     "height": 54
    },
    "colab_type": "code",
    "id": "QeR-SjijgmUm",
    "outputId": "b08ca1f4-2cf4-4d5f-de00-c24307b2d08d"
   },
   "outputs": [
    {
     "data": {
      "text/plain": [
       "dict_keys(['0.test_original', '1.train_original', '2.train+test_cleaned+new features', '3.train+test_pearson filtered', '5.all_features_log_transform'])"
      ]
     },
     "execution_count": 143,
     "metadata": {},
     "output_type": "execute_result"
    }
   ],
   "source": [
    "datasets.keys()"
   ]
  },
  {
   "cell_type": "markdown",
   "metadata": {
    "colab_type": "text",
    "id": "hYFbZ_tXmjUn"
   },
   "source": [
    "### Submission File"
   ]
  },
  {
   "cell_type": "code",
   "execution_count": 188,
   "metadata": {
    "colab": {
     "base_uri": "https://localhost:8080/",
     "height": 151
    },
    "colab_type": "code",
    "id": "znzG3kCZfFfu",
    "outputId": "d2525f34-12a1-4445-a1dd-f696585b9110"
   },
   "outputs": [
    {
     "name": "stdout",
     "output_type": "stream",
     "text": [
      "[16:57:31] WARNING: C:\\Users\\Administrator\\workspace\\xgboost-win64_release_1.1.0\\src\\learner.cc:480: \n",
      "Parameters: { early_stopping_rounds } might not be used.\n",
      "\n",
      "  This may not be accurate due to some parameters are only used in language bindings but\n",
      "  passed down to XGBoost core.  Or some parameters are not used but slip through this\n",
      "  verification. Please open an issue if you find above cases.\n",
      "\n",
      "\n"
     ]
    },
    {
     "data": {
      "text/plain": [
       "XGBRegressor(base_score=0.5, booster='gbtree', colsample_bylevel=1,\n",
       "             colsample_bynode=1, colsample_bytree=1, early_stopping_rounds=5,\n",
       "             enable_experimental_json_serialization=True, gamma=0, gpu_id=-1,\n",
       "             importance_type='gain', interaction_constraints='',\n",
       "             learning_rate=0.300000012, max_delta_step=0, max_depth=6,\n",
       "             min_child_weight=1, missing=nan, monotone_constraints='()',\n",
       "             n_estimators=100, n_jobs=0, num_parallel_tree=1,\n",
       "             objective='reg:squarederror', random_state=0, reg_alpha=0,\n",
       "             reg_lambda=1, scale_pos_weight=1, subsample=1, tree_method='exact',\n",
       "             validate_parameters=1, verbosity=None)"
      ]
     },
     "execution_count": 188,
     "metadata": {},
     "output_type": "execute_result"
    }
   ],
   "source": [
    "y = datasets['1.train_original']['SalePrice']\n",
    "x_train = final_features.iloc[:len(y),:]\n",
    "y_train = log_y\n",
    "x_test = final_features.iloc[len(y):,:]\n",
    "xgboost = XGBRegressor(n_estimators=100,early_stopping_rounds=5,enable_experimental_json_serialization=True)\n",
    "xgboost.fit(x_train,y_train)"
   ]
  },
  {
   "cell_type": "code",
   "execution_count": 189,
   "metadata": {},
   "outputs": [],
   "source": [
    "xgboost.save_model('house_prices_xgboost.json')\n",
    "with open('house_prices_xgboost.json', 'wb') as fd:\n",
    "    pickle.dump(xgboost, fd)"
   ]
  },
  {
   "cell_type": "code",
   "execution_count": 185,
   "metadata": {},
   "outputs": [],
   "source": [
    "x_train.to_csv('train_transformed.csv')"
   ]
  },
  {
   "cell_type": "code",
   "execution_count": 194,
   "metadata": {},
   "outputs": [
    {
     "data": {
      "text/plain": [
       "array([[211930],\n",
       "       [174805],\n",
       "       [219960],\n",
       "       [145443],\n",
       "       [266409],\n",
       "       [144079],\n",
       "       [309564],\n",
       "       [201782],\n",
       "       [130200],\n",
       "       [120866]])"
      ]
     },
     "execution_count": 194,
     "metadata": {},
     "output_type": "execute_result"
    }
   ],
   "source": [
    "inverse_transform(pd.DataFrame(xgboost.predict(x_train.iloc[0:10,:]))).to_numpy()"
   ]
  },
  {
   "cell_type": "code",
   "execution_count": 145,
   "metadata": {
    "colab": {
     "base_uri": "https://localhost:8080/",
     "height": 195
    },
    "colab_type": "code",
    "id": "uyo_sD1Ojcw-",
    "outputId": "4e2dd7a3-c86d-4272-9b3e-f724beff4bdf"
   },
   "outputs": [
    {
     "data": {
      "text/html": [
       "<div>\n",
       "<style scoped>\n",
       "    .dataframe tbody tr th:only-of-type {\n",
       "        vertical-align: middle;\n",
       "    }\n",
       "\n",
       "    .dataframe tbody tr th {\n",
       "        vertical-align: top;\n",
       "    }\n",
       "\n",
       "    .dataframe thead th {\n",
       "        text-align: right;\n",
       "    }\n",
       "</style>\n",
       "<table border=\"1\" class=\"dataframe\">\n",
       "  <thead>\n",
       "    <tr style=\"text-align: right;\">\n",
       "      <th></th>\n",
       "      <th>Id</th>\n",
       "      <th>SalePrice</th>\n",
       "    </tr>\n",
       "  </thead>\n",
       "  <tbody>\n",
       "    <tr>\n",
       "      <th>0</th>\n",
       "      <td>1461</td>\n",
       "      <td>169277.052498</td>\n",
       "    </tr>\n",
       "    <tr>\n",
       "      <th>1</th>\n",
       "      <td>1462</td>\n",
       "      <td>187758.393989</td>\n",
       "    </tr>\n",
       "    <tr>\n",
       "      <th>2</th>\n",
       "      <td>1463</td>\n",
       "      <td>183583.683570</td>\n",
       "    </tr>\n",
       "    <tr>\n",
       "      <th>3</th>\n",
       "      <td>1464</td>\n",
       "      <td>179317.477511</td>\n",
       "    </tr>\n",
       "    <tr>\n",
       "      <th>4</th>\n",
       "      <td>1465</td>\n",
       "      <td>150730.079977</td>\n",
       "    </tr>\n",
       "  </tbody>\n",
       "</table>\n",
       "</div>"
      ],
      "text/plain": [
       "     Id      SalePrice\n",
       "0  1461  169277.052498\n",
       "1  1462  187758.393989\n",
       "2  1463  183583.683570\n",
       "3  1464  179317.477511\n",
       "4  1465  150730.079977"
      ]
     },
     "execution_count": 145,
     "metadata": {},
     "output_type": "execute_result"
    }
   ],
   "source": [
    "submission = pd.read_csv('https://raw.githubusercontent.com/tgrasty/house_prices/master/sample_submission.csv')\n",
    "submission.head()"
   ]
  },
  {
   "cell_type": "code",
   "execution_count": 146,
   "metadata": {
    "colab": {
     "base_uri": "https://localhost:8080/",
     "height": 225
    },
    "colab_type": "code",
    "id": "m2lI-z7jIPXG",
    "outputId": "557c663c-5a8c-4c8a-b4e9-f2e303ba5a69"
   },
   "outputs": [
    {
     "data": {
      "text/html": [
       "<div>\n",
       "<style scoped>\n",
       "    .dataframe tbody tr th:only-of-type {\n",
       "        vertical-align: middle;\n",
       "    }\n",
       "\n",
       "    .dataframe tbody tr th {\n",
       "        vertical-align: top;\n",
       "    }\n",
       "\n",
       "    .dataframe thead th {\n",
       "        text-align: right;\n",
       "    }\n",
       "</style>\n",
       "<table border=\"1\" class=\"dataframe\">\n",
       "  <thead>\n",
       "    <tr style=\"text-align: right;\">\n",
       "      <th></th>\n",
       "      <th>SalePrice</th>\n",
       "    </tr>\n",
       "    <tr>\n",
       "      <th>Id</th>\n",
       "      <th></th>\n",
       "    </tr>\n",
       "  </thead>\n",
       "  <tbody>\n",
       "    <tr>\n",
       "      <th>1461</th>\n",
       "      <td>111469</td>\n",
       "    </tr>\n",
       "    <tr>\n",
       "      <th>1462</th>\n",
       "      <td>172263</td>\n",
       "    </tr>\n",
       "    <tr>\n",
       "      <th>1463</th>\n",
       "      <td>169883</td>\n",
       "    </tr>\n",
       "    <tr>\n",
       "      <th>1464</th>\n",
       "      <td>172003</td>\n",
       "    </tr>\n",
       "    <tr>\n",
       "      <th>1465</th>\n",
       "      <td>202968</td>\n",
       "    </tr>\n",
       "  </tbody>\n",
       "</table>\n",
       "</div>"
      ],
      "text/plain": [
       "      SalePrice\n",
       "Id             \n",
       "1461     111469\n",
       "1462     172263\n",
       "1463     169883\n",
       "1464     172003\n",
       "1465     202968"
      ]
     },
     "execution_count": 146,
     "metadata": {},
     "output_type": "execute_result"
    }
   ],
   "source": [
    "submission.iloc[:,1] = inverse_transform(xgboost.predict(x_test))\n",
    "submission.set_index(submission['Id'],inplace=True)\n",
    "submission.drop('Id',axis=1,inplace=True)\n",
    "submission.head()"
   ]
  },
  {
   "cell_type": "code",
   "execution_count": 147,
   "metadata": {
    "colab": {
     "base_uri": "https://localhost:8080/",
     "height": 34
    },
    "colab_type": "code",
    "id": "13vTUjr4f-Ue",
    "outputId": "d7d128f6-d9ca-468c-e603-0e6fbc56120e"
   },
   "outputs": [
    {
     "data": {
      "text/plain": [
       "(1459, 1)"
      ]
     },
     "execution_count": 147,
     "metadata": {},
     "output_type": "execute_result"
    }
   ],
   "source": [
    "submission.shape"
   ]
  },
  {
   "cell_type": "code",
   "execution_count": 148,
   "metadata": {
    "colab": {
     "base_uri": "https://localhost:8080/",
     "height": 337
    },
    "colab_type": "code",
    "id": "2Zo1wp28ghH2",
    "outputId": "03cdf456-6af9-4f4c-94e2-d1edb63affa2"
   },
   "outputs": [],
   "source": [
    "submission.to_csv('house_prices-submission.csv')"
   ]
  }
 ],
 "metadata": {
  "colab": {
   "collapsed_sections": [
    "9bFg_A8LM8lS",
    "ctdcCv1tM8ly",
    "bBnOhX57M8mV",
    "88WwLfG4M8nF",
    "QQVwPPlBM8nV",
    "bkrnSiGKM8nt",
    "hce-B3QkM8n5",
    "_2ePPmtdM8oi",
    "iyvy2bNKM8qA",
    "Haa5l6rLM8qs",
    "N1TonO0QM8q7",
    "N6qvar7ZM8ro"
   ],
   "name": "House Pricing Exercise-R8.ipynb",
   "provenance": []
  },
  "kernelspec": {
   "display_name": "Python 3",
   "language": "python",
   "name": "python3"
  },
  "language_info": {
   "codemirror_mode": {
    "name": "ipython",
    "version": 3
   },
   "file_extension": ".py",
   "mimetype": "text/x-python",
   "name": "python",
   "nbconvert_exporter": "python",
   "pygments_lexer": "ipython3",
   "version": "3.7.6"
  }
 },
 "nbformat": 4,
 "nbformat_minor": 4
}
