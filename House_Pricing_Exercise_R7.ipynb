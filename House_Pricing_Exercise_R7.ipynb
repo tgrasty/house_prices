{
  "nbformat": 4,
  "nbformat_minor": 0,
  "metadata": {
    "kernelspec": {
      "display_name": "Python 3",
      "language": "python",
      "name": "python3"
    },
    "language_info": {
      "codemirror_mode": {
        "name": "ipython",
        "version": 3
      },
      "file_extension": ".py",
      "mimetype": "text/x-python",
      "name": "python",
      "nbconvert_exporter": "python",
      "pygments_lexer": "ipython3",
      "version": "3.7.3"
    },
    "colab": {
      "name": "House Pricing Exercise-R7.ipynb",
      "provenance": [],
      "collapsed_sections": [
        "9bFg_A8LM8lS",
        "ctdcCv1tM8ly",
        "bBnOhX57M8mV",
        "88WwLfG4M8nF",
        "QQVwPPlBM8nV",
        "bkrnSiGKM8nt",
        "hce-B3QkM8n5",
        "_2ePPmtdM8oi",
        "iyvy2bNKM8qA",
        "Haa5l6rLM8qs",
        "N1TonO0QM8q7",
        "N6qvar7ZM8ro"
      ]
    }
  },
  "cells": [
    {
      "cell_type": "markdown",
      "metadata": {
        "id": "-FKyv-zGM8f8",
        "colab_type": "text"
      },
      "source": [
        "# Kaggle competition: Predicting House Prices 202003"
      ]
    },
    {
      "cell_type": "code",
      "metadata": {
        "id": "UMU3mJLNnPvA",
        "colab_type": "code",
        "outputId": "2d5c5fa3-2c2d-4dcc-bfc4-2546f40fd4e2",
        "colab": {
          "base_uri": "https://localhost:8080/",
          "height": 289
        }
      },
      "source": [
        "pip install pandasql"
      ],
      "execution_count": 1,
      "outputs": [
        {
          "output_type": "stream",
          "text": [
            "Collecting pandasql\n",
            "  Downloading https://files.pythonhosted.org/packages/6b/c4/ee4096ffa2eeeca0c749b26f0371bd26aa5c8b611c43de99a4f86d3de0a7/pandasql-0.7.3.tar.gz\n",
            "Requirement already satisfied: numpy in /usr/local/lib/python3.6/dist-packages (from pandasql) (1.18.4)\n",
            "Requirement already satisfied: pandas in /usr/local/lib/python3.6/dist-packages (from pandasql) (1.0.4)\n",
            "Requirement already satisfied: sqlalchemy in /usr/local/lib/python3.6/dist-packages (from pandasql) (1.3.17)\n",
            "Requirement already satisfied: python-dateutil>=2.6.1 in /usr/local/lib/python3.6/dist-packages (from pandas->pandasql) (2.8.1)\n",
            "Requirement already satisfied: pytz>=2017.2 in /usr/local/lib/python3.6/dist-packages (from pandas->pandasql) (2018.9)\n",
            "Requirement already satisfied: six>=1.5 in /usr/local/lib/python3.6/dist-packages (from python-dateutil>=2.6.1->pandas->pandasql) (1.12.0)\n",
            "Building wheels for collected packages: pandasql\n",
            "  Building wheel for pandasql (setup.py) ... \u001b[?25l\u001b[?25hdone\n",
            "  Created wheel for pandasql: filename=pandasql-0.7.3-cp36-none-any.whl size=26819 sha256=83609b2ec10172ea44d1e7ad5b7e8cd1d9843fee12059a4c5c8c3439784e75df\n",
            "  Stored in directory: /root/.cache/pip/wheels/53/6c/18/b87a2e5fa8a82e9c026311de56210b8d1c01846e18a9607fc9\n",
            "Successfully built pandasql\n",
            "Installing collected packages: pandasql\n",
            "Successfully installed pandasql-0.7.3\n"
          ],
          "name": "stdout"
        }
      ]
    },
    {
      "cell_type": "code",
      "metadata": {
        "id": "9AC4Bmq3nYsx",
        "colab_type": "code",
        "outputId": "1b11089a-562a-40e2-9479-4c861c0826d1",
        "colab": {
          "base_uri": "https://localhost:8080/",
          "height": 356
        }
      },
      "source": [
        "pip install shap"
      ],
      "execution_count": 2,
      "outputs": [
        {
          "output_type": "stream",
          "text": [
            "Collecting shap\n",
            "\u001b[?25l  Downloading https://files.pythonhosted.org/packages/a8/77/b504e43e21a2ba543a1ac4696718beb500cfa708af2fb57cb54ce299045c/shap-0.35.0.tar.gz (273kB)\n",
            "\r\u001b[K     |█▏                              | 10kB 16.7MB/s eta 0:00:01\r\u001b[K     |██▍                             | 20kB 2.1MB/s eta 0:00:01\r\u001b[K     |███▋                            | 30kB 2.8MB/s eta 0:00:01\r\u001b[K     |████▉                           | 40kB 3.0MB/s eta 0:00:01\r\u001b[K     |██████                          | 51kB 2.5MB/s eta 0:00:01\r\u001b[K     |███████▏                        | 61kB 2.8MB/s eta 0:00:01\r\u001b[K     |████████▍                       | 71kB 3.0MB/s eta 0:00:01\r\u001b[K     |█████████▋                      | 81kB 3.3MB/s eta 0:00:01\r\u001b[K     |██████████▉                     | 92kB 3.5MB/s eta 0:00:01\r\u001b[K     |████████████                    | 102kB 3.5MB/s eta 0:00:01\r\u001b[K     |█████████████▏                  | 112kB 3.5MB/s eta 0:00:01\r\u001b[K     |██████████████▍                 | 122kB 3.5MB/s eta 0:00:01\r\u001b[K     |███████████████▋                | 133kB 3.5MB/s eta 0:00:01\r\u001b[K     |████████████████▉               | 143kB 3.5MB/s eta 0:00:01\r\u001b[K     |██████████████████              | 153kB 3.5MB/s eta 0:00:01\r\u001b[K     |███████████████████▏            | 163kB 3.5MB/s eta 0:00:01\r\u001b[K     |████████████████████▍           | 174kB 3.5MB/s eta 0:00:01\r\u001b[K     |█████████████████████▋          | 184kB 3.5MB/s eta 0:00:01\r\u001b[K     |██████████████████████▉         | 194kB 3.5MB/s eta 0:00:01\r\u001b[K     |████████████████████████        | 204kB 3.5MB/s eta 0:00:01\r\u001b[K     |█████████████████████████▏      | 215kB 3.5MB/s eta 0:00:01\r\u001b[K     |██████████████████████████▍     | 225kB 3.5MB/s eta 0:00:01\r\u001b[K     |███████████████████████████▋    | 235kB 3.5MB/s eta 0:00:01\r\u001b[K     |████████████████████████████▉   | 245kB 3.5MB/s eta 0:00:01\r\u001b[K     |██████████████████████████████  | 256kB 3.5MB/s eta 0:00:01\r\u001b[K     |███████████████████████████████▏| 266kB 3.5MB/s eta 0:00:01\r\u001b[K     |████████████████████████████████| 276kB 3.5MB/s \n",
            "\u001b[?25hRequirement already satisfied: numpy in /usr/local/lib/python3.6/dist-packages (from shap) (1.18.4)\n",
            "Requirement already satisfied: scipy in /usr/local/lib/python3.6/dist-packages (from shap) (1.4.1)\n",
            "Requirement already satisfied: scikit-learn in /usr/local/lib/python3.6/dist-packages (from shap) (0.22.2.post1)\n",
            "Requirement already satisfied: pandas in /usr/local/lib/python3.6/dist-packages (from shap) (1.0.4)\n",
            "Requirement already satisfied: tqdm>4.25.0 in /usr/local/lib/python3.6/dist-packages (from shap) (4.41.1)\n",
            "Requirement already satisfied: joblib>=0.11 in /usr/local/lib/python3.6/dist-packages (from scikit-learn->shap) (0.15.1)\n",
            "Requirement already satisfied: python-dateutil>=2.6.1 in /usr/local/lib/python3.6/dist-packages (from pandas->shap) (2.8.1)\n",
            "Requirement already satisfied: pytz>=2017.2 in /usr/local/lib/python3.6/dist-packages (from pandas->shap) (2018.9)\n",
            "Requirement already satisfied: six>=1.5 in /usr/local/lib/python3.6/dist-packages (from python-dateutil>=2.6.1->pandas->shap) (1.12.0)\n",
            "Building wheels for collected packages: shap\n",
            "  Building wheel for shap (setup.py) ... \u001b[?25l\u001b[?25hdone\n",
            "  Created wheel for shap: filename=shap-0.35.0-cp36-cp36m-linux_x86_64.whl size=394126 sha256=0854c10365ae6be32d53b4ead773b87c62ef7effc266109af23990a743fe9a67\n",
            "  Stored in directory: /root/.cache/pip/wheels/e7/f7/0f/b57055080cf8894906b3bd3616d2fc2bfd0b12d5161bcb24ac\n",
            "Successfully built shap\n",
            "Installing collected packages: shap\n",
            "Successfully installed shap-0.35.0\n"
          ],
          "name": "stdout"
        }
      ]
    },
    {
      "cell_type": "code",
      "metadata": {
        "id": "qj-szKGrM8gR",
        "colab_type": "code",
        "outputId": "4e1d57fe-a914-4e61-cc62-d2d782f2ec4e",
        "colab": {
          "base_uri": "https://localhost:8080/",
          "height": 70
        }
      },
      "source": [
        "import pandas as pd\n",
        "import numpy as np\n",
        "from sklearn import tree\n",
        "from sklearn.tree import plot_tree\n",
        "from sklearn.tree import DecisionTreeClassifier\n",
        "from sklearn.tree import DecisionTreeRegressor\n",
        "from sklearn.model_selection import train_test_split\n",
        "from sklearn import metrics\n",
        "from sklearn.linear_model import LinearRegression\n",
        "from sklearn.model_selection import cross_val_score\n",
        "from sklearn.metrics import mean_squared_log_error\n",
        "import statsmodels.api as sm\n",
        "from statsmodels.formula.api import ols\n",
        "from sklearn.preprocessing import StandardScaler\n",
        "from pydoc import help\n",
        "import scipy.stats as stats\n",
        "from scipy.stats.stats import pearsonr\n",
        "from statsmodels.stats.multicomp import pairwise_tukeyhsd\n",
        "from statsmodels.stats.multicomp import MultiComparison\n",
        "from scipy.stats.stats import kendalltau\n",
        "from sklearn import svm\n",
        "from sklearn.svm import SVR\n",
        "from sklearn.ensemble import RandomForestRegressor\n",
        "import matplotlib.pyplot as plt\n",
        "import pandasql as ps\n",
        "from sklearn.feature_selection import RFE\n",
        "from sklearn.inspection import permutation_importance\n",
        "import shap\n",
        "from xgboost import XGBRegressor\n",
        "import math\n",
        "from scipy.stats import skew"
      ],
      "execution_count": 3,
      "outputs": [
        {
          "output_type": "stream",
          "text": [
            "/usr/local/lib/python3.6/dist-packages/statsmodels/tools/_testing.py:19: FutureWarning: pandas.util.testing is deprecated. Use the functions in the public API at pandas.testing instead.\n",
            "  import pandas.util.testing as tm\n"
          ],
          "name": "stderr"
        }
      ]
    },
    {
      "cell_type": "code",
      "metadata": {
        "id": "hf3D0SX_M8gl",
        "colab_type": "code",
        "colab": {}
      },
      "source": [
        "#conda install -c conda-forge scikit-learn"
      ],
      "execution_count": 0,
      "outputs": []
    },
    {
      "cell_type": "code",
      "metadata": {
        "id": "b82YpoRrM8gv",
        "colab_type": "code",
        "colab": {}
      },
      "source": [
        "#conda update -n base -c defaults conda"
      ],
      "execution_count": 0,
      "outputs": []
    },
    {
      "cell_type": "code",
      "metadata": {
        "id": "MRpdzhnTM8hP",
        "colab_type": "code",
        "colab": {}
      },
      "source": [
        "def correlated_variables(data,obj_variable,min_abs_corr=0.6):\n",
        "    \"\"\"\n",
        "    Generates a DataFrame with the correlations and variables that are higher than \"min_corr\" for variable selection.\n",
        "    data: DataFrame. Correlation matrix only for numeric variables and including objective variable.\n",
        "    min_abs_corr: int. Minimum absolute correlation that will be selected as high correlated\n",
        "    obj_variable: string. Name of the objective variable for the model\n",
        "    \"\"\"\n",
        "    high_corr = pd.DataFrame(columns=['Variable1','Variable2','Corr_V1&V2','Corr_V1&Obj','Corr_V2&Obj'])\n",
        "    k=1\n",
        "    obj_var_pos = data.columns.get_loc(obj_variable)\n",
        "    for i in range(0,len(data)):\n",
        "        for j in range(k,len(data)):\n",
        "            if(np.absolute(data.iloc[i,j])>=min_abs_corr and j!=obj_var_pos):\n",
        "                a = data.index[i]\n",
        "                b = data.columns[j]\n",
        "                c = data.iloc[i,j]\n",
        "                d = data.iloc[i,obj_var_pos]\n",
        "                e = data.iloc[j,obj_var_pos]\n",
        "                high_corr = high_corr.append(pd.DataFrame([[a,b,c,d,e]],columns=high_corr.columns))\n",
        "        k+=1\n",
        "    return high_corr.sort_values('Corr_V1&V2',ascending=False)"
      ],
      "execution_count": 0,
      "outputs": []
    },
    {
      "cell_type": "code",
      "metadata": {
        "id": "E8NkXbUVM8hi",
        "colab_type": "code",
        "colab": {}
      },
      "source": [
        "def null_info(df):\n",
        "    null_count = df.isna().sum().to_frame()\n",
        "    null_count.columns = ['#_NA'] \n",
        "    null_count['%'] = null_count*100/len(df)\n",
        "    #null_count[null_count['%']>30].sort_values('%',ascending=False)\n",
        "    df_dtypes = df.dtypes.to_frame()\n",
        "    df_dtypes.columns = ['data_type']\n",
        "    return null_count.merge(df_dtypes,how='left',left_on=null_count.index,right_on=df_dtypes.index).sort_values('%',ascending=False)\n"
      ],
      "execution_count": 0,
      "outputs": []
    },
    {
      "cell_type": "code",
      "metadata": {
        "id": "RWGbN3x9M8h2",
        "colab_type": "code",
        "colab": {}
      },
      "source": [
        "#Generate 'Empty' category for categorical variables and fill with 0 numerical ones\n",
        "def fill_missing_values(data):\n",
        "    \"\"\"\n",
        "    Fill missing values with category 'Empty' for categorical variables and 0 for numerical\n",
        "    Data: DataFrame. Contains the data that will be analyzed\n",
        "    \"\"\"\n",
        "    df1 = data.copy()\n",
        "    for i in df1:\n",
        "        if df1[i].dtypes == 'object': \n",
        "            #print('Transforming column: ',i,'\\n')\n",
        "            df1[i].fillna('Empty',inplace=True)\n",
        "        else:\n",
        "            df1[i].fillna(0,inplace=True)\n",
        "    return df1"
      ],
      "execution_count": 0,
      "outputs": []
    },
    {
      "cell_type": "code",
      "metadata": {
        "id": "8auqBgQuM8iS",
        "colab_type": "code",
        "colab": {}
      },
      "source": [
        "from sklearn.utils import check_array\n",
        "def mean_absolute_percentage_error(y_true, y_pred): \n",
        "    \"\"\"\n",
        "    Returns the mean absolute percentage error\n",
        "    y_true: 1d array. Real values of \"y\"\n",
        "    y_pred: 1d array. Predicted values of \"y\"\n",
        "    \"\"\"\n",
        "    #y_true, y_pred = check_array(y_true, y_pred)\n",
        "\n",
        "    ## Note: does not handle mix 1d representation\n",
        "    #if _is_1d(y_true): \n",
        "    #    y_true, y_pred = _check_1d_array(y_true, y_pred)\n",
        "\n",
        "    return np.mean(np.abs((y_true - y_pred) / y_true)) * 100"
      ],
      "execution_count": 0,
      "outputs": []
    },
    {
      "cell_type": "code",
      "metadata": {
        "id": "u-RA5QXGM8ic",
        "colab_type": "code",
        "colab": {}
      },
      "source": [
        "def pearson_filtering(data,obj_variable,max_pvalue=0.05,min_abs_pearson=0.5):\n",
        "    \"\"\"\n",
        "    Returns DataFrame with the pearson correlation and p-values for numerical variables of \"data\" with a higher correlation than \"threshold\" with the \"obj_variable\"\n",
        "    data: Data Frame containing numerical and categorical variables as well as the objective variable\n",
        "    max_pvalue: float/int. Maximum pvalue for numeric variables correlation\n",
        "    min_abs_pearson: float/int. Minimum absolute pearson correlation between the regressor variables and objective variable (\"obj_variable\")\n",
        "    obj_variable: string. Name of the objective variable within \"data\"\n",
        "    \"\"\"\n",
        "    data_corr = data.loc[:,data.dtypes!='object'].corr()\n",
        "    selected_numerical = data_corr[data_corr[obj_variable].abs()>min_abs_pearson][obj_variable]\n",
        "    try:\n",
        "        selected_numerical.drop([obj_variable],inplace=True)\n",
        "    except (KeyError):\n",
        "        pass\n",
        "\n",
        "    #Calculate P-values and filtering significant variables (<5%)\n",
        "    pearson_stats = [pearsonr(data[i].to_numpy(),data[obj_variable]) for i in data[selected_numerical.index]]\n",
        "    result = pd.DataFrame(pearson_stats,columns=['Corr_Coef','P-value'],index=selected_numerical.index)\n",
        "    result['abs_corr'] = result['Corr_Coef'].abs()\n",
        "    return result[result['P-value']<max_pvalue].sort_values('abs_corr',ascending=False).drop('abs_corr',axis=1)"
      ],
      "execution_count": 0,
      "outputs": []
    },
    {
      "cell_type": "code",
      "metadata": {
        "id": "LVWnppDMM8io",
        "colab_type": "code",
        "colab": {}
      },
      "source": [
        "def cross_plot(data, barra, variable, categorias, size=(10,7), titulo = None, order=1):\n",
        "    \"\"\"\n",
        "    Generates double axis plot with lines and bars\n",
        "    data: DataFrame. With data for the plot.\n",
        "    barra: String. Name of the column of \"data\" that will be represented as bars.\n",
        "    variable: String. Name of the column of \"data\" that will be represented as a line.\n",
        "    categorias: String. Name of the column of \"data\" that will be used as the x-axis categories.\n",
        "    titulo: String. Title of the graph.\n",
        "    order: Int. 1 means \"categorias\" will be ordered.\n",
        "    \"\"\"\n",
        "    fig, ax1 = plt.subplots(figsize=size)\n",
        "    ax2 = ax1.twinx()\n",
        "    if order==1:\n",
        "        data = data.sort_values(barra).reset_index(drop=True)\n",
        "    data[barra].plot(kind='bar', color='b', ax=ax1, label=barra)\n",
        "    try:\n",
        "        for v in variable:\n",
        "            data[v].plot(kind='line', marker='d', ax=ax2, label=v)\n",
        "    except:\n",
        "        data[variable].plot(kind='line',color='r', marker='d', ax=ax2, label=variable)\n",
        "    ax1.yaxis.tick_left()\n",
        "    ax2.yaxis.tick_right()\n",
        "    ticks = data[categorias]\n",
        "    plt.xticks(np.arange(ticks.unique().shape[0]),ticks)\n",
        "    plt.xticks(rotation=60)\n",
        "    \n",
        "    n_cat = data.shape[0]\n",
        "    max_height = data[variable].max()\n",
        "    min_height = data[variable].min()\n",
        "    plt.xlim(-0.5,n_cat-0.5)\n",
        "    plt.ylim(min_height*0.95,max_height*1.05)\n",
        "    \n",
        "    plt.title(titulo)\n",
        "    ax1.set_xlabel(categorias)\n",
        "    ax1.set_ylabel(barra)\n",
        "    ax2.set_ylabel(variable)\n",
        "    plt.legend()"
      ],
      "execution_count": 0,
      "outputs": []
    },
    {
      "cell_type": "code",
      "metadata": {
        "id": "XalG4xw-M8jN",
        "colab_type": "code",
        "outputId": "bbedc755-8d1c-490a-f4f3-b9e0a453dbf1",
        "colab": {
          "base_uri": "https://localhost:8080/",
          "height": 34
        }
      },
      "source": [
        "datasets = {}\n",
        "datasets['0.test_original'] = pd.read_csv('https://raw.githubusercontent.com/tgrasty/house_prices/master/test.csv')\n",
        "datasets['0.test_original'].shape"
      ],
      "execution_count": 12,
      "outputs": [
        {
          "output_type": "execute_result",
          "data": {
            "text/plain": [
              "(1459, 80)"
            ]
          },
          "metadata": {
            "tags": []
          },
          "execution_count": 12
        }
      ]
    },
    {
      "cell_type": "code",
      "metadata": {
        "id": "kKR3uRkWM8i1",
        "colab_type": "code",
        "colab": {}
      },
      "source": [
        "path = 'https://raw.githubusercontent.com/tgrasty/house_prices/master/train.csv'"
      ],
      "execution_count": 0,
      "outputs": []
    },
    {
      "cell_type": "code",
      "metadata": {
        "id": "Fo5LV_taM8i-",
        "colab_type": "code",
        "colab": {}
      },
      "source": [
        "df = pd.read_csv(path)"
      ],
      "execution_count": 0,
      "outputs": []
    },
    {
      "cell_type": "code",
      "metadata": {
        "id": "ouC10-jJM8jG",
        "colab_type": "code",
        "colab": {}
      },
      "source": [
        "datasets['1.train_original'] = df"
      ],
      "execution_count": 0,
      "outputs": []
    },
    {
      "cell_type": "code",
      "metadata": {
        "id": "eiM6CCL5M8jV",
        "colab_type": "code",
        "outputId": "b75b45d6-56e4-4a51-ff08-6af568fb9c31",
        "colab": {
          "base_uri": "https://localhost:8080/",
          "height": 34
        }
      },
      "source": [
        "df.shape"
      ],
      "execution_count": 16,
      "outputs": [
        {
          "output_type": "execute_result",
          "data": {
            "text/plain": [
              "(1460, 81)"
            ]
          },
          "metadata": {
            "tags": []
          },
          "execution_count": 16
        }
      ]
    },
    {
      "cell_type": "code",
      "metadata": {
        "id": "yy1ALNZcM8jd",
        "colab_type": "code",
        "outputId": "4a76c38b-4282-40e5-e70d-7ba7aa451ad6",
        "colab": {
          "base_uri": "https://localhost:8080/",
          "height": 34
        }
      },
      "source": [
        "pd.set_option('display.max_rows', 100)\n",
        "datasets.keys()"
      ],
      "execution_count": 17,
      "outputs": [
        {
          "output_type": "execute_result",
          "data": {
            "text/plain": [
              "dict_keys(['0.test_original', '1.train_original'])"
            ]
          },
          "metadata": {
            "tags": []
          },
          "execution_count": 17
        }
      ]
    },
    {
      "cell_type": "code",
      "metadata": {
        "id": "7DwMUrS-M8jp",
        "colab_type": "code",
        "outputId": "d8c3b48d-28f9-4534-e820-b427bedbfdb0",
        "colab": {
          "base_uri": "https://localhost:8080/",
          "height": 195
        }
      },
      "source": [
        "# Check data types\n",
        "sample = df.head().transpose()\n",
        "types = df.dtypes.to_frame()\n",
        "types.merge(sample,how='left',left_on=types.index,right_on=sample.index).head()"
      ],
      "execution_count": 18,
      "outputs": [
        {
          "output_type": "execute_result",
          "data": {
            "text/html": [
              "<div>\n",
              "<style scoped>\n",
              "    .dataframe tbody tr th:only-of-type {\n",
              "        vertical-align: middle;\n",
              "    }\n",
              "\n",
              "    .dataframe tbody tr th {\n",
              "        vertical-align: top;\n",
              "    }\n",
              "\n",
              "    .dataframe thead th {\n",
              "        text-align: right;\n",
              "    }\n",
              "</style>\n",
              "<table border=\"1\" class=\"dataframe\">\n",
              "  <thead>\n",
              "    <tr style=\"text-align: right;\">\n",
              "      <th></th>\n",
              "      <th>key_0</th>\n",
              "      <th>0_x</th>\n",
              "      <th>0_y</th>\n",
              "      <th>1</th>\n",
              "      <th>2</th>\n",
              "      <th>3</th>\n",
              "      <th>4</th>\n",
              "    </tr>\n",
              "  </thead>\n",
              "  <tbody>\n",
              "    <tr>\n",
              "      <th>0</th>\n",
              "      <td>Id</td>\n",
              "      <td>int64</td>\n",
              "      <td>1</td>\n",
              "      <td>2</td>\n",
              "      <td>3</td>\n",
              "      <td>4</td>\n",
              "      <td>5</td>\n",
              "    </tr>\n",
              "    <tr>\n",
              "      <th>1</th>\n",
              "      <td>MSSubClass</td>\n",
              "      <td>int64</td>\n",
              "      <td>60</td>\n",
              "      <td>20</td>\n",
              "      <td>60</td>\n",
              "      <td>70</td>\n",
              "      <td>60</td>\n",
              "    </tr>\n",
              "    <tr>\n",
              "      <th>2</th>\n",
              "      <td>MSZoning</td>\n",
              "      <td>object</td>\n",
              "      <td>RL</td>\n",
              "      <td>RL</td>\n",
              "      <td>RL</td>\n",
              "      <td>RL</td>\n",
              "      <td>RL</td>\n",
              "    </tr>\n",
              "    <tr>\n",
              "      <th>3</th>\n",
              "      <td>LotFrontage</td>\n",
              "      <td>float64</td>\n",
              "      <td>65</td>\n",
              "      <td>80</td>\n",
              "      <td>68</td>\n",
              "      <td>60</td>\n",
              "      <td>84</td>\n",
              "    </tr>\n",
              "    <tr>\n",
              "      <th>4</th>\n",
              "      <td>LotArea</td>\n",
              "      <td>int64</td>\n",
              "      <td>8450</td>\n",
              "      <td>9600</td>\n",
              "      <td>11250</td>\n",
              "      <td>9550</td>\n",
              "      <td>14260</td>\n",
              "    </tr>\n",
              "  </tbody>\n",
              "</table>\n",
              "</div>"
            ],
            "text/plain": [
              "         key_0      0_x   0_y     1      2     3      4\n",
              "0           Id    int64     1     2      3     4      5\n",
              "1   MSSubClass    int64    60    20     60    70     60\n",
              "2     MSZoning   object    RL    RL     RL    RL     RL\n",
              "3  LotFrontage  float64    65    80     68    60     84\n",
              "4      LotArea    int64  8450  9600  11250  9550  14260"
            ]
          },
          "metadata": {
            "tags": []
          },
          "execution_count": 18
        }
      ]
    },
    {
      "cell_type": "code",
      "metadata": {
        "id": "YAEtzS6oB4kR",
        "colab_type": "code",
        "colab": {}
      },
      "source": [
        "quantitative = [f for f in df.columns if df.dtypes[f] != 'object']\n",
        "quantitative.remove('SalePrice')\n",
        "quantitative.remove('Id')\n",
        "qualitative = [f for f in df.columns if df.dtypes[f] == 'object']"
      ],
      "execution_count": 0,
      "outputs": []
    },
    {
      "cell_type": "code",
      "metadata": {
        "id": "UctVo0NDC2I1",
        "colab_type": "code",
        "outputId": "1dbf6c4a-6c9b-4345-b334-5ba7c9c0b923",
        "colab": {
          "base_uri": "https://localhost:8080/",
          "height": 34
        }
      },
      "source": [
        "test_normality = lambda x: stats.shapiro(x.fillna(0))[1] <0.01\n",
        "normal = pd.DataFrame(df[quantitative])\n",
        "normal = normal.apply(test_normality)\n",
        "print(not normal.any())\n"
      ],
      "execution_count": 20,
      "outputs": [
        {
          "output_type": "stream",
          "text": [
            "False\n"
          ],
          "name": "stdout"
        }
      ]
    },
    {
      "cell_type": "code",
      "metadata": {
        "id": "mEiJb6InHQRI",
        "colab_type": "code",
        "outputId": "5d9bd2bb-4bdd-43c5-d715-54940d48ac1e",
        "colab": {
          "base_uri": "https://localhost:8080/",
          "height": 590
        }
      },
      "source": [
        "import seaborn as sns\n",
        "y = df['SalePrice']\n",
        "plt.figure(1); plt.title('Normal')\n",
        "sns.distplot(y, kde=False, fit=stats.norm)\n",
        "plt.figure(2); plt.title('Log Normal')\n",
        "sns.distplot(y, kde=False, fit=stats.lognorm)"
      ],
      "execution_count": 21,
      "outputs": [
        {
          "output_type": "execute_result",
          "data": {
            "text/plain": [
              "<matplotlib.axes._subplots.AxesSubplot at 0x7f2898711668>"
            ]
          },
          "metadata": {
            "tags": []
          },
          "execution_count": 21
        },
        {
          "output_type": "display_data",
          "data": {
            "image/png": "[encoded data removed]",
            "text/plain": [
              "<Figure size 432x288 with 1 Axes>"
            ]
          },
          "metadata": {
            "tags": [],
            "needs_background": "light"
          }
        },
        {
          "output_type": "display_data",
          "data": {
            "image/png": "[encoded data removed]",
            "text/plain": [
              "<Figure size 432x288 with 1 Axes>"
            ]
          },
          "metadata": {
            "tags": [],
            "needs_background": "light"
          }
        }
      ]
    },
    {
      "cell_type": "markdown",
      "metadata": {
        "id": "cL0XgDm3M8j3",
        "colab_type": "text"
      },
      "source": [
        "### Data Cleansing\n"
      ]
    },
    {
      "cell_type": "code",
      "metadata": {
        "id": "rCaNoQZ2M8j5",
        "colab_type": "code",
        "outputId": "bc7abe5e-c263-4d22-b46c-2213e645e054",
        "colab": {
          "base_uri": "https://localhost:8080/",
          "height": 195
        }
      },
      "source": [
        "df_nulls = null_info(df)\n",
        "df_nulls.head()\n",
        "#df_nulls[df_nulls['%']>0].sort_values('%',ascending=False)"
      ],
      "execution_count": 22,
      "outputs": [
        {
          "output_type": "execute_result",
          "data": {
            "text/html": [
              "<div>\n",
              "<style scoped>\n",
              "    .dataframe tbody tr th:only-of-type {\n",
              "        vertical-align: middle;\n",
              "    }\n",
              "\n",
              "    .dataframe tbody tr th {\n",
              "        vertical-align: top;\n",
              "    }\n",
              "\n",
              "    .dataframe thead th {\n",
              "        text-align: right;\n",
              "    }\n",
              "</style>\n",
              "<table border=\"1\" class=\"dataframe\">\n",
              "  <thead>\n",
              "    <tr style=\"text-align: right;\">\n",
              "      <th></th>\n",
              "      <th>key_0</th>\n",
              "      <th>#_NA</th>\n",
              "      <th>%</th>\n",
              "      <th>data_type</th>\n",
              "    </tr>\n",
              "  </thead>\n",
              "  <tbody>\n",
              "    <tr>\n",
              "      <th>72</th>\n",
              "      <td>PoolQC</td>\n",
              "      <td>1453</td>\n",
              "      <td>99.520548</td>\n",
              "      <td>object</td>\n",
              "    </tr>\n",
              "    <tr>\n",
              "      <th>74</th>\n",
              "      <td>MiscFeature</td>\n",
              "      <td>1406</td>\n",
              "      <td>96.301370</td>\n",
              "      <td>object</td>\n",
              "    </tr>\n",
              "    <tr>\n",
              "      <th>6</th>\n",
              "      <td>Alley</td>\n",
              "      <td>1369</td>\n",
              "      <td>93.767123</td>\n",
              "      <td>object</td>\n",
              "    </tr>\n",
              "    <tr>\n",
              "      <th>73</th>\n",
              "      <td>Fence</td>\n",
              "      <td>1179</td>\n",
              "      <td>80.753425</td>\n",
              "      <td>object</td>\n",
              "    </tr>\n",
              "    <tr>\n",
              "      <th>57</th>\n",
              "      <td>FireplaceQu</td>\n",
              "      <td>690</td>\n",
              "      <td>47.260274</td>\n",
              "      <td>object</td>\n",
              "    </tr>\n",
              "  </tbody>\n",
              "</table>\n",
              "</div>"
            ],
            "text/plain": [
              "          key_0  #_NA          % data_type\n",
              "72       PoolQC  1453  99.520548    object\n",
              "74  MiscFeature  1406  96.301370    object\n",
              "6         Alley  1369  93.767123    object\n",
              "73        Fence  1179  80.753425    object\n",
              "57  FireplaceQu   690  47.260274    object"
            ]
          },
          "metadata": {
            "tags": []
          },
          "execution_count": 22
        }
      ]
    },
    {
      "cell_type": "code",
      "metadata": {
        "id": "gtaqvSF1NG8G",
        "colab_type": "code",
        "outputId": "cd2e3094-0f56-4e4c-8242-bb73bd77801a",
        "colab": {
          "base_uri": "https://localhost:8080/",
          "height": 34
        }
      },
      "source": [
        "datasets.keys()"
      ],
      "execution_count": 23,
      "outputs": [
        {
          "output_type": "execute_result",
          "data": {
            "text/plain": [
              "dict_keys(['0.test_original', '1.train_original'])"
            ]
          },
          "metadata": {
            "tags": []
          },
          "execution_count": 23
        }
      ]
    },
    {
      "cell_type": "code",
      "metadata": {
        "id": "EaKMNuS5M8kB",
        "colab_type": "code",
        "colab": {}
      },
      "source": [
        "features = pd.concat([df.drop('SalePrice',axis=1),datasets['0.test_original']]).reset_index(drop=True)\n",
        "df1 = fill_missing_values(features)"
      ],
      "execution_count": 0,
      "outputs": []
    },
    {
      "cell_type": "code",
      "metadata": {
        "id": "OWpCEHlFM8kH",
        "colab_type": "code",
        "outputId": "164f1f41-219d-496e-b4a9-9de77ec42ffc",
        "colab": {
          "base_uri": "https://localhost:8080/",
          "height": 47
        }
      },
      "source": [
        "df1_nulls = null_info(df1)\n",
        "df1_nulls[df1_nulls['%']>0].sort_values('%',ascending=False)"
      ],
      "execution_count": 25,
      "outputs": [
        {
          "output_type": "execute_result",
          "data": {
            "text/html": [
              "<div>\n",
              "<style scoped>\n",
              "    .dataframe tbody tr th:only-of-type {\n",
              "        vertical-align: middle;\n",
              "    }\n",
              "\n",
              "    .dataframe tbody tr th {\n",
              "        vertical-align: top;\n",
              "    }\n",
              "\n",
              "    .dataframe thead th {\n",
              "        text-align: right;\n",
              "    }\n",
              "</style>\n",
              "<table border=\"1\" class=\"dataframe\">\n",
              "  <thead>\n",
              "    <tr style=\"text-align: right;\">\n",
              "      <th></th>\n",
              "      <th>key_0</th>\n",
              "      <th>#_NA</th>\n",
              "      <th>%</th>\n",
              "      <th>data_type</th>\n",
              "    </tr>\n",
              "  </thead>\n",
              "  <tbody>\n",
              "  </tbody>\n",
              "</table>\n",
              "</div>"
            ],
            "text/plain": [
              "Empty DataFrame\n",
              "Columns: [key_0, #_NA, %, data_type]\n",
              "Index: []"
            ]
          },
          "metadata": {
            "tags": []
          },
          "execution_count": 25
        }
      ]
    },
    {
      "cell_type": "markdown",
      "metadata": {
        "id": "RutTYnj1M8kO",
        "colab_type": "text"
      },
      "source": [
        "#### Correction of data types"
      ]
    },
    {
      "cell_type": "code",
      "metadata": {
        "id": "1ZxYqBz2M8kR",
        "colab_type": "code",
        "outputId": "8b521627-b244-42f6-964d-8e74781ee7a6",
        "colab": {
          "base_uri": "https://localhost:8080/",
          "height": 34
        }
      },
      "source": [
        "df1['CentralAir'].unique()"
      ],
      "execution_count": 26,
      "outputs": [
        {
          "output_type": "execute_result",
          "data": {
            "text/plain": [
              "array(['Y', 'N'], dtype=object)"
            ]
          },
          "metadata": {
            "tags": []
          },
          "execution_count": 26
        }
      ]
    },
    {
      "cell_type": "code",
      "metadata": {
        "id": "cZOjACKTM8kY",
        "colab_type": "code",
        "colab": {}
      },
      "source": [
        "#CentralAir -> transform to binary\n",
        "df1['CentralAir'] = df1['CentralAir'].map(lambda x: 1 if x=='Y' else 0)"
      ],
      "execution_count": 0,
      "outputs": []
    },
    {
      "cell_type": "code",
      "metadata": {
        "id": "5vfWzV_zM8kj",
        "colab_type": "code",
        "colab": {}
      },
      "source": [
        "#Correct current numeric variables that represent categories: transform to string\n",
        "to_string = ['MSSubClass','YearBuilt','YearRemodAdd','GarageYrBlt','MoSold','YrSold']\n",
        "new_categorical = df1[to_string].astype(str)\n",
        "df1.drop(to_string,axis=1,inplace=True)\n",
        "df1 = pd.concat([df1,new_categorical],axis=1)"
      ],
      "execution_count": 0,
      "outputs": []
    },
    {
      "cell_type": "code",
      "metadata": {
        "id": "AbT9reucM8ks",
        "colab_type": "code",
        "outputId": "9abd5544-2c46-4deb-9f0a-5f94f57991a4",
        "colab": {
          "base_uri": "https://localhost:8080/",
          "height": 34
        }
      },
      "source": [
        "df1.MSSubClass.dtypes"
      ],
      "execution_count": 29,
      "outputs": [
        {
          "output_type": "execute_result",
          "data": {
            "text/plain": [
              "dtype('O')"
            ]
          },
          "metadata": {
            "tags": []
          },
          "execution_count": 29
        }
      ]
    },
    {
      "cell_type": "markdown",
      "metadata": {
        "id": "DXBhZ3MSM8kz",
        "colab_type": "text"
      },
      "source": [
        "###  Variable Generation"
      ]
    },
    {
      "cell_type": "code",
      "metadata": {
        "id": "PkZgupBPM8k0",
        "colab_type": "code",
        "colab": {}
      },
      "source": [
        "df1['TotalArea'] = df1.PoolArea+df1.LotArea+df1.GrLivArea+df1.GarageArea"
      ],
      "execution_count": 0,
      "outputs": []
    },
    {
      "cell_type": "code",
      "metadata": {
        "id": "ir04Jxe1M8k9",
        "colab_type": "code",
        "colab": {}
      },
      "source": [
        "#features_subset = df.loc[:,['Neighborhood','TotalArea','OveralQual','HeatingQC','CentralAir','SaleCondition']]\n",
        "df1['TotalLivingArea'] = df1['1stFlrSF']+df1['2ndFlrSF']"
      ],
      "execution_count": 0,
      "outputs": []
    },
    {
      "cell_type": "code",
      "metadata": {
        "id": "VSszOtKZQ7Or",
        "colab_type": "code",
        "colab": {}
      },
      "source": [
        "df1['YrBltAndRemod']=df1['YearBuilt']+df1['YearRemodAdd']\n",
        "df1['TotalSF']=df1['TotalBsmtSF'] + df1['1stFlrSF'] + df1['2ndFlrSF']\n",
        " \n",
        "df1['TotalSqrFootage'] = (df1['BsmtFinSF1'] + df1['BsmtFinSF2'] +\n",
        "                                 df1['1stFlrSF'] + df1['2ndFlrSF'])\n",
        " \n",
        "df1['TotalBathrooms'] = (df1['FullBath'] + (0.5 * df1['HalfBath']) +\n",
        "                               df1['BsmtFullBath'] + (0.5 * df1['BsmtHalfBath']))\n",
        " \n",
        "df1['TotalPorchSf'] = (df1['OpenPorchSF'] + df1['3SsnPorch'] +\n",
        "                              df1['EnclosedPorch'] + df1['ScreenPorch'] +\n",
        "                              df1['WoodDeckSF'])\n",
        "df1['haspool'] = df1['PoolArea'].apply(lambda x: 1 if x > 0 else 0)\n",
        "df1['has2ndfloor'] = df1['2ndFlrSF'].apply(lambda x: 1 if x > 0 else 0)\n",
        "df1['hasgarage'] = df1['GarageArea'].apply(lambda x: 1 if x > 0 else 0)\n",
        "df1['hasbsmt'] = df1['TotalBsmtSF'].apply(lambda x: 1 if x > 0 else 0)\n",
        "df1['hasfireplace'] = df1['Fireplaces'].apply(lambda x: 1 if x > 0 else 0)"
      ],
      "execution_count": 0,
      "outputs": []
    },
    {
      "cell_type": "code",
      "metadata": {
        "id": "eBiKIStrM8lD",
        "colab_type": "code",
        "colab": {}
      },
      "source": [
        "datasets['2.train+test_cleaned+new features'] = df1"
      ],
      "execution_count": 0,
      "outputs": []
    },
    {
      "cell_type": "code",
      "metadata": {
        "id": "KZ537UdiM8lK",
        "colab_type": "code",
        "outputId": "ff0016d9-e3b6-4a2c-f9e5-66a0bb25dbb2",
        "colab": {
          "base_uri": "https://localhost:8080/",
          "height": 34
        }
      },
      "source": [
        "datasets.keys()"
      ],
      "execution_count": 34,
      "outputs": [
        {
          "output_type": "execute_result",
          "data": {
            "text/plain": [
              "dict_keys(['0.test_original', '1.train_original', '2.train+test_cleaned+new features'])"
            ]
          },
          "metadata": {
            "tags": []
          },
          "execution_count": 34
        }
      ]
    },
    {
      "cell_type": "markdown",
      "metadata": {
        "id": "ctdcCv1tM8ly",
        "colab_type": "text"
      },
      "source": [
        "### Variable Selection"
      ]
    },
    {
      "cell_type": "markdown",
      "metadata": {
        "id": "M4597JlWM8l6",
        "colab_type": "text"
      },
      "source": [
        "#### Filtering features: Pearson correlation"
      ]
    },
    {
      "cell_type": "code",
      "metadata": {
        "id": "EKU-ATsCORXK",
        "colab_type": "code",
        "outputId": "8e1139d1-1618-4eb2-d7ae-9f117da2377e",
        "colab": {
          "base_uri": "https://localhost:8080/",
          "height": 0
        }
      },
      "source": [
        "data = datasets['2.train+test_cleaned+new features'].iloc[:len(datasets['1.train_original']),:]\n",
        "data = pd.concat([data,datasets['1.train_original'].SalePrice],axis=1)\n",
        "data = pd.get_dummies(data,drop_first=True).drop('Id',axis=1)\n",
        "scaler = StandardScaler() \n",
        "numerical_std = pd.DataFrame(scaler.fit_transform(data),columns=data.columns)\n",
        "numerical_std.head()"
      ],
      "execution_count": 35,
      "outputs": [
        {
          "output_type": "execute_result",
          "data": {
            "text/html": [
              "<div>\n",
              "<style scoped>\n",
              "    .dataframe tbody tr th:only-of-type {\n",
              "        vertical-align: middle;\n",
              "    }\n",
              "\n",
              "    .dataframe tbody tr th {\n",
              "        vertical-align: top;\n",
              "    }\n",
              "\n",
              "    .dataframe thead th {\n",
              "        text-align: right;\n",
              "    }\n",
              "</style>\n",
              "<table border=\"1\" class=\"dataframe\">\n",
              "  <thead>\n",
              "    <tr style=\"text-align: right;\">\n",
              "      <th></th>\n",
              "      <th>LotFrontage</th>\n",
              "      <th>LotArea</th>\n",
              "      <th>OverallQual</th>\n",
              "      <th>OverallCond</th>\n",
              "      <th>MasVnrArea</th>\n",
              "      <th>BsmtFinSF1</th>\n",
              "      <th>BsmtFinSF2</th>\n",
              "      <th>BsmtUnfSF</th>\n",
              "      <th>TotalBsmtSF</th>\n",
              "      <th>CentralAir</th>\n",
              "      <th>1stFlrSF</th>\n",
              "      <th>2ndFlrSF</th>\n",
              "      <th>LowQualFinSF</th>\n",
              "      <th>GrLivArea</th>\n",
              "      <th>BsmtFullBath</th>\n",
              "      <th>BsmtHalfBath</th>\n",
              "      <th>FullBath</th>\n",
              "      <th>HalfBath</th>\n",
              "      <th>BedroomAbvGr</th>\n",
              "      <th>KitchenAbvGr</th>\n",
              "      <th>TotRmsAbvGrd</th>\n",
              "      <th>Fireplaces</th>\n",
              "      <th>GarageCars</th>\n",
              "      <th>GarageArea</th>\n",
              "      <th>WoodDeckSF</th>\n",
              "      <th>OpenPorchSF</th>\n",
              "      <th>EnclosedPorch</th>\n",
              "      <th>3SsnPorch</th>\n",
              "      <th>ScreenPorch</th>\n",
              "      <th>PoolArea</th>\n",
              "      <th>MiscVal</th>\n",
              "      <th>TotalArea</th>\n",
              "      <th>TotalLivingArea</th>\n",
              "      <th>TotalSF</th>\n",
              "      <th>TotalSqrFootage</th>\n",
              "      <th>TotalBathrooms</th>\n",
              "      <th>TotalPorchSf</th>\n",
              "      <th>haspool</th>\n",
              "      <th>has2ndfloor</th>\n",
              "      <th>hasgarage</th>\n",
              "      <th>...</th>\n",
              "      <th>YrBltAndRemod_19941995</th>\n",
              "      <th>YrBltAndRemod_19941996</th>\n",
              "      <th>YrBltAndRemod_19941998</th>\n",
              "      <th>YrBltAndRemod_19942002</th>\n",
              "      <th>YrBltAndRemod_19942005</th>\n",
              "      <th>YrBltAndRemod_19951995</th>\n",
              "      <th>YrBltAndRemod_19951996</th>\n",
              "      <th>YrBltAndRemod_19952006</th>\n",
              "      <th>YrBltAndRemod_19961996</th>\n",
              "      <th>YrBltAndRemod_19961997</th>\n",
              "      <th>YrBltAndRemod_19971997</th>\n",
              "      <th>YrBltAndRemod_19971998</th>\n",
              "      <th>YrBltAndRemod_19981998</th>\n",
              "      <th>YrBltAndRemod_19981999</th>\n",
              "      <th>YrBltAndRemod_19991999</th>\n",
              "      <th>YrBltAndRemod_19992000</th>\n",
              "      <th>YrBltAndRemod_19992007</th>\n",
              "      <th>YrBltAndRemod_20002000</th>\n",
              "      <th>YrBltAndRemod_20002001</th>\n",
              "      <th>YrBltAndRemod_20012001</th>\n",
              "      <th>YrBltAndRemod_20012002</th>\n",
              "      <th>YrBltAndRemod_20022002</th>\n",
              "      <th>YrBltAndRemod_20022003</th>\n",
              "      <th>YrBltAndRemod_20032003</th>\n",
              "      <th>YrBltAndRemod_20032004</th>\n",
              "      <th>YrBltAndRemod_20042004</th>\n",
              "      <th>YrBltAndRemod_20042005</th>\n",
              "      <th>YrBltAndRemod_20042006</th>\n",
              "      <th>YrBltAndRemod_20052005</th>\n",
              "      <th>YrBltAndRemod_20052006</th>\n",
              "      <th>YrBltAndRemod_20052007</th>\n",
              "      <th>YrBltAndRemod_20062006</th>\n",
              "      <th>YrBltAndRemod_20062007</th>\n",
              "      <th>YrBltAndRemod_20072007</th>\n",
              "      <th>YrBltAndRemod_20072008</th>\n",
              "      <th>YrBltAndRemod_20082008</th>\n",
              "      <th>YrBltAndRemod_20082009</th>\n",
              "      <th>YrBltAndRemod_20092009</th>\n",
              "      <th>YrBltAndRemod_20092010</th>\n",
              "      <th>YrBltAndRemod_20102010</th>\n",
              "    </tr>\n",
              "  </thead>\n",
              "  <tbody>\n",
              "    <tr>\n",
              "      <th>0</th>\n",
              "      <td>0.212877</td>\n",
              "      <td>-0.207142</td>\n",
              "      <td>0.651479</td>\n",
              "      <td>-0.517200</td>\n",
              "      <td>0.514104</td>\n",
              "      <td>0.575425</td>\n",
              "      <td>-0.288653</td>\n",
              "      <td>-0.944591</td>\n",
              "      <td>-0.459303</td>\n",
              "      <td>0.263813</td>\n",
              "      <td>-0.793434</td>\n",
              "      <td>1.161852</td>\n",
              "      <td>-0.120242</td>\n",
              "      <td>0.370333</td>\n",
              "      <td>1.107810</td>\n",
              "      <td>-0.241061</td>\n",
              "      <td>0.789741</td>\n",
              "      <td>1.227585</td>\n",
              "      <td>0.163779</td>\n",
              "      <td>-0.211454</td>\n",
              "      <td>0.912210</td>\n",
              "      <td>-0.951226</td>\n",
              "      <td>0.311725</td>\n",
              "      <td>0.351000</td>\n",
              "      <td>-0.752176</td>\n",
              "      <td>0.216503</td>\n",
              "      <td>-0.359325</td>\n",
              "      <td>-0.116339</td>\n",
              "      <td>-0.270208</td>\n",
              "      <td>-0.068692</td>\n",
              "      <td>-0.087688</td>\n",
              "      <td>-0.176862</td>\n",
              "      <td>0.384619</td>\n",
              "      <td>-0.001277</td>\n",
              "      <td>0.537905</td>\n",
              "      <td>1.642256</td>\n",
              "      <td>-0.768375</td>\n",
              "      <td>-0.069409</td>\n",
              "      <td>1.146206</td>\n",
              "      <td>0.24236</td>\n",
              "      <td>...</td>\n",
              "      <td>-0.078757</td>\n",
              "      <td>-0.02618</td>\n",
              "      <td>-0.02618</td>\n",
              "      <td>-0.02618</td>\n",
              "      <td>-0.02618</td>\n",
              "      <td>-0.064238</td>\n",
              "      <td>-0.087129</td>\n",
              "      <td>-0.02618</td>\n",
              "      <td>-0.074227</td>\n",
              "      <td>-0.069409</td>\n",
              "      <td>-0.074227</td>\n",
              "      <td>-0.064238</td>\n",
              "      <td>-0.111726</td>\n",
              "      <td>-0.069409</td>\n",
              "      <td>-0.10854</td>\n",
              "      <td>-0.069409</td>\n",
              "      <td>-0.02618</td>\n",
              "      <td>-0.123689</td>\n",
              "      <td>-0.037037</td>\n",
              "      <td>-0.083045</td>\n",
              "      <td>-0.083045</td>\n",
              "      <td>-0.114827</td>\n",
              "      <td>-0.052414</td>\n",
              "      <td>7.151423</td>\n",
              "      <td>-0.10854</td>\n",
              "      <td>-0.144841</td>\n",
              "      <td>-0.126513</td>\n",
              "      <td>-0.02618</td>\n",
              "      <td>-0.152071</td>\n",
              "      <td>-0.139832</td>\n",
              "      <td>-0.045376</td>\n",
              "      <td>-0.180366</td>\n",
              "      <td>-0.120803</td>\n",
              "      <td>-0.154412</td>\n",
              "      <td>-0.101885</td>\n",
              "      <td>-0.105263</td>\n",
              "      <td>-0.069409</td>\n",
              "      <td>-0.098397</td>\n",
              "      <td>-0.052414</td>\n",
              "      <td>-0.02618</td>\n",
              "    </tr>\n",
              "    <tr>\n",
              "      <th>1</th>\n",
              "      <td>0.645747</td>\n",
              "      <td>-0.091886</td>\n",
              "      <td>-0.071836</td>\n",
              "      <td>2.179628</td>\n",
              "      <td>-0.570750</td>\n",
              "      <td>1.171992</td>\n",
              "      <td>-0.288653</td>\n",
              "      <td>-0.641228</td>\n",
              "      <td>0.466465</td>\n",
              "      <td>0.263813</td>\n",
              "      <td>0.257140</td>\n",
              "      <td>-0.795163</td>\n",
              "      <td>-0.120242</td>\n",
              "      <td>-0.482512</td>\n",
              "      <td>-0.819964</td>\n",
              "      <td>3.948809</td>\n",
              "      <td>0.789741</td>\n",
              "      <td>-0.761621</td>\n",
              "      <td>0.163779</td>\n",
              "      <td>-0.211454</td>\n",
              "      <td>-0.318683</td>\n",
              "      <td>0.600495</td>\n",
              "      <td>0.311725</td>\n",
              "      <td>-0.060731</td>\n",
              "      <td>1.626195</td>\n",
              "      <td>-0.704483</td>\n",
              "      <td>-0.359325</td>\n",
              "      <td>-0.116339</td>\n",
              "      <td>-0.270208</td>\n",
              "      <td>-0.068692</td>\n",
              "      <td>-0.087688</td>\n",
              "      <td>-0.116533</td>\n",
              "      <td>-0.475290</td>\n",
              "      <td>-0.052407</td>\n",
              "      <td>0.310434</td>\n",
              "      <td>0.368581</td>\n",
              "      <td>0.745011</td>\n",
              "      <td>-0.069409</td>\n",
              "      <td>-0.872444</td>\n",
              "      <td>0.24236</td>\n",
              "      <td>...</td>\n",
              "      <td>-0.078757</td>\n",
              "      <td>-0.02618</td>\n",
              "      <td>-0.02618</td>\n",
              "      <td>-0.02618</td>\n",
              "      <td>-0.02618</td>\n",
              "      <td>-0.064238</td>\n",
              "      <td>-0.087129</td>\n",
              "      <td>-0.02618</td>\n",
              "      <td>-0.074227</td>\n",
              "      <td>-0.069409</td>\n",
              "      <td>-0.074227</td>\n",
              "      <td>-0.064238</td>\n",
              "      <td>-0.111726</td>\n",
              "      <td>-0.069409</td>\n",
              "      <td>-0.10854</td>\n",
              "      <td>-0.069409</td>\n",
              "      <td>-0.02618</td>\n",
              "      <td>-0.123689</td>\n",
              "      <td>-0.037037</td>\n",
              "      <td>-0.083045</td>\n",
              "      <td>-0.083045</td>\n",
              "      <td>-0.114827</td>\n",
              "      <td>-0.052414</td>\n",
              "      <td>-0.139832</td>\n",
              "      <td>-0.10854</td>\n",
              "      <td>-0.144841</td>\n",
              "      <td>-0.126513</td>\n",
              "      <td>-0.02618</td>\n",
              "      <td>-0.152071</td>\n",
              "      <td>-0.139832</td>\n",
              "      <td>-0.045376</td>\n",
              "      <td>-0.180366</td>\n",
              "      <td>-0.120803</td>\n",
              "      <td>-0.154412</td>\n",
              "      <td>-0.101885</td>\n",
              "      <td>-0.105263</td>\n",
              "      <td>-0.069409</td>\n",
              "      <td>-0.098397</td>\n",
              "      <td>-0.052414</td>\n",
              "      <td>-0.02618</td>\n",
              "    </tr>\n",
              "    <tr>\n",
              "      <th>2</th>\n",
              "      <td>0.299451</td>\n",
              "      <td>0.073480</td>\n",
              "      <td>0.651479</td>\n",
              "      <td>-0.517200</td>\n",
              "      <td>0.325915</td>\n",
              "      <td>0.092907</td>\n",
              "      <td>-0.288653</td>\n",
              "      <td>-0.301643</td>\n",
              "      <td>-0.313369</td>\n",
              "      <td>0.263813</td>\n",
              "      <td>-0.627826</td>\n",
              "      <td>1.189351</td>\n",
              "      <td>-0.120242</td>\n",
              "      <td>0.515013</td>\n",
              "      <td>1.107810</td>\n",
              "      <td>-0.241061</td>\n",
              "      <td>0.789741</td>\n",
              "      <td>1.227585</td>\n",
              "      <td>0.163779</td>\n",
              "      <td>-0.211454</td>\n",
              "      <td>-0.318683</td>\n",
              "      <td>0.600495</td>\n",
              "      <td>0.311725</td>\n",
              "      <td>0.631726</td>\n",
              "      <td>-0.752176</td>\n",
              "      <td>-0.070361</td>\n",
              "      <td>-0.359325</td>\n",
              "      <td>-0.116339</td>\n",
              "      <td>-0.270208</td>\n",
              "      <td>-0.068692</td>\n",
              "      <td>-0.087688</td>\n",
              "      <td>0.111614</td>\n",
              "      <td>0.530497</td>\n",
              "      <td>0.169157</td>\n",
              "      <td>0.351793</td>\n",
              "      <td>1.642256</td>\n",
              "      <td>-0.889702</td>\n",
              "      <td>-0.069409</td>\n",
              "      <td>1.146206</td>\n",
              "      <td>0.24236</td>\n",
              "      <td>...</td>\n",
              "      <td>-0.078757</td>\n",
              "      <td>-0.02618</td>\n",
              "      <td>-0.02618</td>\n",
              "      <td>-0.02618</td>\n",
              "      <td>-0.02618</td>\n",
              "      <td>-0.064238</td>\n",
              "      <td>-0.087129</td>\n",
              "      <td>-0.02618</td>\n",
              "      <td>-0.074227</td>\n",
              "      <td>-0.069409</td>\n",
              "      <td>-0.074227</td>\n",
              "      <td>-0.064238</td>\n",
              "      <td>-0.111726</td>\n",
              "      <td>-0.069409</td>\n",
              "      <td>-0.10854</td>\n",
              "      <td>-0.069409</td>\n",
              "      <td>-0.02618</td>\n",
              "      <td>-0.123689</td>\n",
              "      <td>-0.037037</td>\n",
              "      <td>-0.083045</td>\n",
              "      <td>12.041595</td>\n",
              "      <td>-0.114827</td>\n",
              "      <td>-0.052414</td>\n",
              "      <td>-0.139832</td>\n",
              "      <td>-0.10854</td>\n",
              "      <td>-0.144841</td>\n",
              "      <td>-0.126513</td>\n",
              "      <td>-0.02618</td>\n",
              "      <td>-0.152071</td>\n",
              "      <td>-0.139832</td>\n",
              "      <td>-0.045376</td>\n",
              "      <td>-0.180366</td>\n",
              "      <td>-0.120803</td>\n",
              "      <td>-0.154412</td>\n",
              "      <td>-0.101885</td>\n",
              "      <td>-0.105263</td>\n",
              "      <td>-0.069409</td>\n",
              "      <td>-0.098397</td>\n",
              "      <td>-0.052414</td>\n",
              "      <td>-0.02618</td>\n",
              "    </tr>\n",
              "    <tr>\n",
              "      <th>3</th>\n",
              "      <td>0.068587</td>\n",
              "      <td>-0.096897</td>\n",
              "      <td>0.651479</td>\n",
              "      <td>-0.517200</td>\n",
              "      <td>-0.570750</td>\n",
              "      <td>-0.499274</td>\n",
              "      <td>-0.288653</td>\n",
              "      <td>-0.061670</td>\n",
              "      <td>-0.687324</td>\n",
              "      <td>0.263813</td>\n",
              "      <td>-0.521734</td>\n",
              "      <td>0.937276</td>\n",
              "      <td>-0.120242</td>\n",
              "      <td>0.383659</td>\n",
              "      <td>1.107810</td>\n",
              "      <td>-0.241061</td>\n",
              "      <td>-1.026041</td>\n",
              "      <td>-0.761621</td>\n",
              "      <td>0.163779</td>\n",
              "      <td>-0.211454</td>\n",
              "      <td>0.296763</td>\n",
              "      <td>0.600495</td>\n",
              "      <td>1.650307</td>\n",
              "      <td>0.790804</td>\n",
              "      <td>-0.752176</td>\n",
              "      <td>-0.176048</td>\n",
              "      <td>4.092524</td>\n",
              "      <td>-0.116339</td>\n",
              "      <td>-0.270208</td>\n",
              "      <td>-0.068692</td>\n",
              "      <td>-0.087688</td>\n",
              "      <td>-0.058858</td>\n",
              "      <td>0.398055</td>\n",
              "      <td>-0.114493</td>\n",
              "      <td>-0.086346</td>\n",
              "      <td>-0.268257</td>\n",
              "      <td>0.802481</td>\n",
              "      <td>-0.069409</td>\n",
              "      <td>1.146206</td>\n",
              "      <td>0.24236</td>\n",
              "      <td>...</td>\n",
              "      <td>-0.078757</td>\n",
              "      <td>-0.02618</td>\n",
              "      <td>-0.02618</td>\n",
              "      <td>-0.02618</td>\n",
              "      <td>-0.02618</td>\n",
              "      <td>-0.064238</td>\n",
              "      <td>-0.087129</td>\n",
              "      <td>-0.02618</td>\n",
              "      <td>-0.074227</td>\n",
              "      <td>-0.069409</td>\n",
              "      <td>-0.074227</td>\n",
              "      <td>-0.064238</td>\n",
              "      <td>-0.111726</td>\n",
              "      <td>-0.069409</td>\n",
              "      <td>-0.10854</td>\n",
              "      <td>-0.069409</td>\n",
              "      <td>-0.02618</td>\n",
              "      <td>-0.123689</td>\n",
              "      <td>-0.037037</td>\n",
              "      <td>-0.083045</td>\n",
              "      <td>-0.083045</td>\n",
              "      <td>-0.114827</td>\n",
              "      <td>-0.052414</td>\n",
              "      <td>-0.139832</td>\n",
              "      <td>-0.10854</td>\n",
              "      <td>-0.144841</td>\n",
              "      <td>-0.126513</td>\n",
              "      <td>-0.02618</td>\n",
              "      <td>-0.152071</td>\n",
              "      <td>-0.139832</td>\n",
              "      <td>-0.045376</td>\n",
              "      <td>-0.180366</td>\n",
              "      <td>-0.120803</td>\n",
              "      <td>-0.154412</td>\n",
              "      <td>-0.101885</td>\n",
              "      <td>-0.105263</td>\n",
              "      <td>-0.069409</td>\n",
              "      <td>-0.098397</td>\n",
              "      <td>-0.052414</td>\n",
              "      <td>-0.02618</td>\n",
              "    </tr>\n",
              "    <tr>\n",
              "      <th>4</th>\n",
              "      <td>0.761179</td>\n",
              "      <td>0.375148</td>\n",
              "      <td>1.374795</td>\n",
              "      <td>-0.517200</td>\n",
              "      <td>1.366489</td>\n",
              "      <td>0.463568</td>\n",
              "      <td>-0.288653</td>\n",
              "      <td>-0.174865</td>\n",
              "      <td>0.199680</td>\n",
              "      <td>0.263813</td>\n",
              "      <td>-0.045611</td>\n",
              "      <td>1.617877</td>\n",
              "      <td>-0.120242</td>\n",
              "      <td>1.299326</td>\n",
              "      <td>1.107810</td>\n",
              "      <td>-0.241061</td>\n",
              "      <td>0.789741</td>\n",
              "      <td>1.227585</td>\n",
              "      <td>1.390023</td>\n",
              "      <td>-0.211454</td>\n",
              "      <td>1.527656</td>\n",
              "      <td>0.600495</td>\n",
              "      <td>1.650307</td>\n",
              "      <td>1.698485</td>\n",
              "      <td>0.780197</td>\n",
              "      <td>0.563760</td>\n",
              "      <td>-0.359325</td>\n",
              "      <td>-0.116339</td>\n",
              "      <td>-0.270208</td>\n",
              "      <td>-0.068692</td>\n",
              "      <td>-0.087688</td>\n",
              "      <td>0.470244</td>\n",
              "      <td>1.321306</td>\n",
              "      <td>0.944631</td>\n",
              "      <td>1.102703</td>\n",
              "      <td>1.642256</td>\n",
              "      <td>0.604528</td>\n",
              "      <td>-0.069409</td>\n",
              "      <td>1.146206</td>\n",
              "      <td>0.24236</td>\n",
              "      <td>...</td>\n",
              "      <td>-0.078757</td>\n",
              "      <td>-0.02618</td>\n",
              "      <td>-0.02618</td>\n",
              "      <td>-0.02618</td>\n",
              "      <td>-0.02618</td>\n",
              "      <td>-0.064238</td>\n",
              "      <td>-0.087129</td>\n",
              "      <td>-0.02618</td>\n",
              "      <td>-0.074227</td>\n",
              "      <td>-0.069409</td>\n",
              "      <td>-0.074227</td>\n",
              "      <td>-0.064238</td>\n",
              "      <td>-0.111726</td>\n",
              "      <td>-0.069409</td>\n",
              "      <td>-0.10854</td>\n",
              "      <td>-0.069409</td>\n",
              "      <td>-0.02618</td>\n",
              "      <td>8.084778</td>\n",
              "      <td>-0.037037</td>\n",
              "      <td>-0.083045</td>\n",
              "      <td>-0.083045</td>\n",
              "      <td>-0.114827</td>\n",
              "      <td>-0.052414</td>\n",
              "      <td>-0.139832</td>\n",
              "      <td>-0.10854</td>\n",
              "      <td>-0.144841</td>\n",
              "      <td>-0.126513</td>\n",
              "      <td>-0.02618</td>\n",
              "      <td>-0.152071</td>\n",
              "      <td>-0.139832</td>\n",
              "      <td>-0.045376</td>\n",
              "      <td>-0.180366</td>\n",
              "      <td>-0.120803</td>\n",
              "      <td>-0.154412</td>\n",
              "      <td>-0.101885</td>\n",
              "      <td>-0.105263</td>\n",
              "      <td>-0.069409</td>\n",
              "      <td>-0.098397</td>\n",
              "      <td>-0.052414</td>\n",
              "      <td>-0.02618</td>\n",
              "    </tr>\n",
              "  </tbody>\n",
              "</table>\n",
              "<p>5 rows × 984 columns</p>\n",
              "</div>"
            ],
            "text/plain": [
              "   LotFrontage   LotArea  ...  YrBltAndRemod_20092010  YrBltAndRemod_20102010\n",
              "0     0.212877 -0.207142  ...               -0.052414                -0.02618\n",
              "1     0.645747 -0.091886  ...               -0.052414                -0.02618\n",
              "2     0.299451  0.073480  ...               -0.052414                -0.02618\n",
              "3     0.068587 -0.096897  ...               -0.052414                -0.02618\n",
              "4     0.761179  0.375148  ...               -0.052414                -0.02618\n",
              "\n",
              "[5 rows x 984 columns]"
            ]
          },
          "metadata": {
            "tags": []
          },
          "execution_count": 35
        }
      ]
    },
    {
      "cell_type": "code",
      "metadata": {
        "id": "6LxdAtxWvgvZ",
        "colab_type": "code",
        "outputId": "de6d1436-72d1-47db-e41e-047c19c04cd5",
        "colab": {
          "base_uri": "https://localhost:8080/",
          "height": 0
        }
      },
      "source": [
        "numerical_std.shape"
      ],
      "execution_count": 36,
      "outputs": [
        {
          "output_type": "execute_result",
          "data": {
            "text/plain": [
              "(1460, 984)"
            ]
          },
          "metadata": {
            "tags": []
          },
          "execution_count": 36
        }
      ]
    },
    {
      "cell_type": "code",
      "metadata": {
        "id": "CKAffcF8M8l8",
        "colab_type": "code",
        "outputId": "631f0ec6-4b39-45df-b4d4-f5b36ac29d4a",
        "colab": {
          "base_uri": "https://localhost:8080/",
          "height": 0
        }
      },
      "source": [
        "pearson_importance = pearson_filtering(numerical_std,'SalePrice',max_pvalue=0.05,min_abs_pearson=0.0)\n",
        "pearson_importance.head()"
      ],
      "execution_count": 37,
      "outputs": [
        {
          "output_type": "execute_result",
          "data": {
            "text/html": [
              "<div>\n",
              "<style scoped>\n",
              "    .dataframe tbody tr th:only-of-type {\n",
              "        vertical-align: middle;\n",
              "    }\n",
              "\n",
              "    .dataframe tbody tr th {\n",
              "        vertical-align: top;\n",
              "    }\n",
              "\n",
              "    .dataframe thead th {\n",
              "        text-align: right;\n",
              "    }\n",
              "</style>\n",
              "<table border=\"1\" class=\"dataframe\">\n",
              "  <thead>\n",
              "    <tr style=\"text-align: right;\">\n",
              "      <th></th>\n",
              "      <th>Corr_Coef</th>\n",
              "      <th>P-value</th>\n",
              "    </tr>\n",
              "  </thead>\n",
              "  <tbody>\n",
              "    <tr>\n",
              "      <th>OverallQual</th>\n",
              "      <td>0.790982</td>\n",
              "      <td>2.185675e-313</td>\n",
              "    </tr>\n",
              "    <tr>\n",
              "      <th>TotalSF</th>\n",
              "      <td>0.782260</td>\n",
              "      <td>5.511173e-302</td>\n",
              "    </tr>\n",
              "    <tr>\n",
              "      <th>TotalLivingArea</th>\n",
              "      <td>0.716883</td>\n",
              "      <td>1.183941e-230</td>\n",
              "    </tr>\n",
              "    <tr>\n",
              "      <th>GrLivArea</th>\n",
              "      <td>0.708624</td>\n",
              "      <td>4.518034e-223</td>\n",
              "    </tr>\n",
              "    <tr>\n",
              "      <th>TotalSqrFootage</th>\n",
              "      <td>0.708047</td>\n",
              "      <td>1.497662e-222</td>\n",
              "    </tr>\n",
              "  </tbody>\n",
              "</table>\n",
              "</div>"
            ],
            "text/plain": [
              "                 Corr_Coef        P-value\n",
              "OverallQual       0.790982  2.185675e-313\n",
              "TotalSF           0.782260  5.511173e-302\n",
              "TotalLivingArea   0.716883  1.183941e-230\n",
              "GrLivArea         0.708624  4.518034e-223\n",
              "TotalSqrFootage   0.708047  1.497662e-222"
            ]
          },
          "metadata": {
            "tags": []
          },
          "execution_count": 37
        }
      ]
    },
    {
      "cell_type": "code",
      "metadata": {
        "id": "EAE_xnbwvLPq",
        "colab_type": "code",
        "outputId": "2cd6a819-2706-41f9-b38e-7fbdbed08762",
        "colab": {
          "base_uri": "https://localhost:8080/",
          "height": 0
        }
      },
      "source": [
        "pearson_importance.shape"
      ],
      "execution_count": 38,
      "outputs": [
        {
          "output_type": "execute_result",
          "data": {
            "text/plain": [
              "(313, 2)"
            ]
          },
          "metadata": {
            "tags": []
          },
          "execution_count": 38
        }
      ]
    },
    {
      "cell_type": "markdown",
      "metadata": {
        "id": "hce-B3QkM8n5",
        "colab_type": "text"
      },
      "source": [
        "### Correlation and Integration"
      ]
    },
    {
      "cell_type": "code",
      "metadata": {
        "scrolled": true,
        "id": "IEkzm4B0M8oO",
        "colab_type": "code",
        "outputId": "9a163ee0-8158-4881-82c9-830c2d37c7fd",
        "colab": {
          "base_uri": "https://localhost:8080/",
          "height": 0
        }
      },
      "source": [
        "correlation = numerical_std.corr()\n",
        "pre_selection = correlated_variables(correlation,'SalePrice')\n",
        "pre_selection.head()"
      ],
      "execution_count": 39,
      "outputs": [
        {
          "output_type": "execute_result",
          "data": {
            "text/html": [
              "<div>\n",
              "<style scoped>\n",
              "    .dataframe tbody tr th:only-of-type {\n",
              "        vertical-align: middle;\n",
              "    }\n",
              "\n",
              "    .dataframe tbody tr th {\n",
              "        vertical-align: top;\n",
              "    }\n",
              "\n",
              "    .dataframe thead th {\n",
              "        text-align: right;\n",
              "    }\n",
              "</style>\n",
              "<table border=\"1\" class=\"dataframe\">\n",
              "  <thead>\n",
              "    <tr style=\"text-align: right;\">\n",
              "      <th></th>\n",
              "      <th>Variable1</th>\n",
              "      <th>Variable2</th>\n",
              "      <th>Corr_V1&amp;V2</th>\n",
              "      <th>Corr_V1&amp;Obj</th>\n",
              "      <th>Corr_V2&amp;Obj</th>\n",
              "    </tr>\n",
              "  </thead>\n",
              "  <tbody>\n",
              "    <tr>\n",
              "      <th>0</th>\n",
              "      <td>YearBuilt_1875</td>\n",
              "      <td>YrBltAndRemod_18751996</td>\n",
              "      <td>1.0</td>\n",
              "      <td>-0.028655</td>\n",
              "      <td>-0.028655</td>\n",
              "    </tr>\n",
              "    <tr>\n",
              "      <th>0</th>\n",
              "      <td>YearRemodAdd_1954</td>\n",
              "      <td>YrBltAndRemod_19541954</td>\n",
              "      <td>1.0</td>\n",
              "      <td>-0.074066</td>\n",
              "      <td>-0.074066</td>\n",
              "    </tr>\n",
              "    <tr>\n",
              "      <th>0</th>\n",
              "      <td>ExterCond_Po</td>\n",
              "      <td>YrBltAndRemod_19401966</td>\n",
              "      <td>1.0</td>\n",
              "      <td>-0.034424</td>\n",
              "      <td>-0.034424</td>\n",
              "    </tr>\n",
              "    <tr>\n",
              "      <th>0</th>\n",
              "      <td>Exterior1st_CBlock</td>\n",
              "      <td>Exterior2nd_CBlock</td>\n",
              "      <td>1.0</td>\n",
              "      <td>-0.025028</td>\n",
              "      <td>-0.025028</td>\n",
              "    </tr>\n",
              "    <tr>\n",
              "      <th>0</th>\n",
              "      <td>YearRemodAdd_1967</td>\n",
              "      <td>YrBltAndRemod_19671967</td>\n",
              "      <td>1.0</td>\n",
              "      <td>-0.056700</td>\n",
              "      <td>-0.056700</td>\n",
              "    </tr>\n",
              "  </tbody>\n",
              "</table>\n",
              "</div>"
            ],
            "text/plain": [
              "            Variable1               Variable2  ...  Corr_V1&Obj  Corr_V2&Obj\n",
              "0      YearBuilt_1875  YrBltAndRemod_18751996  ...    -0.028655    -0.028655\n",
              "0   YearRemodAdd_1954  YrBltAndRemod_19541954  ...    -0.074066    -0.074066\n",
              "0        ExterCond_Po  YrBltAndRemod_19401966  ...    -0.034424    -0.034424\n",
              "0  Exterior1st_CBlock      Exterior2nd_CBlock  ...    -0.025028    -0.025028\n",
              "0   YearRemodAdd_1967  YrBltAndRemod_19671967  ...    -0.056700    -0.056700\n",
              "\n",
              "[5 rows x 5 columns]"
            ]
          },
          "metadata": {
            "tags": []
          },
          "execution_count": 39
        }
      ]
    },
    {
      "cell_type": "code",
      "metadata": {
        "id": "rn-LLzeoM8oX",
        "colab_type": "code",
        "outputId": "9901ceda-0f20-473e-a86a-882bbfee98fa",
        "colab": {
          "base_uri": "https://localhost:8080/",
          "height": 0
        }
      },
      "source": [
        "#Filter strongly correlated variables\n",
        "pre_selection.reset_index(drop=True,inplace=True)\n",
        "result = []\n",
        "max_correlation = 0.4\n",
        "for i in pre_selection.index:\n",
        "    if pre_selection.loc[i,'Corr_V1&V2'] < max_correlation:\n",
        "        a = pre_selection.loc[i,'Corr_V1&Obj']\n",
        "        b = pre_selection.loc[i,'Corr_V2&Obj']\n",
        "        if a>=b:\n",
        "            result.append(pre_selection.loc[i,'Variable1'])\n",
        "        else:\n",
        "            result.append(pre_selection.loc[i,'Variable2'])\n",
        "result"
      ],
      "execution_count": 40,
      "outputs": [
        {
          "output_type": "execute_result",
          "data": {
            "text/html": [
              "['2ndFlrSF', 'Foundation_PConc', 'Condition1_Norm', 'ExterQual_Gd', 'Foundation_PConc', 'BsmtFinSF1', 'Condition2_Norm', 'BsmtCond_TA', 'SaleType_New', 'OverallQual', 'RoofMatl_Tar&Grv', 'SaleCondition_Partial', 'HouseStyle_2Story', 'has2ndfloor', 'MasVnrArea', 'BsmtFinType2_Unf', 'GarageQual_TA', 'GarageType_Attchd', 'Heating_GasA', 'GarageCond_TA', 'BsmtQual_Gd', 'SaleCondition_Partial', 'SaleType_New', 'Foundation_PConc', '2ndFlrSF', 'MasVnrType_BrkFace', 'hasbsmt', 'MSZoning_RL', 'KitchenQual_Gd', 'Electrical_SBrkr', 'has2ndfloor', 'ExterCond_TA', 'ExterQual_Gd', 'RoofStyle_Hip', 'hasbsmt', 'hasbsmt', 'hasgarage', 'hasbsmt']"
            ],
            "text/plain": [
              "['2ndFlrSF',\n",
              " 'Foundation_PConc',\n",
              " 'Condition1_Norm',\n",
              " 'ExterQual_Gd',\n",
              " 'Foundation_PConc',\n",
              " 'BsmtFinSF1',\n",
              " 'Condition2_Norm',\n",
              " 'BsmtCond_TA',\n",
              " 'SaleType_New',\n",
              " 'OverallQual',\n",
              " 'RoofMatl_Tar&Grv',\n",
              " 'SaleCondition_Partial',\n",
              " 'HouseStyle_2Story',\n",
              " 'has2ndfloor',\n",
              " 'MasVnrArea',\n",
              " 'BsmtFinType2_Unf',\n",
              " 'GarageQual_TA',\n",
              " 'GarageType_Attchd',\n",
              " 'Heating_GasA',\n",
              " 'GarageCond_TA',\n",
              " 'BsmtQual_Gd',\n",
              " 'SaleCondition_Partial',\n",
              " 'SaleType_New',\n",
              " 'Foundation_PConc',\n",
              " '2ndFlrSF',\n",
              " 'MasVnrType_BrkFace',\n",
              " 'hasbsmt',\n",
              " 'MSZoning_RL',\n",
              " 'KitchenQual_Gd',\n",
              " 'Electrical_SBrkr',\n",
              " 'has2ndfloor',\n",
              " 'ExterCond_TA',\n",
              " 'ExterQual_Gd',\n",
              " 'RoofStyle_Hip',\n",
              " 'hasbsmt',\n",
              " 'hasbsmt',\n",
              " 'hasgarage',\n",
              " 'hasbsmt']"
            ]
          },
          "metadata": {
            "tags": []
          },
          "execution_count": 40
        }
      ]
    },
    {
      "cell_type": "code",
      "metadata": {
        "id": "fsgLjgL73Azs",
        "colab_type": "code",
        "outputId": "1e6b4d2a-6e0a-44d6-ba21-2fcfd2d81e82",
        "colab": {
          "base_uri": "https://localhost:8080/",
          "height": 0
        }
      },
      "source": [
        "pearson_feature_selection = list(set([i.split('_')[0] for i in result]))\n",
        "pearson_feature_selection"
      ],
      "execution_count": 41,
      "outputs": [
        {
          "output_type": "execute_result",
          "data": {
            "text/html": [
              "['hasgarage', 'GarageQual', 'MasVnrType', 'GarageType', 'Condition2', '2ndFlrSF', 'KitchenQual', 'Condition1', 'RoofMatl', 'BsmtFinSF1', 'ExterQual', 'BsmtCond', 'SaleType', 'HouseStyle', 'MSZoning', 'BsmtQual', 'ExterCond', 'BsmtFinType2', 'GarageCond', 'Electrical', 'RoofStyle', 'OverallQual', 'hasbsmt', 'Foundation', 'has2ndfloor', 'MasVnrArea', 'Heating', 'SaleCondition']"
            ],
            "text/plain": [
              "['hasgarage',\n",
              " 'GarageQual',\n",
              " 'MasVnrType',\n",
              " 'GarageType',\n",
              " 'Condition2',\n",
              " '2ndFlrSF',\n",
              " 'KitchenQual',\n",
              " 'Condition1',\n",
              " 'RoofMatl',\n",
              " 'BsmtFinSF1',\n",
              " 'ExterQual',\n",
              " 'BsmtCond',\n",
              " 'SaleType',\n",
              " 'HouseStyle',\n",
              " 'MSZoning',\n",
              " 'BsmtQual',\n",
              " 'ExterCond',\n",
              " 'BsmtFinType2',\n",
              " 'GarageCond',\n",
              " 'Electrical',\n",
              " 'RoofStyle',\n",
              " 'OverallQual',\n",
              " 'hasbsmt',\n",
              " 'Foundation',\n",
              " 'has2ndfloor',\n",
              " 'MasVnrArea',\n",
              " 'Heating',\n",
              " 'SaleCondition']"
            ]
          },
          "metadata": {
            "tags": []
          },
          "execution_count": 41
        }
      ]
    },
    {
      "cell_type": "code",
      "metadata": {
        "id": "tjinY7VLuURK",
        "colab_type": "code",
        "outputId": "6cd3b92d-4e50-4680-f5af-22ce652c61cd",
        "colab": {
          "base_uri": "https://localhost:8080/",
          "height": 0
        }
      },
      "source": [
        "len(pearson_feature_selection)"
      ],
      "execution_count": 42,
      "outputs": [
        {
          "output_type": "execute_result",
          "data": {
            "text/plain": [
              "28"
            ]
          },
          "metadata": {
            "tags": []
          },
          "execution_count": 42
        }
      ]
    },
    {
      "cell_type": "code",
      "metadata": {
        "id": "0Gn8HGzLtLbP",
        "colab_type": "code",
        "outputId": "35980b46-f6f5-4c6e-f119-f6fe7fcbb40b",
        "colab": {
          "base_uri": "https://localhost:8080/",
          "height": 0
        }
      },
      "source": [
        "datasets.keys()"
      ],
      "execution_count": 43,
      "outputs": [
        {
          "output_type": "execute_result",
          "data": {
            "text/plain": [
              "dict_keys(['0.test_original', '1.train_original', '2.train+test_cleaned+new features'])"
            ]
          },
          "metadata": {
            "tags": []
          },
          "execution_count": 43
        }
      ]
    },
    {
      "cell_type": "code",
      "metadata": {
        "id": "jFgQtj3st2m0",
        "colab_type": "code",
        "outputId": "63cd4a5a-2f7b-416b-d3ee-087b2328ed49",
        "colab": {
          "base_uri": "https://localhost:8080/",
          "height": 0
        }
      },
      "source": [
        "datasets['3.train+test_pearson filtered'] = datasets['2.train+test_cleaned+new features'][pearson_feature_selection]\n",
        "datasets['2.train+test_cleaned+new features'][pearson_feature_selection].shape"
      ],
      "execution_count": 44,
      "outputs": [
        {
          "output_type": "execute_result",
          "data": {
            "text/plain": [
              "(2919, 28)"
            ]
          },
          "metadata": {
            "tags": []
          },
          "execution_count": 44
        }
      ]
    },
    {
      "cell_type": "markdown",
      "metadata": {
        "id": "2UEHB11RM8pF",
        "colab_type": "text"
      },
      "source": [
        "### Generate New Features from selected ones"
      ]
    },
    {
      "cell_type": "code",
      "metadata": {
        "id": "53ArWLhd46f3",
        "colab_type": "code",
        "outputId": "a87b0f37-4da4-45ae-8aab-f6ccc130ee9d",
        "colab": {
          "base_uri": "https://localhost:8080/",
          "height": 504
        }
      },
      "source": [
        "datasets['3.train+test_pearson filtered'].dtypes"
      ],
      "execution_count": 45,
      "outputs": [
        {
          "output_type": "execute_result",
          "data": {
            "text/plain": [
              "hasgarage          int64\n",
              "GarageQual        object\n",
              "MasVnrType        object\n",
              "GarageType        object\n",
              "Condition2        object\n",
              "2ndFlrSF           int64\n",
              "KitchenQual       object\n",
              "Condition1        object\n",
              "RoofMatl          object\n",
              "BsmtFinSF1       float64\n",
              "ExterQual         object\n",
              "BsmtCond          object\n",
              "SaleType          object\n",
              "HouseStyle        object\n",
              "MSZoning          object\n",
              "BsmtQual          object\n",
              "ExterCond         object\n",
              "BsmtFinType2      object\n",
              "GarageCond        object\n",
              "Electrical        object\n",
              "RoofStyle         object\n",
              "OverallQual        int64\n",
              "hasbsmt            int64\n",
              "Foundation        object\n",
              "has2ndfloor        int64\n",
              "MasVnrArea       float64\n",
              "Heating           object\n",
              "SaleCondition     object\n",
              "dtype: object"
            ]
          },
          "metadata": {
            "tags": []
          },
          "execution_count": 45
        }
      ]
    },
    {
      "cell_type": "code",
      "metadata": {
        "id": "vvcnWIf6M8pG",
        "colab_type": "code",
        "outputId": "d0a11aae-c9d5-47cf-81b5-18127b9cd078",
        "colab": {
          "base_uri": "https://localhost:8080/",
          "height": 34
        }
      },
      "source": [
        "a = datasets['3.train+test_pearson filtered']\n",
        "a.columns[a.dtypes == 'int64']\n",
        "#[max(a[i]) for i in a[a.dtypes == 'int64']]\n",
        "# dummie_features = datasets['4.selected variables'].dtypes=='uint8'\n",
        "# datasets['4.selected variables']['sum_dummies'] = datasets['4.selected variables'].loc[:,dummie_features].sum(axis=1)\n",
        "#table = datasets['4.selected variables'].groupby('sum_dummies').agg({'SalePrice':['mean','count','std']})\n",
        "#table"
      ],
      "execution_count": 46,
      "outputs": [
        {
          "output_type": "execute_result",
          "data": {
            "text/plain": [
              "Index(['hasgarage', '2ndFlrSF', 'OverallQual', 'hasbsmt', 'has2ndfloor'], dtype='object')"
            ]
          },
          "metadata": {
            "tags": []
          },
          "execution_count": 46
        }
      ]
    },
    {
      "cell_type": "code",
      "metadata": {
        "id": "cMr-c_3WM8pN",
        "colab_type": "code",
        "colab": {}
      },
      "source": [
        "# datasets['4.selected variables'].boxplot(['SalePrice'],by='sum_dummies')"
      ],
      "execution_count": 0,
      "outputs": []
    },
    {
      "cell_type": "code",
      "metadata": {
        "id": "-W6H-WrbM8pS",
        "colab_type": "code",
        "colab": {}
      },
      "source": [
        "# numeric_features = datasets['4.selected variables'].loc[:,datasets['4.selected variables'].dtypes!='uint8']\n",
        "# scaler = StandardScaler() \n",
        "# data_scaled = scaler.fit_transform(numeric_features)\n",
        "# df_data_scaled = pd.DataFrame(data_scaled,columns=numeric_features.columns)\n",
        "# df_data_scaled['sum_numeric'] = df_data_scaled.drop(['SalePrice','Id','sum_dummies'],axis=1).sum(axis=1)\n",
        "# #df_data_scaled['sum_numeric_range'] = pd.cut(df_data_scaled['sum_numeric'].reset_index(drop=True),10)\n",
        "# df_data_scaled.plot.scatter('sum_numeric','SalePrice')"
      ],
      "execution_count": 0,
      "outputs": []
    },
    {
      "cell_type": "code",
      "metadata": {
        "id": "zqUhta5LM8pY",
        "colab_type": "code",
        "colab": {}
      },
      "source": [
        "# datasets['4.selected variables']['numeric_sum_std'] = df_data_scaled['sum_numeric']"
      ],
      "execution_count": 0,
      "outputs": []
    },
    {
      "cell_type": "markdown",
      "metadata": {
        "id": "DJE-SGZXM8pe",
        "colab_type": "text"
      },
      "source": [
        "## Modeling 1\n",
        "\n"
      ]
    },
    {
      "cell_type": "code",
      "metadata": {
        "id": "DXIw6XUVM8pg",
        "colab_type": "code",
        "outputId": "c67ffbf1-af0d-42da-dcaf-f8cdd733c0b3",
        "colab": {
          "base_uri": "https://localhost:8080/",
          "height": 34
        }
      },
      "source": [
        "datasets.keys()"
      ],
      "execution_count": 50,
      "outputs": [
        {
          "output_type": "execute_result",
          "data": {
            "text/plain": [
              "dict_keys(['0.test_original', '1.train_original', '2.train+test_cleaned+new features', '3.train+test_pearson filtered'])"
            ]
          },
          "metadata": {
            "tags": []
          },
          "execution_count": 50
        }
      ]
    },
    {
      "cell_type": "markdown",
      "metadata": {
        "id": "AMLTh8rjnjN7",
        "colab_type": "text"
      },
      "source": [
        "## Transform features\n"
      ]
    },
    {
      "cell_type": "code",
      "metadata": {
        "id": "LllEMmpC9ELc",
        "colab_type": "code",
        "outputId": "92c3a87e-9968-46be-d1e1-ec597384f7c3",
        "colab": {
          "base_uri": "https://localhost:8080/",
          "height": 312
        }
      },
      "source": [
        "y = datasets['1.train_original'][\"SalePrice\"]\n",
        "plt.figure(1); plt.title('XXX')\n",
        "sns.distplot(y, kde=False, fit=stats.norm)"
      ],
      "execution_count": 51,
      "outputs": [
        {
          "output_type": "execute_result",
          "data": {
            "text/plain": [
              "<matplotlib.axes._subplots.AxesSubplot at 0x7f289698e9b0>"
            ]
          },
          "metadata": {
            "tags": []
          },
          "execution_count": 51
        },
        {
          "output_type": "display_data",
          "data": {
            "image/png": "[encoded data removed]",
            "text/plain": [
              "<Figure size 432x288 with 1 Axes>"
            ]
          },
          "metadata": {
            "tags": [],
            "needs_background": "light"
          }
        }
      ]
    },
    {
      "cell_type": "code",
      "metadata": {
        "id": "5IsknIkCIjbS",
        "colab_type": "code",
        "outputId": "064af66f-990c-49a9-89a0-bcf99aba2e8e",
        "colab": {
          "base_uri": "https://localhost:8080/",
          "height": 307
        }
      },
      "source": [
        "log_y = round(np.log1p(datasets['1.train_original'][\"SalePrice\"])*1e6).astype(int)\n",
        "sns.distplot(log_y,kde=False,fit=stats.norm)"
      ],
      "execution_count": 52,
      "outputs": [
        {
          "output_type": "execute_result",
          "data": {
            "text/plain": [
              "<matplotlib.axes._subplots.AxesSubplot at 0x7f289698e588>"
            ]
          },
          "metadata": {
            "tags": []
          },
          "execution_count": 52
        },
        {
          "output_type": "display_data",
          "data": {
            "image/png": "[encoded data removed]",
            "text/plain": [
              "<Figure size 432x288 with 1 Axes>"
            ]
          },
          "metadata": {
            "tags": [],
            "needs_background": "light"
          }
        }
      ]
    },
    {
      "cell_type": "code",
      "metadata": {
        "id": "mOakzMG_rq7t",
        "colab_type": "code",
        "colab": {}
      },
      "source": [
        "def inverse_transform(data_transformed):\n",
        "  try:\n",
        "    return round(data_transformed.apply(lambda x: math.exp(x/1e6)-1)).astype(int)\n",
        "  except:\n",
        "    return (np.exp(data_transformed/1e6)-1).round().astype(int)"
      ],
      "execution_count": 0,
      "outputs": []
    },
    {
      "cell_type": "code",
      "metadata": {
        "id": "RRoqhJLfoUfE",
        "colab_type": "code",
        "outputId": "1e18dbfb-6020-4be0-943c-e1419429c336",
        "colab": {
          "base_uri": "https://localhost:8080/",
          "height": 34
        }
      },
      "source": [
        "data = datasets['3.train+test_pearson filtered']\n",
        "numeric_features = []\n",
        "for i in data:\n",
        "  if data[i].dtype != object and i not in ['hasgarage','hasbsmt','has2ndfloor']:\n",
        "    numeric_features.append(i)\n",
        "numeric_features = [i for i in numeric_features if i not in ['Id','SalePrice']]\n",
        "numeric_features[0:10]\n"
      ],
      "execution_count": 54,
      "outputs": [
        {
          "output_type": "execute_result",
          "data": {
            "text/html": [
              "['2ndFlrSF', 'BsmtFinSF1', 'OverallQual', 'MasVnrArea']"
            ],
            "text/plain": [
              "['2ndFlrSF', 'BsmtFinSF1', 'OverallQual', 'MasVnrArea']"
            ]
          },
          "metadata": {
            "tags": []
          },
          "execution_count": 54
        }
      ]
    },
    {
      "cell_type": "code",
      "metadata": {
        "id": "7kvkoD2arrj7",
        "colab_type": "code",
        "outputId": "931093aa-a454-40e8-c6da-c0ece3176f24",
        "colab": {
          "base_uri": "https://localhost:8080/",
          "height": 101
        }
      },
      "source": [
        "skew_features = data[numeric_features].apply(lambda x: skew(x))#.sort_values(ascending=False)\n",
        "skew_features.head()"
      ],
      "execution_count": 55,
      "outputs": [
        {
          "output_type": "execute_result",
          "data": {
            "text/plain": [
              "2ndFlrSF       0.861675\n",
              "BsmtFinSF1     1.425230\n",
              "OverallQual    0.197110\n",
              "MasVnrArea     2.613592\n",
              "dtype: float64"
            ]
          },
          "metadata": {
            "tags": []
          },
          "execution_count": 55
        }
      ]
    },
    {
      "cell_type": "code",
      "metadata": {
        "id": "u9Ck8OBMz6YG",
        "colab_type": "code",
        "outputId": "da184e99-c734-4fbd-ccf0-88dbcf85cd82",
        "colab": {
          "base_uri": "https://localhost:8080/",
          "height": 101
        }
      },
      "source": [
        "from scipy.special import boxcox1p\n",
        "from scipy.stats import boxcox_normmax\n",
        "high_skew = skew_features[skew_features > 0.5]\n",
        "skew_index = high_skew.index\n",
        "\n",
        "for i in skew_index:\n",
        "    data[i] = boxcox1p(data[i], boxcox_normmax(data[i] + 1))"
      ],
      "execution_count": 56,
      "outputs": [
        {
          "output_type": "stream",
          "text": [
            "\n",
            "A value is trying to be set on a copy of a slice from a DataFrame.\n",
            "Try using .loc[row_indexer,col_indexer] = value instead\n",
            "\n",
            "See the caveats in the documentation: https://pandas.pydata.org/pandas-docs/stable/user_guide/indexing.html#returning-a-view-versus-a-copy\n"
          ],
          "name": "stderr"
        }
      ]
    },
    {
      "cell_type": "code",
      "metadata": {
        "id": "1Z4uHWASviRb",
        "colab_type": "code",
        "outputId": "2cb6f4bf-fdb2-45cc-cb2b-8190f17d9f20",
        "colab": {
          "base_uri": "https://localhost:8080/",
          "height": 218
        }
      },
      "source": [
        "final_features = pd.get_dummies(data).reset_index(drop=True)\n",
        "to_sum = [i for i in data if data[i].dtypes=='float64' or i =='OverallQual']\n",
        "final_features['sum_numerical'] = final_features.loc[:,to_sum].sum(axis=1)\n",
        "x_train = final_features.iloc[:len(log_y),:]\n",
        "datasets['5.all_features_log_transform'] = pd.concat([log_y,x_train],axis=1).reset_index(drop=True)\n",
        "datasets['5.all_features_log_transform'].SalePrice"
      ],
      "execution_count": 62,
      "outputs": [
        {
          "output_type": "execute_result",
          "data": {
            "text/plain": [
              "0       12247699\n",
              "1       12109016\n",
              "2       12317171\n",
              "3       11849405\n",
              "4       12429220\n",
              "          ...   \n",
              "1455    12072547\n",
              "1456    12254868\n",
              "1457    12493133\n",
              "1458    11864469\n",
              "1459    11901590\n",
              "Name: SalePrice, Length: 1460, dtype: int64"
            ]
          },
          "metadata": {
            "tags": []
          },
          "execution_count": 62
        }
      ]
    },
    {
      "cell_type": "markdown",
      "metadata": {
        "id": "gBXyH0VSnt70",
        "colab_type": "text"
      },
      "source": [
        "### Train Models\n"
      ]
    },
    {
      "cell_type": "code",
      "metadata": {
        "id": "aHgBahhsM8pm",
        "colab_type": "code",
        "colab": {}
      },
      "source": [
        "data = datasets['5.all_features_log_transform']\n",
        "x_train,x_test,y_train,y_test = train_test_split(data.drop(['SalePrice'],axis=1),data['SalePrice'], test_size=0.2,random_state=42)"
      ],
      "execution_count": 0,
      "outputs": []
    },
    {
      "cell_type": "code",
      "metadata": {
        "id": "yJAn-rksM8pr",
        "colab_type": "code",
        "colab": {}
      },
      "source": [
        "def train_models(x_train,x_test,y_train,y_test):\n",
        "    tree = DecisionTreeRegressor(max_depth=5,min_weight_fraction_leaf=0.03,random_state=42)\n",
        "    rf = RandomForestRegressor(n_estimators = 50, random_state = 42, bootstrap=True\n",
        "                               #,max_samples=0.5\n",
        "                               ,min_weight_fraction_leaf=0.01\n",
        "                              )\n",
        "    xgboost = XGBRegressor(n_estimators=100,early_stopping_rounds=5,eval_set=[(x_test, y_test)])\n",
        "    mod_list = {'lin_reg':LinearRegression(),'svm':svm.SVR(kernel='linear'),'tree':tree,'random_forest':rf,'xgboost':xgboost}\n",
        "    perf_metrics = ['R^2','MAE','RMSE','MAPE','RMSLE']\n",
        "    results = pd.DataFrame(columns=perf_metrics)\n",
        "\n",
        "    for i in mod_list:\n",
        "        #Train models\n",
        "        mod_list[i].fit(x_train,y_train)\n",
        "        y_pred = mod_list[i].predict(x_test)\n",
        "        #Transform y_test and y_pred to original values if needed\n",
        "        y_test2 = inverse_transform(y_test)\n",
        "        y_pred2 = inverse_transform(y_pred)\n",
        "        r2 = mod_list[i].score(x_test, y_test)\n",
        "        mae = metrics.mean_absolute_error(y_pred2,y_test2)\n",
        "        rmse = np.sqrt(metrics.mean_squared_error(y_pred2,y_test2))\n",
        "        mape = mean_absolute_percentage_error(y_test2,y_pred2)\n",
        "        rmsle = ''\n",
        "        try:\n",
        "            rmsle = np.sqrt(metrics.mean_squared_log_error(y_test2,y_pred2))\n",
        "        except:\n",
        "            pass\n",
        "        line = pd.DataFrame(data=[[r2,mae,rmse,mape,rmsle]],index=[i],columns=results.columns)\n",
        "        results = pd.concat([results,line],axis=0)\n",
        "    \n",
        "    return results,mod_list"
      ],
      "execution_count": 0,
      "outputs": []
    },
    {
      "cell_type": "code",
      "metadata": {
        "id": "G_1V43EbM8pv",
        "colab_type": "code",
        "colab": {
          "base_uri": "https://localhost:8080/",
          "height": 212
        },
        "outputId": "a9be9382-00e8-4fbe-f1c9-a1134a38d22e"
      },
      "source": [
        "results,mod_list = train_models(x_train,x_test,y_train,y_test)\n",
        "results"
      ],
      "execution_count": 66,
      "outputs": [
        {
          "output_type": "stream",
          "text": [
            "[15:57:16] WARNING: /workspace/src/objective/regression_obj.cu:152: reg:linear is now deprecated in favor of reg:squarederror.\n"
          ],
          "name": "stdout"
        },
        {
          "output_type": "execute_result",
          "data": {
            "text/html": [
              "<div>\n",
              "<style scoped>\n",
              "    .dataframe tbody tr th:only-of-type {\n",
              "        vertical-align: middle;\n",
              "    }\n",
              "\n",
              "    .dataframe tbody tr th {\n",
              "        vertical-align: top;\n",
              "    }\n",
              "\n",
              "    .dataframe thead th {\n",
              "        text-align: right;\n",
              "    }\n",
              "</style>\n",
              "<table border=\"1\" class=\"dataframe\">\n",
              "  <thead>\n",
              "    <tr style=\"text-align: right;\">\n",
              "      <th></th>\n",
              "      <th>R^2</th>\n",
              "      <th>MAE</th>\n",
              "      <th>RMSE</th>\n",
              "      <th>MAPE</th>\n",
              "      <th>RMSLE</th>\n",
              "    </tr>\n",
              "  </thead>\n",
              "  <tbody>\n",
              "    <tr>\n",
              "      <th>lin_reg</th>\n",
              "      <td>0.833884</td>\n",
              "      <td>22632.130137</td>\n",
              "      <td>32032.501455</td>\n",
              "      <td>13.563622</td>\n",
              "      <td>0.176066</td>\n",
              "    </tr>\n",
              "    <tr>\n",
              "      <th>svm</th>\n",
              "      <td>0.389587</td>\n",
              "      <td>44870.917808</td>\n",
              "      <td>69100.061356</td>\n",
              "      <td>25.705489</td>\n",
              "      <td>0.337505</td>\n",
              "    </tr>\n",
              "    <tr>\n",
              "      <th>tree</th>\n",
              "      <td>0.739095</td>\n",
              "      <td>28494.904110</td>\n",
              "      <td>45792.274333</td>\n",
              "      <td>16.960046</td>\n",
              "      <td>0.220653</td>\n",
              "    </tr>\n",
              "    <tr>\n",
              "      <th>random_forest</th>\n",
              "      <td>0.805155</td>\n",
              "      <td>22341.900685</td>\n",
              "      <td>39154.252006</td>\n",
              "      <td>13.378552</td>\n",
              "      <td>0.190683</td>\n",
              "    </tr>\n",
              "    <tr>\n",
              "      <th>xgboost</th>\n",
              "      <td>0.826310</td>\n",
              "      <td>21855.561644</td>\n",
              "      <td>38952.815207</td>\n",
              "      <td>12.735856</td>\n",
              "      <td>0.180035</td>\n",
              "    </tr>\n",
              "  </tbody>\n",
              "</table>\n",
              "</div>"
            ],
            "text/plain": [
              "                    R^2           MAE          RMSE       MAPE     RMSLE\n",
              "lin_reg        0.833884  22632.130137  32032.501455  13.563622  0.176066\n",
              "svm            0.389587  44870.917808  69100.061356  25.705489  0.337505\n",
              "tree           0.739095  28494.904110  45792.274333  16.960046  0.220653\n",
              "random_forest  0.805155  22341.900685  39154.252006  13.378552  0.190683\n",
              "xgboost        0.826310  21855.561644  38952.815207  12.735856  0.180035"
            ]
          },
          "metadata": {
            "tags": []
          },
          "execution_count": 66
        }
      ]
    },
    {
      "cell_type": "code",
      "metadata": {
        "id": "4o-NjrX3M8p5",
        "colab_type": "code",
        "colab": {
          "base_uri": "https://localhost:8080/",
          "height": 151
        },
        "outputId": "c6197bc2-21f5-4c1a-8ca5-e5f9783be9db"
      },
      "source": [
        "# Cross Validation\n",
        "X = datasets['5.all_features_log_transform'].drop(['SalePrice'],axis=1)                                         \n",
        "y = datasets['5.all_features_log_transform']['SalePrice']\n",
        "metric = 'neg_mean_squared_log_error'\n",
        "print('Cross Validation: \\n',metric,':')\n",
        "np.mean(np.sqrt(np.absolute(cross_val_score(mod_list['xgboost'],X, y, cv=5, scoring=metric))))"
      ],
      "execution_count": 70,
      "outputs": [
        {
          "output_type": "stream",
          "text": [
            "Cross Validation: \n",
            " neg_mean_squared_log_error :\n",
            "[16:13:45] WARNING: /workspace/src/objective/regression_obj.cu:152: reg:linear is now deprecated in favor of reg:squarederror.\n",
            "[16:13:45] WARNING: /workspace/src/objective/regression_obj.cu:152: reg:linear is now deprecated in favor of reg:squarederror.\n",
            "[16:13:46] WARNING: /workspace/src/objective/regression_obj.cu:152: reg:linear is now deprecated in favor of reg:squarederror.\n",
            "[16:13:46] WARNING: /workspace/src/objective/regression_obj.cu:152: reg:linear is now deprecated in favor of reg:squarederror.\n",
            "[16:13:47] WARNING: /workspace/src/objective/regression_obj.cu:152: reg:linear is now deprecated in favor of reg:squarederror.\n"
          ],
          "name": "stdout"
        },
        {
          "output_type": "execute_result",
          "data": {
            "text/plain": [
              "0.014598019034701825"
            ]
          },
          "metadata": {
            "tags": []
          },
          "execution_count": 70
        }
      ]
    },
    {
      "cell_type": "code",
      "metadata": {
        "id": "Eki35rdGM8p0",
        "colab_type": "code",
        "colab": {}
      },
      "source": [
        "# # Plot Decision Tree\n",
        "# model = mod_list['random_forest'].estimators_[2]\n",
        "# model.get_depth()\n",
        "# plt.figure(figsize=(120,50))\n",
        "# a = plot_tree(model, \n",
        "#               feature_names=x_train.columns, \n",
        "#               #class_names=breast_cancer.target_names, \n",
        "#               filled=True, \n",
        "#               rounded=True, \n",
        "#               fontsize=40)"
      ],
      "execution_count": 0,
      "outputs": []
    },
    {
      "cell_type": "code",
      "metadata": {
        "id": "QeR-SjijgmUm",
        "colab_type": "code",
        "outputId": "3b015ea4-078a-47f7-ff3a-36feb0234e8e",
        "colab": {
          "base_uri": "https://localhost:8080/",
          "height": 34
        }
      },
      "source": [
        "datasets.keys()"
      ],
      "execution_count": 0,
      "outputs": [
        {
          "output_type": "execute_result",
          "data": {
            "text/plain": [
              "dict_keys(['1.original', '0.0_test_original', '2.cleaned + new variables', '5.all_features_log_transform'])"
            ]
          },
          "metadata": {
            "tags": []
          },
          "execution_count": 172
        }
      ]
    },
    {
      "cell_type": "markdown",
      "metadata": {
        "id": "hYFbZ_tXmjUn",
        "colab_type": "text"
      },
      "source": [
        "### Submission File"
      ]
    },
    {
      "cell_type": "code",
      "metadata": {
        "id": "znzG3kCZfFfu",
        "colab_type": "code",
        "outputId": "9d0460f4-4e32-428d-b1d5-3cef089da805",
        "colab": {
          "base_uri": "https://localhost:8080/",
          "height": 151
        }
      },
      "source": [
        "y = datasets['1.train_original']['SalePrice']\n",
        "x_train = final_features.iloc[:len(y),:]\n",
        "y_train = log_y\n",
        "x_test = final_features.iloc[len(y):,:]\n",
        "xgboost = XGBRegressor(n_estimators=100,early_stopping_rounds=5)\n",
        "xgboost.fit(x_train,y_train)"
      ],
      "execution_count": 0,
      "outputs": [
        {
          "output_type": "stream",
          "text": [
            "[20:55:10] WARNING: /workspace/src/objective/regression_obj.cu:152: reg:linear is now deprecated in favor of reg:squarederror.\n"
          ],
          "name": "stdout"
        },
        {
          "output_type": "execute_result",
          "data": {
            "text/plain": [
              "XGBRegressor(base_score=0.5, booster='gbtree', colsample_bylevel=1,\n",
              "             colsample_bynode=1, colsample_bytree=1, early_stopping_rounds=5,\n",
              "             gamma=0, importance_type='gain', learning_rate=0.1,\n",
              "             max_delta_step=0, max_depth=3, min_child_weight=1, missing=None,\n",
              "             n_estimators=100, n_jobs=1, nthread=None, objective='reg:linear',\n",
              "             random_state=0, reg_alpha=0, reg_lambda=1, scale_pos_weight=1,\n",
              "             seed=None, silent=None, subsample=1, verbosity=1)"
            ]
          },
          "metadata": {
            "tags": []
          },
          "execution_count": 174
        }
      ]
    },
    {
      "cell_type": "code",
      "metadata": {
        "id": "uyo_sD1Ojcw-",
        "colab_type": "code",
        "outputId": "33b35c60-1bf8-49b7-c51d-c50f2ffc2098",
        "colab": {
          "base_uri": "https://localhost:8080/",
          "height": 195
        }
      },
      "source": [
        "submission = pd.read_csv('https://raw.githubusercontent.com/tgrasty/house_prices/master/sample_submission.csv')\n",
        "submission.head()"
      ],
      "execution_count": 0,
      "outputs": [
        {
          "output_type": "execute_result",
          "data": {
            "text/html": [
              "<div>\n",
              "<style scoped>\n",
              "    .dataframe tbody tr th:only-of-type {\n",
              "        vertical-align: middle;\n",
              "    }\n",
              "\n",
              "    .dataframe tbody tr th {\n",
              "        vertical-align: top;\n",
              "    }\n",
              "\n",
              "    .dataframe thead th {\n",
              "        text-align: right;\n",
              "    }\n",
              "</style>\n",
              "<table border=\"1\" class=\"dataframe\">\n",
              "  <thead>\n",
              "    <tr style=\"text-align: right;\">\n",
              "      <th></th>\n",
              "      <th>Id</th>\n",
              "      <th>SalePrice</th>\n",
              "    </tr>\n",
              "  </thead>\n",
              "  <tbody>\n",
              "    <tr>\n",
              "      <th>0</th>\n",
              "      <td>1461</td>\n",
              "      <td>169277.052498</td>\n",
              "    </tr>\n",
              "    <tr>\n",
              "      <th>1</th>\n",
              "      <td>1462</td>\n",
              "      <td>187758.393989</td>\n",
              "    </tr>\n",
              "    <tr>\n",
              "      <th>2</th>\n",
              "      <td>1463</td>\n",
              "      <td>183583.683570</td>\n",
              "    </tr>\n",
              "    <tr>\n",
              "      <th>3</th>\n",
              "      <td>1464</td>\n",
              "      <td>179317.477511</td>\n",
              "    </tr>\n",
              "    <tr>\n",
              "      <th>4</th>\n",
              "      <td>1465</td>\n",
              "      <td>150730.079977</td>\n",
              "    </tr>\n",
              "  </tbody>\n",
              "</table>\n",
              "</div>"
            ],
            "text/plain": [
              "     Id      SalePrice\n",
              "0  1461  169277.052498\n",
              "1  1462  187758.393989\n",
              "2  1463  183583.683570\n",
              "3  1464  179317.477511\n",
              "4  1465  150730.079977"
            ]
          },
          "metadata": {
            "tags": []
          },
          "execution_count": 185
        }
      ]
    },
    {
      "cell_type": "code",
      "metadata": {
        "id": "m2lI-z7jIPXG",
        "colab_type": "code",
        "outputId": "6f599d37-ba4f-4807-e0a0-a4adc25c23ed",
        "colab": {
          "base_uri": "https://localhost:8080/",
          "height": 225
        }
      },
      "source": [
        "submission.iloc[:,1] = inverse_transform(xgboost.predict(x_test))\n",
        "submission.set_index(submission['Id'],inplace=True)\n",
        "submission.drop('Id',axis=1,inplace=True)\n",
        "submission.head()"
      ],
      "execution_count": 0,
      "outputs": [
        {
          "output_type": "execute_result",
          "data": {
            "text/html": [
              "<div>\n",
              "<style scoped>\n",
              "    .dataframe tbody tr th:only-of-type {\n",
              "        vertical-align: middle;\n",
              "    }\n",
              "\n",
              "    .dataframe tbody tr th {\n",
              "        vertical-align: top;\n",
              "    }\n",
              "\n",
              "    .dataframe thead th {\n",
              "        text-align: right;\n",
              "    }\n",
              "</style>\n",
              "<table border=\"1\" class=\"dataframe\">\n",
              "  <thead>\n",
              "    <tr style=\"text-align: right;\">\n",
              "      <th></th>\n",
              "      <th>SalePrice</th>\n",
              "    </tr>\n",
              "    <tr>\n",
              "      <th>Id</th>\n",
              "      <th></th>\n",
              "    </tr>\n",
              "  </thead>\n",
              "  <tbody>\n",
              "    <tr>\n",
              "      <th>1461</th>\n",
              "      <td>126068</td>\n",
              "    </tr>\n",
              "    <tr>\n",
              "      <th>1462</th>\n",
              "      <td>168256</td>\n",
              "    </tr>\n",
              "    <tr>\n",
              "      <th>1463</th>\n",
              "      <td>175957</td>\n",
              "    </tr>\n",
              "    <tr>\n",
              "      <th>1464</th>\n",
              "      <td>187687</td>\n",
              "    </tr>\n",
              "    <tr>\n",
              "      <th>1465</th>\n",
              "      <td>202937</td>\n",
              "    </tr>\n",
              "  </tbody>\n",
              "</table>\n",
              "</div>"
            ],
            "text/plain": [
              "      SalePrice\n",
              "Id             \n",
              "1461     126068\n",
              "1462     168256\n",
              "1463     175957\n",
              "1464     187687\n",
              "1465     202937"
            ]
          },
          "metadata": {
            "tags": []
          },
          "execution_count": 189
        }
      ]
    },
    {
      "cell_type": "code",
      "metadata": {
        "id": "13vTUjr4f-Ue",
        "colab_type": "code",
        "outputId": "efdf146a-98d4-4f48-b629-70830b416b08",
        "colab": {
          "base_uri": "https://localhost:8080/",
          "height": 34
        }
      },
      "source": [
        "submission.shape"
      ],
      "execution_count": 0,
      "outputs": [
        {
          "output_type": "execute_result",
          "data": {
            "text/plain": [
              "(1459, 1)"
            ]
          },
          "metadata": {
            "tags": []
          },
          "execution_count": 190
        }
      ]
    },
    {
      "cell_type": "code",
      "metadata": {
        "id": "2Zo1wp28ghH2",
        "colab_type": "code",
        "colab": {}
      },
      "source": [
        "from google.colab import files\n",
        "submission.to_csv('house_prices-submission.csv')\n",
        "files.download('house_prices-submission.csv')"
      ],
      "execution_count": 0,
      "outputs": []
    },
    {
      "cell_type": "markdown",
      "metadata": {
        "id": "iyvy2bNKM8qA",
        "colab_type": "text"
      },
      "source": [
        "### Feature Importance"
      ]
    },
    {
      "cell_type": "code",
      "metadata": {
        "id": "wqMt-lHTM8qB",
        "colab_type": "code",
        "colab": {}
      },
      "source": [
        "#Random Forest Score\n",
        "# Keep in mind that this importance score is biased because it favors high cardinality features\n",
        "importances = pd.DataFrame(mod_list['random_forest'].feature_importances_,columns=['score'])\n",
        "pd.concat([pd.DataFrame(x_train.columns,columns=['features']),importances],axis=1).sort_values('score',ascending=False)"
      ],
      "execution_count": 0,
      "outputs": []
    },
    {
      "cell_type": "code",
      "metadata": {
        "id": "N-DQxGRVM8qG",
        "colab_type": "code",
        "colab": {}
      },
      "source": [
        "# Recursive feature elimination\n",
        "estimator = mod_list['random_forest']\n",
        "selector = RFE(estimator, n_features_to_select=5, step=1)\n",
        "selector = selector.fit(x_train, y_train)"
      ],
      "execution_count": 0,
      "outputs": []
    },
    {
      "cell_type": "code",
      "metadata": {
        "id": "0KVvCANWM8qP",
        "colab_type": "code",
        "colab": {}
      },
      "source": [
        "#Careful! notice that RFE provides a Ranking not a Score, which means the LOWEST value represents the best feature\n",
        "rfe_importances = pd.DataFrame(selector.ranking_,columns=['score'])\n",
        "pd.concat([pd.DataFrame(x_train.columns,columns=['features']),rfe_importances],axis=1).sort_values('score',ascending=True)"
      ],
      "execution_count": 0,
      "outputs": []
    },
    {
      "cell_type": "code",
      "metadata": {
        "id": "-YYiV-4-M8qW",
        "colab_type": "code",
        "colab": {}
      },
      "source": [
        "#Permutation Importance\n",
        "model = mod_list['random_forest']\n",
        "result = permutation_importance(model, x_test, y_test, n_repeats=10,random_state=42,scoring='neg_mean_squared_log_error')"
      ],
      "execution_count": 0,
      "outputs": []
    },
    {
      "cell_type": "code",
      "metadata": {
        "id": "XuRuKyeUM8qd",
        "colab_type": "code",
        "colab": {}
      },
      "source": [
        "#Careful! notice that Permutation Importance provides a Score, which means the HIGHEST value represents the best feature\n",
        "perm_importances = pd.DataFrame(result.importances_mean,columns=['score'])\n",
        "perm_importances = perm_importances['score'].apply(lambda x: '%.10f' % x)\n",
        "df_perm_imiportances = pd.concat([pd.DataFrame(x_train.columns,columns=['features']),perm_importances],axis=1).sort_values('score',ascending=False)\n",
        "df_perm_imiportances"
      ],
      "execution_count": 0,
      "outputs": []
    },
    {
      "cell_type": "code",
      "metadata": {
        "id": "awpJtD6AM8qk",
        "colab_type": "code",
        "colab": {}
      },
      "source": [
        "#Select features for next training cycle\n",
        "feature_selection2 = df_perm_imiportances.iloc[0:10,0]\n",
        "feature_selection2"
      ],
      "execution_count": 0,
      "outputs": []
    },
    {
      "cell_type": "markdown",
      "metadata": {
        "id": "Haa5l6rLM8qs",
        "colab_type": "text"
      },
      "source": [
        "#### Global Interpretability"
      ]
    },
    {
      "cell_type": "code",
      "metadata": {
        "id": "bYakEZjIM8qv",
        "colab_type": "code",
        "colab": {}
      },
      "source": [
        "model = mod_list['random_forest']\n",
        "shap_values = shap.TreeExplainer(model).shap_values(x_train)\n",
        "shap.summary_plot(shap_values, x_train)"
      ],
      "execution_count": 0,
      "outputs": []
    },
    {
      "cell_type": "code",
      "metadata": {
        "id": "T6K1GgenM8q2",
        "colab_type": "code",
        "colab": {}
      },
      "source": [
        "shap.dependence_plot('OverallQual', shap_values, x_train)"
      ],
      "execution_count": 0,
      "outputs": []
    },
    {
      "cell_type": "markdown",
      "metadata": {
        "id": "N1TonO0QM8q7",
        "colab_type": "text"
      },
      "source": [
        "#### Local Interpretability"
      ]
    },
    {
      "cell_type": "code",
      "metadata": {
        "id": "6Wk8AQexM8q8",
        "colab_type": "code",
        "colab": {}
      },
      "source": [
        "# Initialize your Jupyter notebook with initjs(), otherwise you will get an error message.\n",
        "shap.initjs()\n",
        "\n",
        "# Write in a function\n",
        "def shap_plot(j):\n",
        "    explainerModel = shap.TreeExplainer(model)\n",
        "    shap_values_Model = explainerModel.shap_values(S)\n",
        "    p = shap.force_plot(explainerModel.expected_value, shap_values_Model[j], S.iloc[[j]])\n",
        "    return(p)"
      ],
      "execution_count": 0,
      "outputs": []
    },
    {
      "cell_type": "code",
      "metadata": {
        "id": "RDQAL8pxM8rB",
        "colab_type": "code",
        "colab": {}
      },
      "source": [
        "x_output = x_test.copy()\n",
        "x_output.loc[:,'predict'] = np.round(model.predict(x_output),2)\n",
        "S = x_output.head()\n",
        "S"
      ],
      "execution_count": 0,
      "outputs": []
    },
    {
      "cell_type": "code",
      "metadata": {
        "id": "pmJN39SqM8rF",
        "colab_type": "code",
        "colab": {}
      },
      "source": [
        "shap_plot(0)"
      ],
      "execution_count": 0,
      "outputs": []
    },
    {
      "cell_type": "code",
      "metadata": {
        "id": "21WdRq1MM8rJ",
        "colab_type": "code",
        "colab": {}
      },
      "source": [
        "pd.DataFrame(shap_values,columns=x_train.columns).head()"
      ],
      "execution_count": 0,
      "outputs": []
    },
    {
      "cell_type": "markdown",
      "metadata": {
        "id": "6BJZLiwUM8rR",
        "colab_type": "text"
      },
      "source": [
        "## Modeling 2"
      ]
    },
    {
      "cell_type": "markdown",
      "metadata": {
        "id": "N6qvar7ZM8ro",
        "colab_type": "text"
      },
      "source": [
        "### Explore Errors "
      ]
    },
    {
      "cell_type": "code",
      "metadata": {
        "id": "DZO3NIIaM8rp",
        "colab_type": "code",
        "colab": {}
      },
      "source": [
        "explore_errors = {}\n",
        "for i in mod_list:\n",
        "    y_pred = inverse_transform(mod_list[i].predict(x_test))\n",
        "    y_test = inverse_transform(y_test)\n",
        "    ranges = pd.cut(y_test.reset_index(drop=True),20)\n",
        "    explore_errors[i] = pd.concat([y_test.reset_index(drop=True),ranges,pd.DataFrame(y_pred)],axis=1)\n",
        "    explore_errors[i].columns = ['y_test','y_test_range','y_pred']"
      ],
      "execution_count": 0,
      "outputs": []
    },
    {
      "cell_type": "code",
      "metadata": {
        "id": "SCIpT5fLM8rw",
        "colab_type": "code",
        "colab": {}
      },
      "source": [
        "i = 'random_forest'\n",
        "test = pd.concat([x_test.reset_index(drop=True),explore_errors[i]],axis=1)\n",
        "test['error'] = test['y_pred']-test['y_test']"
      ],
      "execution_count": 0,
      "outputs": []
    },
    {
      "cell_type": "code",
      "metadata": {
        "id": "srkTat3pM8r4",
        "colab_type": "code",
        "colab": {}
      },
      "source": [
        "table = test.groupby('y_test_range').agg({'error':'mean','y_pred':'count'})\n",
        "table['%'] = table['y_pred']/table['y_pred'].sum()*100\n",
        "table['%cum_sum'] = table['%'].cumsum()\n",
        "table.columns = ['error_mean','count(y_pred)','%','%cum_sum']\n",
        "table.head()"
      ],
      "execution_count": 0,
      "outputs": []
    },
    {
      "cell_type": "code",
      "metadata": {
        "id": "mzj6ivoNM8sB",
        "colab_type": "code",
        "colab": {}
      },
      "source": [
        "table['y_test_range'] = table.index"
      ],
      "execution_count": 0,
      "outputs": []
    },
    {
      "cell_type": "code",
      "metadata": {
        "id": "GH5wx4TEM8sJ",
        "colab_type": "code",
        "colab": {}
      },
      "source": [
        "cross_plot(table,'%','error_mean','y_test_range',order=0,titulo='Errores Modelo')"
      ],
      "execution_count": 0,
      "outputs": []
    },
    {
      "cell_type": "code",
      "metadata": {
        "id": "6HaKY0d5M8sP",
        "colab_type": "code",
        "colab": {}
      },
      "source": [
        "table"
      ],
      "execution_count": 0,
      "outputs": []
    }
  ]
}