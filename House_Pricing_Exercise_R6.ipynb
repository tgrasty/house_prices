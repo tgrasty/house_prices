{
  "nbformat": 4,
  "nbformat_minor": 0,
  "metadata": {
    "kernelspec": {
      "display_name": "Python 3",
      "language": "python",
      "name": "python3"
    },
    "language_info": {
      "codemirror_mode": {
        "name": "ipython",
        "version": 3
      },
      "file_extension": ".py",
      "mimetype": "text/x-python",
      "name": "python",
      "nbconvert_exporter": "python",
      "pygments_lexer": "ipython3",
      "version": "3.7.3"
    },
    "colab": {
      "name": "House Pricing Exercise-R6.ipynb",
      "provenance": [],
      "collapsed_sections": [
        "9bFg_A8LM8lS",
        "ctdcCv1tM8ly",
        "bBnOhX57M8mV",
        "88WwLfG4M8nF",
        "QQVwPPlBM8nV",
        "bkrnSiGKM8nt",
        "hce-B3QkM8n5",
        "_2ePPmtdM8oi",
        "iyvy2bNKM8qA",
        "Haa5l6rLM8qs",
        "N1TonO0QM8q7",
        "N6qvar7ZM8ro"
      ]
    }
  },
  "cells": [
    {
      "cell_type": "markdown",
      "metadata": {
        "id": "-FKyv-zGM8f8",
        "colab_type": "text"
      },
      "source": [
        "# Kaggle competition: Predicting House Prices 202003"
      ]
    },
    {
      "cell_type": "code",
      "metadata": {
        "id": "UMU3mJLNnPvA",
        "colab_type": "code",
        "outputId": "235b8b8b-79a2-40dc-c831-c29d501de738",
        "colab": {
          "base_uri": "https://localhost:8080/",
          "height": 134
        }
      },
      "source": [
        "pip install pandasql"
      ],
      "execution_count": 94,
      "outputs": [
        {
          "output_type": "stream",
          "text": [
            "Requirement already satisfied: pandasql in /usr/local/lib/python3.6/dist-packages (0.7.3)\n",
            "Requirement already satisfied: sqlalchemy in /usr/local/lib/python3.6/dist-packages (from pandasql) (1.3.17)\n",
            "Requirement already satisfied: pandas in /usr/local/lib/python3.6/dist-packages (from pandasql) (1.0.4)\n",
            "Requirement already satisfied: numpy in /usr/local/lib/python3.6/dist-packages (from pandasql) (1.18.4)\n",
            "Requirement already satisfied: python-dateutil>=2.6.1 in /usr/local/lib/python3.6/dist-packages (from pandas->pandasql) (2.8.1)\n",
            "Requirement already satisfied: pytz>=2017.2 in /usr/local/lib/python3.6/dist-packages (from pandas->pandasql) (2018.9)\n",
            "Requirement already satisfied: six>=1.5 in /usr/local/lib/python3.6/dist-packages (from python-dateutil>=2.6.1->pandas->pandasql) (1.12.0)\n"
          ],
          "name": "stdout"
        }
      ]
    },
    {
      "cell_type": "code",
      "metadata": {
        "id": "9AC4Bmq3nYsx",
        "colab_type": "code",
        "outputId": "623ffc0d-bc81-4a5d-8685-01157f21958b",
        "colab": {
          "base_uri": "https://localhost:8080/",
          "height": 185
        }
      },
      "source": [
        "pip install shap"
      ],
      "execution_count": 95,
      "outputs": [
        {
          "output_type": "stream",
          "text": [
            "Requirement already satisfied: shap in /usr/local/lib/python3.6/dist-packages (0.35.0)\n",
            "Requirement already satisfied: scipy in /usr/local/lib/python3.6/dist-packages (from shap) (1.4.1)\n",
            "Requirement already satisfied: scikit-learn in /usr/local/lib/python3.6/dist-packages (from shap) (0.22.2.post1)\n",
            "Requirement already satisfied: pandas in /usr/local/lib/python3.6/dist-packages (from shap) (1.0.4)\n",
            "Requirement already satisfied: numpy in /usr/local/lib/python3.6/dist-packages (from shap) (1.18.4)\n",
            "Requirement already satisfied: tqdm>4.25.0 in /usr/local/lib/python3.6/dist-packages (from shap) (4.41.1)\n",
            "Requirement already satisfied: joblib>=0.11 in /usr/local/lib/python3.6/dist-packages (from scikit-learn->shap) (0.15.1)\n",
            "Requirement already satisfied: pytz>=2017.2 in /usr/local/lib/python3.6/dist-packages (from pandas->shap) (2018.9)\n",
            "Requirement already satisfied: python-dateutil>=2.6.1 in /usr/local/lib/python3.6/dist-packages (from pandas->shap) (2.8.1)\n",
            "Requirement already satisfied: six>=1.5 in /usr/local/lib/python3.6/dist-packages (from python-dateutil>=2.6.1->pandas->shap) (1.12.0)\n"
          ],
          "name": "stdout"
        }
      ]
    },
    {
      "cell_type": "code",
      "metadata": {
        "id": "qj-szKGrM8gR",
        "colab_type": "code",
        "colab": {}
      },
      "source": [
        "import pandas as pd\n",
        "import numpy as np\n",
        "from sklearn import tree\n",
        "from sklearn.tree import plot_tree\n",
        "from sklearn.tree import DecisionTreeClassifier\n",
        "from sklearn.tree import DecisionTreeRegressor\n",
        "from sklearn.model_selection import train_test_split\n",
        "from sklearn import metrics\n",
        "from sklearn.linear_model import LinearRegression\n",
        "from sklearn.model_selection import cross_val_score\n",
        "from sklearn.metrics import mean_squared_log_error\n",
        "import statsmodels.api as sm\n",
        "from statsmodels.formula.api import ols\n",
        "from sklearn.preprocessing import StandardScaler\n",
        "from pydoc import help\n",
        "import scipy.stats as stats\n",
        "from scipy.stats.stats import pearsonr\n",
        "from statsmodels.stats.multicomp import pairwise_tukeyhsd\n",
        "from statsmodels.stats.multicomp import MultiComparison\n",
        "from scipy.stats.stats import kendalltau\n",
        "from sklearn import svm\n",
        "from sklearn.svm import SVR\n",
        "from sklearn.ensemble import RandomForestRegressor\n",
        "import matplotlib.pyplot as plt\n",
        "import pandasql as ps\n",
        "from sklearn.feature_selection import RFE\n",
        "from sklearn.inspection import permutation_importance\n",
        "import shap\n",
        "from xgboost import XGBRegressor\n",
        "import math\n",
        "from scipy.stats import skew"
      ],
      "execution_count": 0,
      "outputs": []
    },
    {
      "cell_type": "code",
      "metadata": {
        "id": "hf3D0SX_M8gl",
        "colab_type": "code",
        "colab": {}
      },
      "source": [
        "#conda install -c conda-forge scikit-learn"
      ],
      "execution_count": 0,
      "outputs": []
    },
    {
      "cell_type": "code",
      "metadata": {
        "id": "b82YpoRrM8gv",
        "colab_type": "code",
        "colab": {}
      },
      "source": [
        "#conda update -n base -c defaults conda"
      ],
      "execution_count": 0,
      "outputs": []
    },
    {
      "cell_type": "code",
      "metadata": {
        "id": "MRpdzhnTM8hP",
        "colab_type": "code",
        "colab": {}
      },
      "source": [
        "def correlated_variables(data,obj_variable,min_abs_corr=0.6):\n",
        "    \"\"\"\n",
        "    Generates a DataFrame with the correlations and variables that are higher than \"min_corr\" for variable selection.\n",
        "    data: DataFrame. Correlation matrix only for numeric variables and including objective variable.\n",
        "    min_abs_corr: int. Minimum absolute correlation that will be selected as high correlated\n",
        "    obj_variable: string. Name of the objective variable for the model\n",
        "    \"\"\"\n",
        "    high_corr = pd.DataFrame(columns=['Variable1','Variable2','Corr_V1&V2','Corr_V1&Obj','Corr_V2&Obj'])\n",
        "    k=1\n",
        "    obj_var_pos = data.columns.get_loc(obj_variable)\n",
        "    for i in range(0,len(data)):\n",
        "        for j in range(k,len(data)):\n",
        "            if(np.absolute(data.iloc[i,j])>=min_abs_corr and j!=obj_var_pos):\n",
        "                a = data.index[i]\n",
        "                b = data.columns[j]\n",
        "                c = data.iloc[i,j]\n",
        "                d = data.iloc[i,obj_var_pos]\n",
        "                e = data.iloc[j,obj_var_pos]\n",
        "                high_corr = high_corr.append(pd.DataFrame([[a,b,c,d,e]],columns=high_corr.columns))\n",
        "        k+=1\n",
        "    return high_corr.sort_values('Corr_V1&V2',ascending=False)"
      ],
      "execution_count": 0,
      "outputs": []
    },
    {
      "cell_type": "code",
      "metadata": {
        "id": "E8NkXbUVM8hi",
        "colab_type": "code",
        "colab": {}
      },
      "source": [
        "def null_info(df):\n",
        "    null_count = df.isna().sum().to_frame()\n",
        "    null_count.columns = ['#_NA'] \n",
        "    null_count['%'] = null_count*100/len(df)\n",
        "    #null_count[null_count['%']>30].sort_values('%',ascending=False)\n",
        "    df_dtypes = df.dtypes.to_frame()\n",
        "    df_dtypes.columns = ['data_type']\n",
        "    return null_count.merge(df_dtypes,how='left',left_on=null_count.index,right_on=df_dtypes.index).sort_values('%',ascending=False)\n"
      ],
      "execution_count": 0,
      "outputs": []
    },
    {
      "cell_type": "code",
      "metadata": {
        "id": "RWGbN3x9M8h2",
        "colab_type": "code",
        "colab": {}
      },
      "source": [
        "#Generate 'Empty' category for categorical variables and fill with 0 numerical ones\n",
        "def fill_missing_values(data):\n",
        "    \"\"\"\n",
        "    Fill missing values with category 'Empty' for categorical variables and 0 for numerical\n",
        "    Data: DataFrame. Contains the data that will be analyzed\n",
        "    \"\"\"\n",
        "    df1 = data.copy()\n",
        "    for i in df1:\n",
        "        if df1[i].dtypes == 'object': \n",
        "            #print('Transforming column: ',i,'\\n')\n",
        "            df1[i].fillna('Empty',inplace=True)\n",
        "        else:\n",
        "            df1[i].fillna(0,inplace=True)\n",
        "    return df1"
      ],
      "execution_count": 0,
      "outputs": []
    },
    {
      "cell_type": "code",
      "metadata": {
        "id": "f4NvBi3mM8iB",
        "colab_type": "code",
        "colab": {}
      },
      "source": [
        "def integrate_dummies(data,key):\n",
        "    \"\"\"Generates data set ready for applying a machine learning algorithm: sepparates the object variables, gets the dummie \n",
        "    variables and returns a data frame with all the features.\n",
        "    data: pandas data frame, only contains the features that will be used for the machine learning algorithm\n",
        "    key: pandas series, column that contains primary key of the dataset\n",
        "    \"\"\"\n",
        "    is_object = data.dtypes==object\n",
        "    numeric_features = [i for i in is_object.index if is_object[i]==False]\n",
        "    object_features = [i for i in is_object.index if is_object[i]==True]\n",
        "    dummies = pd.get_dummies(data[object_features],drop_first=True)\n",
        "    dummies['key'] = key\n",
        "    #dummies['key']=df_1.rut_deudor.astype(str)+df_1.rut_cliente.astype(str)\n",
        "    numeric_df = data.loc[:,numeric_features]\n",
        "    numeric_df['key'] = key\n",
        "    return pd.merge(left=numeric_df,right=dummies, how='inner', on='key').drop('key',axis=1)"
      ],
      "execution_count": 0,
      "outputs": []
    },
    {
      "cell_type": "code",
      "metadata": {
        "id": "8auqBgQuM8iS",
        "colab_type": "code",
        "colab": {}
      },
      "source": [
        "from sklearn.utils import check_array\n",
        "def mean_absolute_percentage_error(y_true, y_pred): \n",
        "    \"\"\"\n",
        "    Returns the mean absolute percentage error\n",
        "    y_true: 1d array. Real values of \"y\"\n",
        "    y_pred: 1d array. Predicted values of \"y\"\n",
        "    \"\"\"\n",
        "    #y_true, y_pred = check_array(y_true, y_pred)\n",
        "\n",
        "    ## Note: does not handle mix 1d representation\n",
        "    #if _is_1d(y_true): \n",
        "    #    y_true, y_pred = _check_1d_array(y_true, y_pred)\n",
        "\n",
        "    return np.mean(np.abs((y_true - y_pred) / y_true)) * 100"
      ],
      "execution_count": 0,
      "outputs": []
    },
    {
      "cell_type": "code",
      "metadata": {
        "id": "u-RA5QXGM8ic",
        "colab_type": "code",
        "colab": {}
      },
      "source": [
        "def pearson_filtering(data,obj_variable,max_pvalue=0.05,min_abs_pearson=0.5):\n",
        "    \"\"\"\n",
        "    Returns DataFrame with the pearson correlation and p-values for numerical variables of \"data\" with a higher correlation than \"threshold\" with the \"obj_variable\"\n",
        "    data: Data Frame containing numerical and categorical variables as well as the objective variable\n",
        "    max_pvalue: float/int. Maximum pvalue for numeric variables correlation\n",
        "    min_abs_pearson: float/int. Minimum absolute pearson correlation between the regressor variables and objective variable (\"obj_variable\")\n",
        "    obj_variable: string. Name of the objective variable within \"data\"\n",
        "    \"\"\"\n",
        "    data_corr = data.loc[:,data.dtypes!='object'].corr()\n",
        "    selected_numerical = data_corr[data_corr[obj_variable].abs()>min_abs_pearson][obj_variable]\n",
        "    try:\n",
        "        selected_numerical.drop([obj_variable],inplace=True)\n",
        "    except (KeyError):\n",
        "        pass\n",
        "\n",
        "    #Calculate P-values and filtering significant variables (<5%)\n",
        "    pearson_stats = [pearsonr(data[i].to_numpy(),data[obj_variable]) for i in data[selected_numerical.index]]\n",
        "    result = pd.DataFrame(pearson_stats,columns=['Corr_Coef','P-value'],index=selected_numerical.index)\n",
        "    result['abs_corr'] = result['Corr_Coef'].abs()\n",
        "    return result[result['P-value']<max_pvalue].sort_values('abs_corr',ascending=False).drop('abs_corr',axis=1)"
      ],
      "execution_count": 0,
      "outputs": []
    },
    {
      "cell_type": "code",
      "metadata": {
        "id": "LVWnppDMM8io",
        "colab_type": "code",
        "colab": {}
      },
      "source": [
        "def cross_plot(data, barra, variable, categorias, size=(10,7), titulo = None, order=1):\n",
        "    \"\"\"\n",
        "    Generates double axis plot with lines and bars\n",
        "    data: DataFrame. With data for the plot.\n",
        "    barra: String. Name of the column of \"data\" that will be represented as bars.\n",
        "    variable: String. Name of the column of \"data\" that will be represented as a line.\n",
        "    categorias: String. Name of the column of \"data\" that will be used as the x-axis categories.\n",
        "    titulo: String. Title of the graph.\n",
        "    order: Int. 1 means \"categorias\" will be ordered.\n",
        "    \"\"\"\n",
        "    fig, ax1 = plt.subplots(figsize=size)\n",
        "    ax2 = ax1.twinx()\n",
        "    if order==1:\n",
        "        data = data.sort_values(barra).reset_index(drop=True)\n",
        "    data[barra].plot(kind='bar', color='b', ax=ax1, label=barra)\n",
        "    try:\n",
        "        for v in variable:\n",
        "            data[v].plot(kind='line', marker='d', ax=ax2, label=v)\n",
        "    except:\n",
        "        data[variable].plot(kind='line',color='r', marker='d', ax=ax2, label=variable)\n",
        "    ax1.yaxis.tick_left()\n",
        "    ax2.yaxis.tick_right()\n",
        "    ticks = data[categorias]\n",
        "    plt.xticks(np.arange(ticks.unique().shape[0]),ticks)\n",
        "    plt.xticks(rotation=60)\n",
        "    \n",
        "    n_cat = data.shape[0]\n",
        "    max_height = data[variable].max()\n",
        "    min_height = data[variable].min()\n",
        "    plt.xlim(-0.5,n_cat-0.5)\n",
        "    plt.ylim(min_height*0.95,max_height*1.05)\n",
        "    \n",
        "    plt.title(titulo)\n",
        "    ax1.set_xlabel(categorias)\n",
        "    ax1.set_ylabel(barra)\n",
        "    ax2.set_ylabel(variable)\n",
        "    plt.legend()"
      ],
      "execution_count": 0,
      "outputs": []
    },
    {
      "cell_type": "code",
      "metadata": {
        "id": "kKR3uRkWM8i1",
        "colab_type": "code",
        "colab": {}
      },
      "source": [
        "path = 'https://raw.githubusercontent.com/tgrasty/house_prices/master/train.csv'"
      ],
      "execution_count": 0,
      "outputs": []
    },
    {
      "cell_type": "code",
      "metadata": {
        "id": "Fo5LV_taM8i-",
        "colab_type": "code",
        "colab": {}
      },
      "source": [
        "df = pd.read_csv(path)"
      ],
      "execution_count": 0,
      "outputs": []
    },
    {
      "cell_type": "code",
      "metadata": {
        "id": "ouC10-jJM8jG",
        "colab_type": "code",
        "colab": {}
      },
      "source": [
        "datasets = {'1.original':df}"
      ],
      "execution_count": 0,
      "outputs": []
    },
    {
      "cell_type": "code",
      "metadata": {
        "id": "XalG4xw-M8jN",
        "colab_type": "code",
        "outputId": "b9bcec13-52fb-4626-81b4-c5ff43070a06",
        "colab": {
          "base_uri": "https://localhost:8080/",
          "height": 34
        }
      },
      "source": [
        "datasets['0.0_test_original'] = pd.read_csv('https://raw.githubusercontent.com/tgrasty/house_prices/master/test.csv')\n",
        "datasets['0.0_test_original'].shape"
      ],
      "execution_count": 109,
      "outputs": [
        {
          "output_type": "execute_result",
          "data": {
            "text/plain": [
              "(1459, 80)"
            ]
          },
          "metadata": {
            "tags": []
          },
          "execution_count": 109
        }
      ]
    },
    {
      "cell_type": "code",
      "metadata": {
        "id": "eiM6CCL5M8jV",
        "colab_type": "code",
        "outputId": "35c39430-2baa-4eea-efad-860a2dbb2a19",
        "colab": {
          "base_uri": "https://localhost:8080/",
          "height": 34
        }
      },
      "source": [
        "df.shape"
      ],
      "execution_count": 110,
      "outputs": [
        {
          "output_type": "execute_result",
          "data": {
            "text/plain": [
              "(1460, 81)"
            ]
          },
          "metadata": {
            "tags": []
          },
          "execution_count": 110
        }
      ]
    },
    {
      "cell_type": "code",
      "metadata": {
        "id": "yy1ALNZcM8jd",
        "colab_type": "code",
        "colab": {}
      },
      "source": [
        "pd.set_option('display.max_rows', 100)"
      ],
      "execution_count": 0,
      "outputs": []
    },
    {
      "cell_type": "code",
      "metadata": {
        "id": "7DwMUrS-M8jp",
        "colab_type": "code",
        "outputId": "f73ea29b-9ed7-411b-b484-c265f0fbbaa6",
        "colab": {
          "base_uri": "https://localhost:8080/",
          "height": 195
        }
      },
      "source": [
        "# Check data types\n",
        "sample = df.head().transpose()\n",
        "types = df.dtypes.to_frame()\n",
        "types.merge(sample,how='left',left_on=types.index,right_on=sample.index).head()"
      ],
      "execution_count": 112,
      "outputs": [
        {
          "output_type": "execute_result",
          "data": {
            "text/html": [
              "<div>\n",
              "<style scoped>\n",
              "    .dataframe tbody tr th:only-of-type {\n",
              "        vertical-align: middle;\n",
              "    }\n",
              "\n",
              "    .dataframe tbody tr th {\n",
              "        vertical-align: top;\n",
              "    }\n",
              "\n",
              "    .dataframe thead th {\n",
              "        text-align: right;\n",
              "    }\n",
              "</style>\n",
              "<table border=\"1\" class=\"dataframe\">\n",
              "  <thead>\n",
              "    <tr style=\"text-align: right;\">\n",
              "      <th></th>\n",
              "      <th>key_0</th>\n",
              "      <th>0_x</th>\n",
              "      <th>0_y</th>\n",
              "      <th>1</th>\n",
              "      <th>2</th>\n",
              "      <th>3</th>\n",
              "      <th>4</th>\n",
              "    </tr>\n",
              "  </thead>\n",
              "  <tbody>\n",
              "    <tr>\n",
              "      <th>0</th>\n",
              "      <td>Id</td>\n",
              "      <td>int64</td>\n",
              "      <td>1</td>\n",
              "      <td>2</td>\n",
              "      <td>3</td>\n",
              "      <td>4</td>\n",
              "      <td>5</td>\n",
              "    </tr>\n",
              "    <tr>\n",
              "      <th>1</th>\n",
              "      <td>MSSubClass</td>\n",
              "      <td>int64</td>\n",
              "      <td>60</td>\n",
              "      <td>20</td>\n",
              "      <td>60</td>\n",
              "      <td>70</td>\n",
              "      <td>60</td>\n",
              "    </tr>\n",
              "    <tr>\n",
              "      <th>2</th>\n",
              "      <td>MSZoning</td>\n",
              "      <td>object</td>\n",
              "      <td>RL</td>\n",
              "      <td>RL</td>\n",
              "      <td>RL</td>\n",
              "      <td>RL</td>\n",
              "      <td>RL</td>\n",
              "    </tr>\n",
              "    <tr>\n",
              "      <th>3</th>\n",
              "      <td>LotFrontage</td>\n",
              "      <td>float64</td>\n",
              "      <td>65</td>\n",
              "      <td>80</td>\n",
              "      <td>68</td>\n",
              "      <td>60</td>\n",
              "      <td>84</td>\n",
              "    </tr>\n",
              "    <tr>\n",
              "      <th>4</th>\n",
              "      <td>LotArea</td>\n",
              "      <td>int64</td>\n",
              "      <td>8450</td>\n",
              "      <td>9600</td>\n",
              "      <td>11250</td>\n",
              "      <td>9550</td>\n",
              "      <td>14260</td>\n",
              "    </tr>\n",
              "  </tbody>\n",
              "</table>\n",
              "</div>"
            ],
            "text/plain": [
              "         key_0      0_x   0_y     1      2     3      4\n",
              "0           Id    int64     1     2      3     4      5\n",
              "1   MSSubClass    int64    60    20     60    70     60\n",
              "2     MSZoning   object    RL    RL     RL    RL     RL\n",
              "3  LotFrontage  float64    65    80     68    60     84\n",
              "4      LotArea    int64  8450  9600  11250  9550  14260"
            ]
          },
          "metadata": {
            "tags": []
          },
          "execution_count": 112
        }
      ]
    },
    {
      "cell_type": "code",
      "metadata": {
        "id": "YAEtzS6oB4kR",
        "colab_type": "code",
        "colab": {}
      },
      "source": [
        "quantitative = [f for f in df.columns if df.dtypes[f] != 'object']\n",
        "quantitative.remove('SalePrice')\n",
        "quantitative.remove('Id')\n",
        "qualitative = [f for f in df.columns if df.dtypes[f] == 'object']"
      ],
      "execution_count": 0,
      "outputs": []
    },
    {
      "cell_type": "code",
      "metadata": {
        "id": "UctVo0NDC2I1",
        "colab_type": "code",
        "outputId": "f41ec5c4-a20d-4e79-adc1-1cee192ebf22",
        "colab": {
          "base_uri": "https://localhost:8080/",
          "height": 34
        }
      },
      "source": [
        "test_normality = lambda x: stats.shapiro(x.fillna(0))[1] <0.01\n",
        "normal = pd.DataFrame(df[quantitative])\n",
        "normal = normal.apply(test_normality)\n",
        "print(not normal.any())\n"
      ],
      "execution_count": 114,
      "outputs": [
        {
          "output_type": "stream",
          "text": [
            "False\n"
          ],
          "name": "stdout"
        }
      ]
    },
    {
      "cell_type": "code",
      "metadata": {
        "id": "mEiJb6InHQRI",
        "colab_type": "code",
        "outputId": "8e606290-3b26-4db1-a7b3-8a7055cbcb31",
        "colab": {
          "base_uri": "https://localhost:8080/",
          "height": 590
        }
      },
      "source": [
        "import seaborn as sns\n",
        "y = df['SalePrice']\n",
        "plt.figure(1); plt.title('Normal')\n",
        "sns.distplot(y, kde=False, fit=stats.norm)\n",
        "plt.figure(2); plt.title('Log Normal')\n",
        "sns.distplot(y, kde=False, fit=stats.lognorm)"
      ],
      "execution_count": 115,
      "outputs": [
        {
          "output_type": "execute_result",
          "data": {
            "text/plain": [
              "<matplotlib.axes._subplots.AxesSubplot at 0x7fce5649af98>"
            ]
          },
          "metadata": {
            "tags": []
          },
          "execution_count": 115
        },
        {
          "output_type": "display_data",
          "data": {
            "image/png": "[encoded data removed]",
            "text/plain": [
              "<Figure size 432x288 with 1 Axes>"
            ]
          },
          "metadata": {
            "tags": [],
            "needs_background": "light"
          }
        },
        {
          "output_type": "display_data",
          "data": {
            "image/png": "[encoded data removed]",
            "text/plain": [
              "<Figure size 432x288 with 1 Axes>"
            ]
          },
          "metadata": {
            "tags": [],
            "needs_background": "light"
          }
        }
      ]
    },
    {
      "cell_type": "markdown",
      "metadata": {
        "id": "cL0XgDm3M8j3",
        "colab_type": "text"
      },
      "source": [
        "### Data Cleansing\n"
      ]
    },
    {
      "cell_type": "code",
      "metadata": {
        "id": "rCaNoQZ2M8j5",
        "colab_type": "code",
        "outputId": "34e2dd36-fbff-4988-f80f-8609c3c7eb39",
        "colab": {
          "base_uri": "https://localhost:8080/",
          "height": 195
        }
      },
      "source": [
        "df_nulls = null_info(df)\n",
        "df_nulls.head()\n",
        "#df_nulls[df_nulls['%']>0].sort_values('%',ascending=False)"
      ],
      "execution_count": 156,
      "outputs": [
        {
          "output_type": "execute_result",
          "data": {
            "text/html": [
              "<div>\n",
              "<style scoped>\n",
              "    .dataframe tbody tr th:only-of-type {\n",
              "        vertical-align: middle;\n",
              "    }\n",
              "\n",
              "    .dataframe tbody tr th {\n",
              "        vertical-align: top;\n",
              "    }\n",
              "\n",
              "    .dataframe thead th {\n",
              "        text-align: right;\n",
              "    }\n",
              "</style>\n",
              "<table border=\"1\" class=\"dataframe\">\n",
              "  <thead>\n",
              "    <tr style=\"text-align: right;\">\n",
              "      <th></th>\n",
              "      <th>key_0</th>\n",
              "      <th>#_NA</th>\n",
              "      <th>%</th>\n",
              "      <th>data_type</th>\n",
              "    </tr>\n",
              "  </thead>\n",
              "  <tbody>\n",
              "    <tr>\n",
              "      <th>72</th>\n",
              "      <td>PoolQC</td>\n",
              "      <td>1453</td>\n",
              "      <td>99.520548</td>\n",
              "      <td>object</td>\n",
              "    </tr>\n",
              "    <tr>\n",
              "      <th>74</th>\n",
              "      <td>MiscFeature</td>\n",
              "      <td>1406</td>\n",
              "      <td>96.301370</td>\n",
              "      <td>object</td>\n",
              "    </tr>\n",
              "    <tr>\n",
              "      <th>6</th>\n",
              "      <td>Alley</td>\n",
              "      <td>1369</td>\n",
              "      <td>93.767123</td>\n",
              "      <td>object</td>\n",
              "    </tr>\n",
              "    <tr>\n",
              "      <th>73</th>\n",
              "      <td>Fence</td>\n",
              "      <td>1179</td>\n",
              "      <td>80.753425</td>\n",
              "      <td>object</td>\n",
              "    </tr>\n",
              "    <tr>\n",
              "      <th>57</th>\n",
              "      <td>FireplaceQu</td>\n",
              "      <td>690</td>\n",
              "      <td>47.260274</td>\n",
              "      <td>object</td>\n",
              "    </tr>\n",
              "  </tbody>\n",
              "</table>\n",
              "</div>"
            ],
            "text/plain": [
              "          key_0  #_NA          % data_type\n",
              "72       PoolQC  1453  99.520548    object\n",
              "74  MiscFeature  1406  96.301370    object\n",
              "6         Alley  1369  93.767123    object\n",
              "73        Fence  1179  80.753425    object\n",
              "57  FireplaceQu   690  47.260274    object"
            ]
          },
          "metadata": {
            "tags": []
          },
          "execution_count": 156
        }
      ]
    },
    {
      "cell_type": "code",
      "metadata": {
        "id": "EaKMNuS5M8kB",
        "colab_type": "code",
        "colab": {}
      },
      "source": [
        "features = pd.concat([df.drop('SalePrice',axis=1),datasets['0.0_test_original']]).reset_index(drop=True)\n",
        "df1 = fill_missing_values(features)"
      ],
      "execution_count": 0,
      "outputs": []
    },
    {
      "cell_type": "code",
      "metadata": {
        "id": "OWpCEHlFM8kH",
        "colab_type": "code",
        "outputId": "df867a33-b7aa-457b-87e2-e4900825ac43",
        "colab": {
          "base_uri": "https://localhost:8080/",
          "height": 47
        }
      },
      "source": [
        "df1_nulls = null_info(df1)\n",
        "df1_nulls[df1_nulls['%']>0].sort_values('%',ascending=False)"
      ],
      "execution_count": 159,
      "outputs": [
        {
          "output_type": "execute_result",
          "data": {
            "text/html": [
              "<div>\n",
              "<style scoped>\n",
              "    .dataframe tbody tr th:only-of-type {\n",
              "        vertical-align: middle;\n",
              "    }\n",
              "\n",
              "    .dataframe tbody tr th {\n",
              "        vertical-align: top;\n",
              "    }\n",
              "\n",
              "    .dataframe thead th {\n",
              "        text-align: right;\n",
              "    }\n",
              "</style>\n",
              "<table border=\"1\" class=\"dataframe\">\n",
              "  <thead>\n",
              "    <tr style=\"text-align: right;\">\n",
              "      <th></th>\n",
              "      <th>key_0</th>\n",
              "      <th>#_NA</th>\n",
              "      <th>%</th>\n",
              "      <th>data_type</th>\n",
              "    </tr>\n",
              "  </thead>\n",
              "  <tbody>\n",
              "  </tbody>\n",
              "</table>\n",
              "</div>"
            ],
            "text/plain": [
              "Empty DataFrame\n",
              "Columns: [key_0, #_NA, %, data_type]\n",
              "Index: []"
            ]
          },
          "metadata": {
            "tags": []
          },
          "execution_count": 159
        }
      ]
    },
    {
      "cell_type": "markdown",
      "metadata": {
        "id": "RutTYnj1M8kO",
        "colab_type": "text"
      },
      "source": [
        "#### Correction of data types"
      ]
    },
    {
      "cell_type": "code",
      "metadata": {
        "id": "1ZxYqBz2M8kR",
        "colab_type": "code",
        "outputId": "72b6a043-751c-448c-d52c-bd0102b8d44e",
        "colab": {
          "base_uri": "https://localhost:8080/",
          "height": 34
        }
      },
      "source": [
        "df1['CentralAir'].unique()"
      ],
      "execution_count": 139,
      "outputs": [
        {
          "output_type": "execute_result",
          "data": {
            "text/plain": [
              "array(['Y', 'N'], dtype=object)"
            ]
          },
          "metadata": {
            "tags": []
          },
          "execution_count": 139
        }
      ]
    },
    {
      "cell_type": "code",
      "metadata": {
        "id": "cZOjACKTM8kY",
        "colab_type": "code",
        "colab": {}
      },
      "source": [
        "#CentralAir -> transform to binary\n",
        "df1['CentralAir'] = df1['CentralAir'].map(lambda x: 1 if x=='Y' else 0)"
      ],
      "execution_count": 0,
      "outputs": []
    },
    {
      "cell_type": "code",
      "metadata": {
        "id": "5vfWzV_zM8kj",
        "colab_type": "code",
        "colab": {}
      },
      "source": [
        "#Correct current numeric variables that represent categories: transform to string\n",
        "to_string = ['MSSubClass','YearBuilt','YearRemodAdd','GarageYrBlt','MoSold','YrSold']\n",
        "new_categorical = df1[to_string].astype(str)\n",
        "df1.drop(to_string,axis=1,inplace=True)\n",
        "df1 = pd.concat([df1,new_categorical],axis=1)"
      ],
      "execution_count": 0,
      "outputs": []
    },
    {
      "cell_type": "code",
      "metadata": {
        "id": "AbT9reucM8ks",
        "colab_type": "code",
        "outputId": "4dda8509-7833-4250-9997-571c3def25d4",
        "colab": {
          "base_uri": "https://localhost:8080/",
          "height": 34
        }
      },
      "source": [
        "df1.MSSubClass.dtypes"
      ],
      "execution_count": 142,
      "outputs": [
        {
          "output_type": "execute_result",
          "data": {
            "text/plain": [
              "dtype('O')"
            ]
          },
          "metadata": {
            "tags": []
          },
          "execution_count": 142
        }
      ]
    },
    {
      "cell_type": "markdown",
      "metadata": {
        "id": "DXBhZ3MSM8kz",
        "colab_type": "text"
      },
      "source": [
        "###  Variable Generation"
      ]
    },
    {
      "cell_type": "code",
      "metadata": {
        "id": "PkZgupBPM8k0",
        "colab_type": "code",
        "colab": {}
      },
      "source": [
        "df1['TotalArea'] = df1.PoolArea+df1.LotArea+df1.GrLivArea+df1.GarageArea"
      ],
      "execution_count": 0,
      "outputs": []
    },
    {
      "cell_type": "code",
      "metadata": {
        "id": "ir04Jxe1M8k9",
        "colab_type": "code",
        "colab": {}
      },
      "source": [
        "#features_subset = df.loc[:,['Neighborhood','TotalArea','OveralQual','HeatingQC','CentralAir','SaleCondition']]\n",
        "df1['TotalLivingArea'] = df1['1stFlrSF']+df1['2ndFlrSF']"
      ],
      "execution_count": 0,
      "outputs": []
    },
    {
      "cell_type": "code",
      "metadata": {
        "id": "VSszOtKZQ7Or",
        "colab_type": "code",
        "colab": {}
      },
      "source": [
        "df1['YrBltAndRemod']=df1['YearBuilt']+df1['YearRemodAdd']\n",
        "df1['TotalSF']=df1['TotalBsmtSF'] + df1['1stFlrSF'] + df1['2ndFlrSF']\n",
        " \n",
        "df1['Total_sqr_footage'] = (df1['BsmtFinSF1'] + df1['BsmtFinSF2'] +\n",
        "                                 df1['1stFlrSF'] + df1['2ndFlrSF'])\n",
        " \n",
        "df1['Total_Bathrooms'] = (df1['FullBath'] + (0.5 * df1['HalfBath']) +\n",
        "                               df1['BsmtFullBath'] + (0.5 * df1['BsmtHalfBath']))\n",
        " \n",
        "df1['Total_porch_sf'] = (df1['OpenPorchSF'] + df1['3SsnPorch'] +\n",
        "                              df1['EnclosedPorch'] + df1['ScreenPorch'] +\n",
        "                              df1['WoodDeckSF'])\n",
        "df1['haspool'] = df1['PoolArea'].apply(lambda x: 1 if x > 0 else 0)\n",
        "df1['has2ndfloor'] = df1['2ndFlrSF'].apply(lambda x: 1 if x > 0 else 0)\n",
        "df1['hasgarage'] = df1['GarageArea'].apply(lambda x: 1 if x > 0 else 0)\n",
        "df1['hasbsmt'] = df1['TotalBsmtSF'].apply(lambda x: 1 if x > 0 else 0)\n",
        "df1['hasfireplace'] = df1['Fireplaces'].apply(lambda x: 1 if x > 0 else 0)"
      ],
      "execution_count": 0,
      "outputs": []
    },
    {
      "cell_type": "code",
      "metadata": {
        "id": "eBiKIStrM8lD",
        "colab_type": "code",
        "colab": {}
      },
      "source": [
        "datasets['2.cleaned + new variables'] = df1"
      ],
      "execution_count": 0,
      "outputs": []
    },
    {
      "cell_type": "code",
      "metadata": {
        "id": "KZ537UdiM8lK",
        "colab_type": "code",
        "outputId": "907e606b-1d6e-42c5-c88d-82cce057d15d",
        "colab": {
          "base_uri": "https://localhost:8080/",
          "height": 34
        }
      },
      "source": [
        "datasets.keys()"
      ],
      "execution_count": 147,
      "outputs": [
        {
          "output_type": "execute_result",
          "data": {
            "text/plain": [
              "dict_keys(['1.original', '0.0_test_original', '2.cleaned + new variables'])"
            ]
          },
          "metadata": {
            "tags": []
          },
          "execution_count": 147
        }
      ]
    },
    {
      "cell_type": "markdown",
      "metadata": {
        "id": "9bFg_A8LM8lS",
        "colab_type": "text"
      },
      "source": [
        "### Standardization"
      ]
    },
    {
      "cell_type": "code",
      "metadata": {
        "id": "OVZFIUkLM8lU",
        "colab_type": "code",
        "outputId": "db2d7db9-e809-4ea4-b923-7e2ac4370840",
        "colab": {
          "base_uri": "https://localhost:8080/",
          "height": 34
        }
      },
      "source": [
        "df1.shape"
      ],
      "execution_count": 120,
      "outputs": [
        {
          "output_type": "execute_result",
          "data": {
            "text/plain": [
              "(2919, 83)"
            ]
          },
          "metadata": {
            "tags": []
          },
          "execution_count": 120
        }
      ]
    },
    {
      "cell_type": "code",
      "metadata": {
        "id": "jtJw4SKkM8ld",
        "colab_type": "code",
        "outputId": "23777cb1-6f7a-434f-c14f-ee0622763e77",
        "colab": {
          "base_uri": "https://localhost:8080/",
          "height": 244
        }
      },
      "source": [
        "# numerical_variables = [i for i in df1 if df1[i].dtypes!=object and i!=\"Id\"]\n",
        "# standard_df1 = (df1[numerical_variables]-df1[numerical_variables].mean())/df1[numerical_variables].std()\n",
        "# df2 = df1.drop(numerical_variables,axis=1)\n",
        "# df2 = pd.concat([df2,standard_df1],axis=1)\n",
        "# df2.head()\n",
        "# #scaler = StandardScaler() \n",
        "# #data_scaled = scaler.fit_transform(df1)"
      ],
      "execution_count": 63,
      "outputs": [
        {
          "output_type": "execute_result",
          "data": {
            "text/html": [
              "<div>\n",
              "<style scoped>\n",
              "    .dataframe tbody tr th:only-of-type {\n",
              "        vertical-align: middle;\n",
              "    }\n",
              "\n",
              "    .dataframe tbody tr th {\n",
              "        vertical-align: top;\n",
              "    }\n",
              "\n",
              "    .dataframe thead th {\n",
              "        text-align: right;\n",
              "    }\n",
              "</style>\n",
              "<table border=\"1\" class=\"dataframe\">\n",
              "  <thead>\n",
              "    <tr style=\"text-align: right;\">\n",
              "      <th></th>\n",
              "      <th>Id</th>\n",
              "      <th>MSZoning</th>\n",
              "      <th>Street</th>\n",
              "      <th>Alley</th>\n",
              "      <th>LotShape</th>\n",
              "      <th>LandContour</th>\n",
              "      <th>Utilities</th>\n",
              "      <th>LotConfig</th>\n",
              "      <th>LandSlope</th>\n",
              "      <th>Neighborhood</th>\n",
              "      <th>Condition1</th>\n",
              "      <th>Condition2</th>\n",
              "      <th>BldgType</th>\n",
              "      <th>HouseStyle</th>\n",
              "      <th>RoofStyle</th>\n",
              "      <th>RoofMatl</th>\n",
              "      <th>Exterior1st</th>\n",
              "      <th>Exterior2nd</th>\n",
              "      <th>MasVnrType</th>\n",
              "      <th>ExterQual</th>\n",
              "      <th>ExterCond</th>\n",
              "      <th>Foundation</th>\n",
              "      <th>BsmtQual</th>\n",
              "      <th>BsmtCond</th>\n",
              "      <th>BsmtExposure</th>\n",
              "      <th>BsmtFinType1</th>\n",
              "      <th>BsmtFinType2</th>\n",
              "      <th>Heating</th>\n",
              "      <th>HeatingQC</th>\n",
              "      <th>Electrical</th>\n",
              "      <th>KitchenQual</th>\n",
              "      <th>Functional</th>\n",
              "      <th>FireplaceQu</th>\n",
              "      <th>GarageType</th>\n",
              "      <th>GarageFinish</th>\n",
              "      <th>GarageQual</th>\n",
              "      <th>GarageCond</th>\n",
              "      <th>PavedDrive</th>\n",
              "      <th>PoolQC</th>\n",
              "      <th>Fence</th>\n",
              "      <th>...</th>\n",
              "      <th>OverallCond</th>\n",
              "      <th>MasVnrArea</th>\n",
              "      <th>BsmtFinSF1</th>\n",
              "      <th>BsmtFinSF2</th>\n",
              "      <th>BsmtUnfSF</th>\n",
              "      <th>TotalBsmtSF</th>\n",
              "      <th>CentralAir</th>\n",
              "      <th>1stFlrSF</th>\n",
              "      <th>2ndFlrSF</th>\n",
              "      <th>LowQualFinSF</th>\n",
              "      <th>GrLivArea</th>\n",
              "      <th>BsmtFullBath</th>\n",
              "      <th>BsmtHalfBath</th>\n",
              "      <th>FullBath</th>\n",
              "      <th>HalfBath</th>\n",
              "      <th>BedroomAbvGr</th>\n",
              "      <th>KitchenAbvGr</th>\n",
              "      <th>TotRmsAbvGrd</th>\n",
              "      <th>Fireplaces</th>\n",
              "      <th>GarageCars</th>\n",
              "      <th>GarageArea</th>\n",
              "      <th>WoodDeckSF</th>\n",
              "      <th>OpenPorchSF</th>\n",
              "      <th>EnclosedPorch</th>\n",
              "      <th>3SsnPorch</th>\n",
              "      <th>ScreenPorch</th>\n",
              "      <th>PoolArea</th>\n",
              "      <th>MiscVal</th>\n",
              "      <th>SalePrice</th>\n",
              "      <th>TotalArea</th>\n",
              "      <th>TotalLivingArea</th>\n",
              "      <th>TotalSF</th>\n",
              "      <th>Total_sqr_footage</th>\n",
              "      <th>Total_Bathrooms</th>\n",
              "      <th>Total_porch_sf</th>\n",
              "      <th>haspool</th>\n",
              "      <th>has2ndfloor</th>\n",
              "      <th>hasgarage</th>\n",
              "      <th>hasbsmt</th>\n",
              "      <th>hasfireplace</th>\n",
              "    </tr>\n",
              "  </thead>\n",
              "  <tbody>\n",
              "    <tr>\n",
              "      <th>0</th>\n",
              "      <td>1</td>\n",
              "      <td>RL</td>\n",
              "      <td>Pave</td>\n",
              "      <td>Empty</td>\n",
              "      <td>Reg</td>\n",
              "      <td>Lvl</td>\n",
              "      <td>AllPub</td>\n",
              "      <td>Inside</td>\n",
              "      <td>Gtl</td>\n",
              "      <td>CollgCr</td>\n",
              "      <td>Norm</td>\n",
              "      <td>Norm</td>\n",
              "      <td>1Fam</td>\n",
              "      <td>2Story</td>\n",
              "      <td>Gable</td>\n",
              "      <td>CompShg</td>\n",
              "      <td>VinylSd</td>\n",
              "      <td>VinylSd</td>\n",
              "      <td>BrkFace</td>\n",
              "      <td>Gd</td>\n",
              "      <td>TA</td>\n",
              "      <td>PConc</td>\n",
              "      <td>Gd</td>\n",
              "      <td>TA</td>\n",
              "      <td>No</td>\n",
              "      <td>GLQ</td>\n",
              "      <td>Unf</td>\n",
              "      <td>GasA</td>\n",
              "      <td>Ex</td>\n",
              "      <td>SBrkr</td>\n",
              "      <td>Gd</td>\n",
              "      <td>Typ</td>\n",
              "      <td>Empty</td>\n",
              "      <td>Attchd</td>\n",
              "      <td>RFn</td>\n",
              "      <td>TA</td>\n",
              "      <td>TA</td>\n",
              "      <td>Y</td>\n",
              "      <td>Empty</td>\n",
              "      <td>Empty</td>\n",
              "      <td>...</td>\n",
              "      <td>-0.507197</td>\n",
              "      <td>0.528944</td>\n",
              "      <td>0.581046</td>\n",
              "      <td>-0.292975</td>\n",
              "      <td>-0.934005</td>\n",
              "      <td>-0.443002</td>\n",
              "      <td>0.268244</td>\n",
              "      <td>-0.773728</td>\n",
              "      <td>1.207172</td>\n",
              "      <td>-0.10118</td>\n",
              "      <td>0.413476</td>\n",
              "      <td>1.087148</td>\n",
              "      <td>-0.249676</td>\n",
              "      <td>0.781232</td>\n",
              "      <td>1.232388</td>\n",
              "      <td>0.169898</td>\n",
              "      <td>-0.207663</td>\n",
              "      <td>0.986680</td>\n",
              "      <td>-0.924153</td>\n",
              "      <td>0.306987</td>\n",
              "      <td>0.349304</td>\n",
              "      <td>-0.740634</td>\n",
              "      <td>0.199972</td>\n",
              "      <td>-0.359539</td>\n",
              "      <td>-0.103313</td>\n",
              "      <td>-0.285886</td>\n",
              "      <td>-0.063139</td>\n",
              "      <td>-0.089577</td>\n",
              "      <td>1.108098</td>\n",
              "      <td>-0.177185</td>\n",
              "      <td>0.424747</td>\n",
              "      <td>0.022999</td>\n",
              "      <td>0.563921</td>\n",
              "      <td>1.584495</td>\n",
              "      <td>-0.762145</td>\n",
              "      <td>-0.066873</td>\n",
              "      <td>1.154503</td>\n",
              "      <td>0.239178</td>\n",
              "      <td>0.166755</td>\n",
              "      <td>-1.027264</td>\n",
              "    </tr>\n",
              "    <tr>\n",
              "      <th>1</th>\n",
              "      <td>2</td>\n",
              "      <td>RL</td>\n",
              "      <td>Pave</td>\n",
              "      <td>Empty</td>\n",
              "      <td>Reg</td>\n",
              "      <td>Lvl</td>\n",
              "      <td>AllPub</td>\n",
              "      <td>FR2</td>\n",
              "      <td>Gtl</td>\n",
              "      <td>Veenker</td>\n",
              "      <td>Feedr</td>\n",
              "      <td>Norm</td>\n",
              "      <td>1Fam</td>\n",
              "      <td>1Story</td>\n",
              "      <td>Gable</td>\n",
              "      <td>CompShg</td>\n",
              "      <td>MetalSd</td>\n",
              "      <td>MetalSd</td>\n",
              "      <td>None</td>\n",
              "      <td>TA</td>\n",
              "      <td>TA</td>\n",
              "      <td>CBlock</td>\n",
              "      <td>Gd</td>\n",
              "      <td>TA</td>\n",
              "      <td>Gd</td>\n",
              "      <td>ALQ</td>\n",
              "      <td>Unf</td>\n",
              "      <td>GasA</td>\n",
              "      <td>Ex</td>\n",
              "      <td>SBrkr</td>\n",
              "      <td>TA</td>\n",
              "      <td>Typ</td>\n",
              "      <td>TA</td>\n",
              "      <td>Attchd</td>\n",
              "      <td>RFn</td>\n",
              "      <td>TA</td>\n",
              "      <td>TA</td>\n",
              "      <td>Y</td>\n",
              "      <td>Empty</td>\n",
              "      <td>Empty</td>\n",
              "      <td>...</td>\n",
              "      <td>2.187904</td>\n",
              "      <td>-0.566919</td>\n",
              "      <td>1.178053</td>\n",
              "      <td>-0.292975</td>\n",
              "      <td>-0.629176</td>\n",
              "      <td>0.477381</td>\n",
              "      <td>0.268244</td>\n",
              "      <td>0.261030</td>\n",
              "      <td>-0.784891</td>\n",
              "      <td>-0.10118</td>\n",
              "      <td>-0.471810</td>\n",
              "      <td>-0.818789</td>\n",
              "      <td>3.821854</td>\n",
              "      <td>0.781232</td>\n",
              "      <td>-0.756191</td>\n",
              "      <td>0.169898</td>\n",
              "      <td>-0.207663</td>\n",
              "      <td>-0.287709</td>\n",
              "      <td>0.623525</td>\n",
              "      <td>0.306987</td>\n",
              "      <td>-0.058981</td>\n",
              "      <td>1.614603</td>\n",
              "      <td>-0.702722</td>\n",
              "      <td>-0.359539</td>\n",
              "      <td>-0.103313</td>\n",
              "      <td>-0.285886</td>\n",
              "      <td>-0.063139</td>\n",
              "      <td>-0.089577</td>\n",
              "      <td>0.854568</td>\n",
              "      <td>-0.101416</td>\n",
              "      <td>-0.464714</td>\n",
              "      <td>-0.029167</td>\n",
              "      <td>0.332621</td>\n",
              "      <td>0.348157</td>\n",
              "      <td>0.718906</td>\n",
              "      <td>-0.066873</td>\n",
              "      <td>-0.865877</td>\n",
              "      <td>0.239178</td>\n",
              "      <td>0.166755</td>\n",
              "      <td>0.973126</td>\n",
              "    </tr>\n",
              "    <tr>\n",
              "      <th>2</th>\n",
              "      <td>3</td>\n",
              "      <td>RL</td>\n",
              "      <td>Pave</td>\n",
              "      <td>Empty</td>\n",
              "      <td>IR1</td>\n",
              "      <td>Lvl</td>\n",
              "      <td>AllPub</td>\n",
              "      <td>Inside</td>\n",
              "      <td>Gtl</td>\n",
              "      <td>CollgCr</td>\n",
              "      <td>Norm</td>\n",
              "      <td>Norm</td>\n",
              "      <td>1Fam</td>\n",
              "      <td>2Story</td>\n",
              "      <td>Gable</td>\n",
              "      <td>CompShg</td>\n",
              "      <td>VinylSd</td>\n",
              "      <td>VinylSd</td>\n",
              "      <td>BrkFace</td>\n",
              "      <td>Gd</td>\n",
              "      <td>TA</td>\n",
              "      <td>PConc</td>\n",
              "      <td>Gd</td>\n",
              "      <td>TA</td>\n",
              "      <td>Mn</td>\n",
              "      <td>GLQ</td>\n",
              "      <td>Unf</td>\n",
              "      <td>GasA</td>\n",
              "      <td>Ex</td>\n",
              "      <td>SBrkr</td>\n",
              "      <td>Gd</td>\n",
              "      <td>Typ</td>\n",
              "      <td>TA</td>\n",
              "      <td>Attchd</td>\n",
              "      <td>RFn</td>\n",
              "      <td>TA</td>\n",
              "      <td>TA</td>\n",
              "      <td>Y</td>\n",
              "      <td>Empty</td>\n",
              "      <td>Empty</td>\n",
              "      <td>...</td>\n",
              "      <td>-0.507197</td>\n",
              "      <td>0.338845</td>\n",
              "      <td>0.098173</td>\n",
              "      <td>-0.292975</td>\n",
              "      <td>-0.287950</td>\n",
              "      <td>-0.297917</td>\n",
              "      <td>0.268244</td>\n",
              "      <td>-0.610614</td>\n",
              "      <td>1.235163</td>\n",
              "      <td>-0.10118</td>\n",
              "      <td>0.563659</td>\n",
              "      <td>1.087148</td>\n",
              "      <td>-0.249676</td>\n",
              "      <td>0.781232</td>\n",
              "      <td>1.232388</td>\n",
              "      <td>0.169898</td>\n",
              "      <td>-0.207663</td>\n",
              "      <td>-0.287709</td>\n",
              "      <td>0.623525</td>\n",
              "      <td>0.306987</td>\n",
              "      <td>0.627680</td>\n",
              "      <td>-0.740634</td>\n",
              "      <td>-0.081195</td>\n",
              "      <td>-0.359539</td>\n",
              "      <td>-0.103313</td>\n",
              "      <td>-0.285886</td>\n",
              "      <td>-0.063139</td>\n",
              "      <td>-0.089577</td>\n",
              "      <td>1.248948</td>\n",
              "      <td>0.185123</td>\n",
              "      <td>0.575637</td>\n",
              "      <td>0.196886</td>\n",
              "      <td>0.374676</td>\n",
              "      <td>1.584495</td>\n",
              "      <td>-0.880880</td>\n",
              "      <td>-0.066873</td>\n",
              "      <td>1.154503</td>\n",
              "      <td>0.239178</td>\n",
              "      <td>0.166755</td>\n",
              "      <td>0.973126</td>\n",
              "    </tr>\n",
              "    <tr>\n",
              "      <th>3</th>\n",
              "      <td>4</td>\n",
              "      <td>RL</td>\n",
              "      <td>Pave</td>\n",
              "      <td>Empty</td>\n",
              "      <td>IR1</td>\n",
              "      <td>Lvl</td>\n",
              "      <td>AllPub</td>\n",
              "      <td>Corner</td>\n",
              "      <td>Gtl</td>\n",
              "      <td>Crawfor</td>\n",
              "      <td>Norm</td>\n",
              "      <td>Norm</td>\n",
              "      <td>1Fam</td>\n",
              "      <td>2Story</td>\n",
              "      <td>Gable</td>\n",
              "      <td>CompShg</td>\n",
              "      <td>Wd Sdng</td>\n",
              "      <td>Wd Shng</td>\n",
              "      <td>None</td>\n",
              "      <td>TA</td>\n",
              "      <td>TA</td>\n",
              "      <td>BrkTil</td>\n",
              "      <td>TA</td>\n",
              "      <td>Gd</td>\n",
              "      <td>No</td>\n",
              "      <td>ALQ</td>\n",
              "      <td>Unf</td>\n",
              "      <td>GasA</td>\n",
              "      <td>Gd</td>\n",
              "      <td>SBrkr</td>\n",
              "      <td>Gd</td>\n",
              "      <td>Typ</td>\n",
              "      <td>Gd</td>\n",
              "      <td>Detchd</td>\n",
              "      <td>Unf</td>\n",
              "      <td>TA</td>\n",
              "      <td>TA</td>\n",
              "      <td>Y</td>\n",
              "      <td>Empty</td>\n",
              "      <td>Empty</td>\n",
              "      <td>...</td>\n",
              "      <td>-0.507197</td>\n",
              "      <td>-0.566919</td>\n",
              "      <td>-0.494445</td>\n",
              "      <td>-0.292975</td>\n",
              "      <td>-0.046816</td>\n",
              "      <td>-0.669697</td>\n",
              "      <td>0.268244</td>\n",
              "      <td>-0.506118</td>\n",
              "      <td>0.978574</td>\n",
              "      <td>-0.10118</td>\n",
              "      <td>0.427309</td>\n",
              "      <td>1.087148</td>\n",
              "      <td>-0.249676</td>\n",
              "      <td>-1.027187</td>\n",
              "      <td>-0.756191</td>\n",
              "      <td>0.169898</td>\n",
              "      <td>-0.207663</td>\n",
              "      <td>0.349486</td>\n",
              "      <td>0.623525</td>\n",
              "      <td>1.618986</td>\n",
              "      <td>0.785426</td>\n",
              "      <td>-0.740634</td>\n",
              "      <td>-0.184783</td>\n",
              "      <td>3.874303</td>\n",
              "      <td>-0.103313</td>\n",
              "      <td>-0.285886</td>\n",
              "      <td>-0.063139</td>\n",
              "      <td>-0.089577</td>\n",
              "      <td>0.464884</td>\n",
              "      <td>-0.028979</td>\n",
              "      <td>0.438644</td>\n",
              "      <td>-0.092511</td>\n",
              "      <td>-0.070839</td>\n",
              "      <td>-0.270012</td>\n",
              "      <td>0.775149</td>\n",
              "      <td>-0.066873</td>\n",
              "      <td>1.154503</td>\n",
              "      <td>0.239178</td>\n",
              "      <td>0.166755</td>\n",
              "      <td>0.973126</td>\n",
              "    </tr>\n",
              "    <tr>\n",
              "      <th>4</th>\n",
              "      <td>5</td>\n",
              "      <td>RL</td>\n",
              "      <td>Pave</td>\n",
              "      <td>Empty</td>\n",
              "      <td>IR1</td>\n",
              "      <td>Lvl</td>\n",
              "      <td>AllPub</td>\n",
              "      <td>FR2</td>\n",
              "      <td>Gtl</td>\n",
              "      <td>NoRidge</td>\n",
              "      <td>Norm</td>\n",
              "      <td>Norm</td>\n",
              "      <td>1Fam</td>\n",
              "      <td>2Story</td>\n",
              "      <td>Gable</td>\n",
              "      <td>CompShg</td>\n",
              "      <td>VinylSd</td>\n",
              "      <td>VinylSd</td>\n",
              "      <td>BrkFace</td>\n",
              "      <td>Gd</td>\n",
              "      <td>TA</td>\n",
              "      <td>PConc</td>\n",
              "      <td>Gd</td>\n",
              "      <td>TA</td>\n",
              "      <td>Av</td>\n",
              "      <td>GLQ</td>\n",
              "      <td>Unf</td>\n",
              "      <td>GasA</td>\n",
              "      <td>Ex</td>\n",
              "      <td>SBrkr</td>\n",
              "      <td>Gd</td>\n",
              "      <td>Typ</td>\n",
              "      <td>TA</td>\n",
              "      <td>Attchd</td>\n",
              "      <td>RFn</td>\n",
              "      <td>TA</td>\n",
              "      <td>TA</td>\n",
              "      <td>Y</td>\n",
              "      <td>Empty</td>\n",
              "      <td>Empty</td>\n",
              "      <td>...</td>\n",
              "      <td>-0.507197</td>\n",
              "      <td>1.389978</td>\n",
              "      <td>0.469107</td>\n",
              "      <td>-0.292975</td>\n",
              "      <td>-0.160558</td>\n",
              "      <td>0.212148</td>\n",
              "      <td>0.268244</td>\n",
              "      <td>-0.037164</td>\n",
              "      <td>1.671364</td>\n",
              "      <td>-0.10118</td>\n",
              "      <td>1.377806</td>\n",
              "      <td>1.087148</td>\n",
              "      <td>-0.249676</td>\n",
              "      <td>0.781232</td>\n",
              "      <td>1.232388</td>\n",
              "      <td>1.385418</td>\n",
              "      <td>-0.207663</td>\n",
              "      <td>1.623875</td>\n",
              "      <td>0.623525</td>\n",
              "      <td>1.618986</td>\n",
              "      <td>1.685509</td>\n",
              "      <td>0.776834</td>\n",
              "      <td>0.540332</td>\n",
              "      <td>-0.359539</td>\n",
              "      <td>-0.103313</td>\n",
              "      <td>-0.285886</td>\n",
              "      <td>-0.063139</td>\n",
              "      <td>-0.089577</td>\n",
              "      <td>1.497782</td>\n",
              "      <td>0.635539</td>\n",
              "      <td>1.393624</td>\n",
              "      <td>0.988072</td>\n",
              "      <td>1.138228</td>\n",
              "      <td>1.584495</td>\n",
              "      <td>0.581425</td>\n",
              "      <td>-0.066873</td>\n",
              "      <td>1.154503</td>\n",
              "      <td>0.239178</td>\n",
              "      <td>0.166755</td>\n",
              "      <td>0.973126</td>\n",
              "    </tr>\n",
              "  </tbody>\n",
              "</table>\n",
              "<p>5 rows × 93 columns</p>\n",
              "</div>"
            ],
            "text/plain": [
              "   Id MSZoning Street  Alley  ... has2ndfloor hasgarage   hasbsmt hasfireplace\n",
              "0   1       RL   Pave  Empty  ...    1.154503  0.239178  0.166755    -1.027264\n",
              "1   2       RL   Pave  Empty  ...   -0.865877  0.239178  0.166755     0.973126\n",
              "2   3       RL   Pave  Empty  ...    1.154503  0.239178  0.166755     0.973126\n",
              "3   4       RL   Pave  Empty  ...    1.154503  0.239178  0.166755     0.973126\n",
              "4   5       RL   Pave  Empty  ...    1.154503  0.239178  0.166755     0.973126\n",
              "\n",
              "[5 rows x 93 columns]"
            ]
          },
          "metadata": {
            "tags": []
          },
          "execution_count": 63
        }
      ]
    },
    {
      "cell_type": "code",
      "metadata": {
        "id": "p0YxJ5KrM8lk",
        "colab_type": "code",
        "colab": {}
      },
      "source": [
        "# datasets['3.standardized'] = df2"
      ],
      "execution_count": 0,
      "outputs": []
    },
    {
      "cell_type": "code",
      "metadata": {
        "id": "uO-OmBYLM8lr",
        "colab_type": "code",
        "outputId": "f456ccab-9374-4954-b985-cf533d31ce7e",
        "colab": {
          "base_uri": "https://localhost:8080/",
          "height": 34
        }
      },
      "source": [
        "datasets.keys()"
      ],
      "execution_count": 65,
      "outputs": [
        {
          "output_type": "execute_result",
          "data": {
            "text/plain": [
              "dict_keys(['1.original', '0.0_test_original', '2.cleaned + new variables', '3.standardized'])"
            ]
          },
          "metadata": {
            "tags": []
          },
          "execution_count": 65
        }
      ]
    },
    {
      "cell_type": "markdown",
      "metadata": {
        "id": "ctdcCv1tM8ly",
        "colab_type": "text"
      },
      "source": [
        "### Variable Selection"
      ]
    },
    {
      "cell_type": "code",
      "metadata": {
        "id": "rxa7SLOFM8lz",
        "colab_type": "code",
        "outputId": "9450a899-40d7-4674-c6b8-badc21bc5538",
        "colab": {
          "base_uri": "https://localhost:8080/",
          "height": 34
        }
      },
      "source": [
        "# df2.loc[:,df2.dtypes!='object'].shape"
      ],
      "execution_count": 124,
      "outputs": [
        {
          "output_type": "execute_result",
          "data": {
            "text/plain": [
              "(2919, 35)"
            ]
          },
          "metadata": {
            "tags": []
          },
          "execution_count": 124
        }
      ]
    },
    {
      "cell_type": "markdown",
      "metadata": {
        "id": "M4597JlWM8l6",
        "colab_type": "text"
      },
      "source": [
        "#### Filtering numerical variables: Pearson correlation"
      ]
    },
    {
      "cell_type": "code",
      "metadata": {
        "id": "CKAffcF8M8l8",
        "colab_type": "code",
        "colab": {}
      },
      "source": [
        "# selected_numerical = pearson_filtering(df2,'SalePrice',max_pvalue=0.05,min_abs_pearson=0.0)"
      ],
      "execution_count": 0,
      "outputs": []
    },
    {
      "cell_type": "code",
      "metadata": {
        "id": "yG1912RtM8mD",
        "colab_type": "code",
        "outputId": "dcab77e6-59ec-4c5a-c739-5717f107b07e",
        "colab": {
          "base_uri": "https://localhost:8080/",
          "height": 195
        }
      },
      "source": [
        "# selected_numerical.head()"
      ],
      "execution_count": 67,
      "outputs": [
        {
          "output_type": "execute_result",
          "data": {
            "text/html": [
              "<div>\n",
              "<style scoped>\n",
              "    .dataframe tbody tr th:only-of-type {\n",
              "        vertical-align: middle;\n",
              "    }\n",
              "\n",
              "    .dataframe tbody tr th {\n",
              "        vertical-align: top;\n",
              "    }\n",
              "\n",
              "    .dataframe thead th {\n",
              "        text-align: right;\n",
              "    }\n",
              "</style>\n",
              "<table border=\"1\" class=\"dataframe\">\n",
              "  <thead>\n",
              "    <tr style=\"text-align: right;\">\n",
              "      <th></th>\n",
              "      <th>Corr_Coef</th>\n",
              "      <th>P-value</th>\n",
              "    </tr>\n",
              "  </thead>\n",
              "  <tbody>\n",
              "    <tr>\n",
              "      <th>Id</th>\n",
              "      <td>-0.739838</td>\n",
              "      <td>0.000000e+00</td>\n",
              "    </tr>\n",
              "    <tr>\n",
              "      <th>TotalSF</th>\n",
              "      <td>0.318439</td>\n",
              "      <td>8.694537e-70</td>\n",
              "    </tr>\n",
              "    <tr>\n",
              "      <th>TotalLivingArea</th>\n",
              "      <td>0.299542</td>\n",
              "      <td>1.395091e-61</td>\n",
              "    </tr>\n",
              "    <tr>\n",
              "      <th>GrLivArea</th>\n",
              "      <td>0.299150</td>\n",
              "      <td>2.034098e-61</td>\n",
              "    </tr>\n",
              "    <tr>\n",
              "      <th>OverallQual</th>\n",
              "      <td>0.295558</td>\n",
              "      <td>6.277394e-60</td>\n",
              "    </tr>\n",
              "  </tbody>\n",
              "</table>\n",
              "</div>"
            ],
            "text/plain": [
              "                 Corr_Coef       P-value\n",
              "Id               -0.739838  0.000000e+00\n",
              "TotalSF           0.318439  8.694537e-70\n",
              "TotalLivingArea   0.299542  1.395091e-61\n",
              "GrLivArea         0.299150  2.034098e-61\n",
              "OverallQual       0.295558  6.277394e-60"
            ]
          },
          "metadata": {
            "tags": []
          },
          "execution_count": 67
        }
      ]
    },
    {
      "cell_type": "code",
      "metadata": {
        "id": "57WNp9kiM8mK",
        "colab_type": "code",
        "outputId": "bfe232d4-57b7-4fab-cc01-440e2e774ed5",
        "colab": {
          "base_uri": "https://localhost:8080/",
          "height": 215
        }
      },
      "source": [
        "# #Check correlation\n",
        "# a = pd.DataFrame(data=selected_numerical.index)\n",
        "# b = pd.DataFrame([['SalePrice']],columns=a.columns)\n",
        "# correlation = df2[a.append(b).iloc[:,0]].corr()\n",
        "# correlation.head()"
      ],
      "execution_count": 68,
      "outputs": [
        {
          "output_type": "execute_result",
          "data": {
            "text/html": [
              "<div>\n",
              "<style scoped>\n",
              "    .dataframe tbody tr th:only-of-type {\n",
              "        vertical-align: middle;\n",
              "    }\n",
              "\n",
              "    .dataframe tbody tr th {\n",
              "        vertical-align: top;\n",
              "    }\n",
              "\n",
              "    .dataframe thead th {\n",
              "        text-align: right;\n",
              "    }\n",
              "</style>\n",
              "<table border=\"1\" class=\"dataframe\">\n",
              "  <thead>\n",
              "    <tr style=\"text-align: right;\">\n",
              "      <th></th>\n",
              "      <th>Id</th>\n",
              "      <th>TotalSF</th>\n",
              "      <th>TotalLivingArea</th>\n",
              "      <th>GrLivArea</th>\n",
              "      <th>OverallQual</th>\n",
              "      <th>Total_sqr_footage</th>\n",
              "      <th>TotRmsAbvGrd</th>\n",
              "      <th>TotalBsmtSF</th>\n",
              "      <th>GarageCars</th>\n",
              "      <th>GarageArea</th>\n",
              "      <th>1stFlrSF</th>\n",
              "      <th>Total_Bathrooms</th>\n",
              "      <th>FullBath</th>\n",
              "      <th>hasfireplace</th>\n",
              "      <th>Fireplaces</th>\n",
              "      <th>MasVnrArea</th>\n",
              "      <th>TotalArea</th>\n",
              "      <th>LotArea</th>\n",
              "      <th>BsmtFinSF1</th>\n",
              "      <th>2ndFlrSF</th>\n",
              "      <th>Total_porch_sf</th>\n",
              "      <th>WoodDeckSF</th>\n",
              "      <th>HalfBath</th>\n",
              "      <th>OpenPorchSF</th>\n",
              "      <th>CentralAir</th>\n",
              "      <th>BsmtUnfSF</th>\n",
              "      <th>hasgarage</th>\n",
              "      <th>LotFrontage</th>\n",
              "      <th>BsmtFullBath</th>\n",
              "      <th>BedroomAbvGr</th>\n",
              "      <th>hasbsmt</th>\n",
              "      <th>EnclosedPorch</th>\n",
              "      <th>has2ndfloor</th>\n",
              "      <th>PoolArea</th>\n",
              "      <th>3SsnPorch</th>\n",
              "      <th>KitchenAbvGr</th>\n",
              "      <th>haspool</th>\n",
              "      <th>SalePrice</th>\n",
              "    </tr>\n",
              "  </thead>\n",
              "  <tbody>\n",
              "    <tr>\n",
              "      <th>Id</th>\n",
              "      <td>1.000000</td>\n",
              "      <td>-0.030070</td>\n",
              "      <td>-0.025700</td>\n",
              "      <td>-0.029046</td>\n",
              "      <td>-0.029771</td>\n",
              "      <td>-0.023272</td>\n",
              "      <td>-0.029368</td>\n",
              "      <td>-0.025538</td>\n",
              "      <td>-0.011249</td>\n",
              "      <td>-0.009851</td>\n",
              "      <td>-0.008678</td>\n",
              "      <td>-0.010225</td>\n",
              "      <td>-0.009946</td>\n",
              "      <td>-0.036975</td>\n",
              "      <td>-0.035236</td>\n",
              "      <td>-0.026737</td>\n",
              "      <td>-0.041670</td>\n",
              "      <td>-0.040746</td>\n",
              "      <td>-0.017203</td>\n",
              "      <td>-0.022252</td>\n",
              "      <td>0.007774</td>\n",
              "      <td>-0.007056</td>\n",
              "      <td>-0.015358</td>\n",
              "      <td>0.009960</td>\n",
              "      <td>-0.014043</td>\n",
              "      <td>-0.014790</td>\n",
              "      <td>0.003071</td>\n",
              "      <td>0.001435</td>\n",
              "      <td>-0.000318</td>\n",
              "      <td>0.003074</td>\n",
              "      <td>-0.016235</td>\n",
              "      <td>0.021609</td>\n",
              "      <td>-0.004165</td>\n",
              "      <td>0.014332</td>\n",
              "      <td>-0.046538</td>\n",
              "      <td>-0.011702</td>\n",
              "      <td>0.020015</td>\n",
              "      <td>-0.739838</td>\n",
              "    </tr>\n",
              "    <tr>\n",
              "      <th>TotalSF</th>\n",
              "      <td>-0.030070</td>\n",
              "      <td>1.000000</td>\n",
              "      <td>0.872117</td>\n",
              "      <td>0.867157</td>\n",
              "      <td>0.665490</td>\n",
              "      <td>0.843881</td>\n",
              "      <td>0.657261</td>\n",
              "      <td>0.829380</td>\n",
              "      <td>0.551298</td>\n",
              "      <td>0.574006</td>\n",
              "      <td>0.793379</td>\n",
              "      <td>0.608814</td>\n",
              "      <td>0.576157</td>\n",
              "      <td>0.448329</td>\n",
              "      <td>0.471757</td>\n",
              "      <td>0.470492</td>\n",
              "      <td>0.379592</td>\n",
              "      <td>0.318138</td>\n",
              "      <td>0.431067</td>\n",
              "      <td>0.298512</td>\n",
              "      <td>0.390177</td>\n",
              "      <td>0.284668</td>\n",
              "      <td>0.244623</td>\n",
              "      <td>0.349634</td>\n",
              "      <td>0.199900</td>\n",
              "      <td>0.370793</td>\n",
              "      <td>0.166282</td>\n",
              "      <td>0.228335</td>\n",
              "      <td>0.218755</td>\n",
              "      <td>0.350625</td>\n",
              "      <td>0.254038</td>\n",
              "      <td>-0.049610</td>\n",
              "      <td>0.116011</td>\n",
              "      <td>0.122659</td>\n",
              "      <td>0.024988</td>\n",
              "      <td>0.052598</td>\n",
              "      <td>0.136396</td>\n",
              "      <td>0.318439</td>\n",
              "    </tr>\n",
              "    <tr>\n",
              "      <th>TotalLivingArea</th>\n",
              "      <td>-0.025700</td>\n",
              "      <td>0.872117</td>\n",
              "      <td>1.000000</td>\n",
              "      <td>0.995788</td>\n",
              "      <td>0.582296</td>\n",
              "      <td>0.789232</td>\n",
              "      <td>0.802765</td>\n",
              "      <td>0.449954</td>\n",
              "      <td>0.497429</td>\n",
              "      <td>0.491754</td>\n",
              "      <td>0.566361</td>\n",
              "      <td>0.604598</td>\n",
              "      <td>0.633523</td>\n",
              "      <td>0.446001</td>\n",
              "      <td>0.462164</td>\n",
              "      <td>0.407260</td>\n",
              "      <td>0.354018</td>\n",
              "      <td>0.285809</td>\n",
              "      <td>0.219058</td>\n",
              "      <td>0.656534</td>\n",
              "      <td>0.375010</td>\n",
              "      <td>0.253639</td>\n",
              "      <td>0.439232</td>\n",
              "      <td>0.343583</td>\n",
              "      <td>0.127950</td>\n",
              "      <td>0.231169</td>\n",
              "      <td>0.138766</td>\n",
              "      <td>0.184784</td>\n",
              "      <td>0.063945</td>\n",
              "      <td>0.513014</td>\n",
              "      <td>0.057858</td>\n",
              "      <td>-0.004744</td>\n",
              "      <td>0.472114</td>\n",
              "      <td>0.132839</td>\n",
              "      <td>0.006716</td>\n",
              "      <td>0.118015</td>\n",
              "      <td>0.144525</td>\n",
              "      <td>0.299542</td>\n",
              "    </tr>\n",
              "    <tr>\n",
              "      <th>GrLivArea</th>\n",
              "      <td>-0.029046</td>\n",
              "      <td>0.867157</td>\n",
              "      <td>0.995788</td>\n",
              "      <td>1.000000</td>\n",
              "      <td>0.575126</td>\n",
              "      <td>0.782124</td>\n",
              "      <td>0.808354</td>\n",
              "      <td>0.445710</td>\n",
              "      <td>0.488933</td>\n",
              "      <td>0.484547</td>\n",
              "      <td>0.562538</td>\n",
              "      <td>0.597469</td>\n",
              "      <td>0.630286</td>\n",
              "      <td>0.443361</td>\n",
              "      <td>0.459386</td>\n",
              "      <td>0.400088</td>\n",
              "      <td>0.352845</td>\n",
              "      <td>0.284519</td>\n",
              "      <td>0.211980</td>\n",
              "      <td>0.655085</td>\n",
              "      <td>0.375455</td>\n",
              "      <td>0.251017</td>\n",
              "      <td>0.433548</td>\n",
              "      <td>0.341907</td>\n",
              "      <td>0.123901</td>\n",
              "      <td>0.234388</td>\n",
              "      <td>0.130193</td>\n",
              "      <td>0.185659</td>\n",
              "      <td>0.059333</td>\n",
              "      <td>0.517058</td>\n",
              "      <td>0.058058</td>\n",
              "      <td>0.003274</td>\n",
              "      <td>0.469779</td>\n",
              "      <td>0.135441</td>\n",
              "      <td>0.006268</td>\n",
              "      <td>0.117502</td>\n",
              "      <td>0.147212</td>\n",
              "      <td>0.299150</td>\n",
              "    </tr>\n",
              "    <tr>\n",
              "      <th>OverallQual</th>\n",
              "      <td>-0.029771</td>\n",
              "      <td>0.665490</td>\n",
              "      <td>0.582296</td>\n",
              "      <td>0.575126</td>\n",
              "      <td>1.000000</td>\n",
              "      <td>0.544908</td>\n",
              "      <td>0.389761</td>\n",
              "      <td>0.549763</td>\n",
              "      <td>0.600743</td>\n",
              "      <td>0.565179</td>\n",
              "      <td>0.479152</td>\n",
              "      <td>0.546981</td>\n",
              "      <td>0.528483</td>\n",
              "      <td>0.435395</td>\n",
              "      <td>0.390753</td>\n",
              "      <td>0.426528</td>\n",
              "      <td>0.148936</td>\n",
              "      <td>0.100541</td>\n",
              "      <td>0.282150</td>\n",
              "      <td>0.245596</td>\n",
              "      <td>0.289857</td>\n",
              "      <td>0.255317</td>\n",
              "      <td>0.272668</td>\n",
              "      <td>0.298084</td>\n",
              "      <td>0.286890</td>\n",
              "      <td>0.275643</td>\n",
              "      <td>0.249250</td>\n",
              "      <td>0.132635</td>\n",
              "      <td>0.165060</td>\n",
              "      <td>0.073075</td>\n",
              "      <td>0.221701</td>\n",
              "      <td>-0.139256</td>\n",
              "      <td>0.125013</td>\n",
              "      <td>0.030740</td>\n",
              "      <td>0.018715</td>\n",
              "      <td>-0.159325</td>\n",
              "      <td>0.043219</td>\n",
              "      <td>0.295558</td>\n",
              "    </tr>\n",
              "  </tbody>\n",
              "</table>\n",
              "</div>"
            ],
            "text/plain": [
              "                       Id   TotalSF  ...   haspool  SalePrice\n",
              "Id               1.000000 -0.030070  ...  0.020015  -0.739838\n",
              "TotalSF         -0.030070  1.000000  ...  0.136396   0.318439\n",
              "TotalLivingArea -0.025700  0.872117  ...  0.144525   0.299542\n",
              "GrLivArea       -0.029046  0.867157  ...  0.147212   0.299150\n",
              "OverallQual     -0.029771  0.665490  ...  0.043219   0.295558\n",
              "\n",
              "[5 rows x 38 columns]"
            ]
          },
          "metadata": {
            "tags": []
          },
          "execution_count": 68
        }
      ]
    },
    {
      "cell_type": "markdown",
      "metadata": {
        "id": "bBnOhX57M8mV",
        "colab_type": "text"
      },
      "source": [
        "#### Filtering categorical variables: one hot encoding + Pearson correlation"
      ]
    },
    {
      "cell_type": "code",
      "metadata": {
        "id": "Gnohg1u2M8mW",
        "colab_type": "code",
        "colab": {}
      },
      "source": [
        "selected_categorical = df2.loc[:,df2.dtypes == 'object']\n",
        "#selected_categorical = pd.concat([selected_categorical,df2['SalePrice']],axis=1)"
      ],
      "execution_count": 0,
      "outputs": []
    },
    {
      "cell_type": "code",
      "metadata": {
        "id": "zVgfs_FyM8mf",
        "colab_type": "code",
        "colab": {}
      },
      "source": [
        "dummies = pd.get_dummies(selected_categorical.iloc[:,:],drop_first=True)"
      ],
      "execution_count": 0,
      "outputs": []
    },
    {
      "cell_type": "code",
      "metadata": {
        "id": "TVJK6ldhM8mx",
        "colab_type": "code",
        "colab": {}
      },
      "source": [
        "dummies = pd.concat([dummies,df2['SalePrice']],axis=1)"
      ],
      "execution_count": 0,
      "outputs": []
    },
    {
      "cell_type": "code",
      "metadata": {
        "id": "8q6mQwJeM8m8",
        "colab_type": "code",
        "outputId": "751bb729-04bc-4e3a-9812-ec4f24cc85a6",
        "colab": {
          "base_uri": "https://localhost:8080/",
          "height": 402
        }
      },
      "source": [
        "selected_categorical = pearson_filtering(dummies,'SalePrice',max_pvalue=0.05,min_abs_pearson=0.0)\n",
        "selected_categorical"
      ],
      "execution_count": 72,
      "outputs": [
        {
          "output_type": "execute_result",
          "data": {
            "text/html": [
              "<div>\n",
              "<style scoped>\n",
              "    .dataframe tbody tr th:only-of-type {\n",
              "        vertical-align: middle;\n",
              "    }\n",
              "\n",
              "    .dataframe tbody tr th {\n",
              "        vertical-align: top;\n",
              "    }\n",
              "\n",
              "    .dataframe thead th {\n",
              "        text-align: right;\n",
              "    }\n",
              "</style>\n",
              "<table border=\"1\" class=\"dataframe\">\n",
              "  <thead>\n",
              "    <tr style=\"text-align: right;\">\n",
              "      <th></th>\n",
              "      <th>Corr_Coef</th>\n",
              "      <th>P-value</th>\n",
              "    </tr>\n",
              "  </thead>\n",
              "  <tbody>\n",
              "    <tr>\n",
              "      <th>ExterQual_TA</th>\n",
              "      <td>-0.211227</td>\n",
              "      <td>8.521787e-31</td>\n",
              "    </tr>\n",
              "    <tr>\n",
              "      <th>KitchenQual_TA</th>\n",
              "      <td>-0.206872</td>\n",
              "      <td>1.397670e-29</td>\n",
              "    </tr>\n",
              "    <tr>\n",
              "      <th>BsmtQual_Ex</th>\n",
              "      <td>0.183906</td>\n",
              "      <td>1.279215e-23</td>\n",
              "    </tr>\n",
              "    <tr>\n",
              "      <th>KitchenQual_Ex</th>\n",
              "      <td>0.180109</td>\n",
              "      <td>1.050043e-22</td>\n",
              "    </tr>\n",
              "    <tr>\n",
              "      <th>Foundation_PConc</th>\n",
              "      <td>0.177020</td>\n",
              "      <td>5.630075e-22</td>\n",
              "    </tr>\n",
              "    <tr>\n",
              "      <th>...</th>\n",
              "      <td>...</td>\n",
              "      <td>...</td>\n",
              "    </tr>\n",
              "    <tr>\n",
              "      <th>PavedDrive_P</th>\n",
              "      <td>-0.036609</td>\n",
              "      <td>4.796165e-02</td>\n",
              "    </tr>\n",
              "    <tr>\n",
              "      <th>YrBltAndRemod_19861987</th>\n",
              "      <td>0.036599</td>\n",
              "      <td>4.802300e-02</td>\n",
              "    </tr>\n",
              "    <tr>\n",
              "      <th>YrBltAndRemod_19761996</th>\n",
              "      <td>0.036390</td>\n",
              "      <td>4.931172e-02</td>\n",
              "    </tr>\n",
              "    <tr>\n",
              "      <th>BldgType_2fmCon</th>\n",
              "      <td>-0.036352</td>\n",
              "      <td>4.954915e-02</td>\n",
              "    </tr>\n",
              "    <tr>\n",
              "      <th>MSSubClass_75</th>\n",
              "      <td>0.036306</td>\n",
              "      <td>4.984211e-02</td>\n",
              "    </tr>\n",
              "  </tbody>\n",
              "</table>\n",
              "<p>197 rows × 2 columns</p>\n",
              "</div>"
            ],
            "text/plain": [
              "                        Corr_Coef       P-value\n",
              "ExterQual_TA            -0.211227  8.521787e-31\n",
              "KitchenQual_TA          -0.206872  1.397670e-29\n",
              "BsmtQual_Ex              0.183906  1.279215e-23\n",
              "KitchenQual_Ex           0.180109  1.050043e-22\n",
              "Foundation_PConc         0.177020  5.630075e-22\n",
              "...                           ...           ...\n",
              "PavedDrive_P            -0.036609  4.796165e-02\n",
              "YrBltAndRemod_19861987   0.036599  4.802300e-02\n",
              "YrBltAndRemod_19761996   0.036390  4.931172e-02\n",
              "BldgType_2fmCon         -0.036352  4.954915e-02\n",
              "MSSubClass_75            0.036306  4.984211e-02\n",
              "\n",
              "[197 rows x 2 columns]"
            ]
          },
          "metadata": {
            "tags": []
          },
          "execution_count": 72
        }
      ]
    },
    {
      "cell_type": "markdown",
      "metadata": {
        "id": "88WwLfG4M8nF",
        "colab_type": "text"
      },
      "source": [
        "#### Filtering categorical variables: one hot encoding + linear regression coeficient´s significance"
      ]
    },
    {
      "cell_type": "code",
      "metadata": {
        "id": "AssEIFVjM8nH",
        "colab_type": "code",
        "colab": {}
      },
      "source": [
        "# Discarded because the coefficients depend on the amount of variables selected for the regression. It was not clear \n",
        "# whether it was correct to iteratively consider one variable at a time"
      ],
      "execution_count": 0,
      "outputs": []
    },
    {
      "cell_type": "code",
      "metadata": {
        "id": "lBr6xwk6M8nN",
        "colab_type": "code",
        "colab": {}
      },
      "source": [
        "#selected_categorical = df2.loc[:,df2.dtypes == 'object']\n",
        "#dummies = pd.get_dummies(selected_categorical.iloc[:,:],drop_first=True)\n",
        "#X2 = sm.add_constant(dummies)\n",
        "#est = sm.OLS(df2['SalePrice'], X2)\n",
        "#est2 = est.fit()\n",
        "#results_as_html = est2.summary().tables[1].as_html()\n",
        "\n",
        "#lm_results = pd.read_html(results_as_html, header=0, index_col=0)[0]\n",
        "#lm_results\n",
        "#lm_results.sort_values('P>|t|',ascending=True)"
      ],
      "execution_count": 0,
      "outputs": []
    },
    {
      "cell_type": "markdown",
      "metadata": {
        "id": "QQVwPPlBM8nV",
        "colab_type": "text"
      },
      "source": [
        "#### Filtering categorical variables: Kendall’s tau correlation"
      ]
    },
    {
      "cell_type": "code",
      "metadata": {
        "id": "jvqr7z57M8nX",
        "colab_type": "code",
        "colab": {}
      },
      "source": [
        "# Kendall´s correlation is discarded: because Kendall´s tau is designed for \"ordinal association\", \n",
        "# which is not the case here for categorical variables and also because it doesn´t measure the \"magnitude\" or \"strength\" of\n",
        "# the association between the variables, but just whether they are in the same order or not."
      ],
      "execution_count": 0,
      "outputs": []
    },
    {
      "cell_type": "code",
      "metadata": {
        "id": "PQsdf5poM8nm",
        "colab_type": "code",
        "colab": {}
      },
      "source": [
        "#selected_categorical = df2.loc[:,df2.dtypes == 'object']\n",
        "#selected_categorical = pd.concat([selected_categorical,df2['SalePrice']],axis=1)\n",
        "\n",
        "# Null hypothesis for Kendall Tau test is absence of association\n",
        "#kendall_corr = pd.DataFrame(index=selected_categorical.columns,columns=['kendall_corr','p-value'])\n",
        "#j = 0\n",
        "#for i in selected_categorical:\n",
        "#    result = kendalltau(selected_categorical.loc[:,i],df2['SalePrice'])\n",
        "#    kendall_corr.iloc[j,0] = result.correlation\n",
        "#    kendall_corr.iloc[j,1] = result.pvalue\n",
        "#    j+=1\n",
        "#kendall_corr[kendall_corr['p-value']<0.05].sort_values('kendall_corr',ascending=False)"
      ],
      "execution_count": 0,
      "outputs": []
    },
    {
      "cell_type": "markdown",
      "metadata": {
        "id": "bkrnSiGKM8nt",
        "colab_type": "text"
      },
      "source": [
        "#### Filtering categorical variables: ANOVA"
      ]
    },
    {
      "cell_type": "code",
      "metadata": {
        "id": "7qkO53d2M8nu",
        "colab_type": "code",
        "colab": {}
      },
      "source": [
        "# ANOVA is discarded: the assumption of the distribution of the error is not met."
      ],
      "execution_count": 0,
      "outputs": []
    },
    {
      "cell_type": "code",
      "metadata": {
        "id": "gnGaTOHIM8nz",
        "colab_type": "code",
        "colab": {}
      },
      "source": [
        "#selected_categorical = df1.loc[:,df2.dtypes=='object']\n",
        "#selected_categorical = pd.concat([selected_categorical,df2['SalePrice']],axis=1)\n",
        "\n",
        "#mod = ols('SalePrice ~ LotShape',data=selected_categorical).fit()\n",
        "\n",
        "##To test normality of errors execute the following:\n",
        "##import scipy.stats as stats\n",
        "##stats.shapiro(mod.resid)\n",
        "\n",
        "#aov_table = sm.stats.anova_lm(mod, typ=2)\n",
        "#print(aov_table)\n",
        "\n",
        "# Post hoc test\n",
        "#mc = MultiComparison(df2['SalePrice'], df['LotShape'])\n",
        "#mc_results = mc.tukeyhsd()\n",
        "#print(mc_results)"
      ],
      "execution_count": 0,
      "outputs": []
    },
    {
      "cell_type": "markdown",
      "metadata": {
        "id": "hce-B3QkM8n5",
        "colab_type": "text"
      },
      "source": [
        "### Correlation and Integration"
      ]
    },
    {
      "cell_type": "code",
      "metadata": {
        "id": "qXOo2HPfM8n6",
        "colab_type": "code",
        "outputId": "eb519288-1940-4119-ae7b-0b556828a420",
        "colab": {
          "base_uri": "https://localhost:8080/",
          "height": 34
        }
      },
      "source": [
        "# # Join selected variables\n",
        "\n",
        "# #Generate list of unique original variable names\n",
        "# a = list(set([i.split('_')[0] for i in selected_categorical.index]))\n",
        "\n",
        "# b = [i for i in selected_numerical.index]\n",
        "# c = ['SalePrice']\n",
        "# total_selected = a+b+c\n",
        "# len(total_selected)"
      ],
      "execution_count": 79,
      "outputs": [
        {
          "output_type": "execute_result",
          "data": {
            "text/plain": [
              "81"
            ]
          },
          "metadata": {
            "tags": []
          },
          "execution_count": 79
        }
      ]
    },
    {
      "cell_type": "code",
      "metadata": {
        "id": "mQw_CXbPM8n_",
        "colab_type": "code",
        "outputId": "fc1ace52-7067-47a6-d8eb-1a9329b5a151",
        "colab": {
          "base_uri": "https://localhost:8080/",
          "height": 34
        }
      },
      "source": [
        "datasets.keys()"
      ],
      "execution_count": 80,
      "outputs": [
        {
          "output_type": "execute_result",
          "data": {
            "text/plain": [
              "dict_keys(['1.original', '0.0_test_original', '2.cleaned + new variables', '3.standardized'])"
            ]
          },
          "metadata": {
            "tags": []
          },
          "execution_count": 80
        }
      ]
    },
    {
      "cell_type": "code",
      "metadata": {
        "id": "8gHhGInGM8oH",
        "colab_type": "code",
        "outputId": "6b882421-017f-4181-c34e-cd4d1b5e8269",
        "colab": {
          "base_uri": "https://localhost:8080/",
          "height": 244
        }
      },
      "source": [
        "# a = pd.concat([datasets['3.standardized'][total_selected],df2['Id']],axis=1).reset_index(drop=True)\n",
        "# df3 = pd.get_dummies(a,drop_first=True)\n",
        "# df3.head()"
      ],
      "execution_count": 81,
      "outputs": [
        {
          "output_type": "execute_result",
          "data": {
            "text/html": [
              "<div>\n",
              "<style scoped>\n",
              "    .dataframe tbody tr th:only-of-type {\n",
              "        vertical-align: middle;\n",
              "    }\n",
              "\n",
              "    .dataframe tbody tr th {\n",
              "        vertical-align: top;\n",
              "    }\n",
              "\n",
              "    .dataframe thead th {\n",
              "        text-align: right;\n",
              "    }\n",
              "</style>\n",
              "<table border=\"1\" class=\"dataframe\">\n",
              "  <thead>\n",
              "    <tr style=\"text-align: right;\">\n",
              "      <th></th>\n",
              "      <th>Id</th>\n",
              "      <th>TotalSF</th>\n",
              "      <th>TotalLivingArea</th>\n",
              "      <th>GrLivArea</th>\n",
              "      <th>OverallQual</th>\n",
              "      <th>Total_sqr_footage</th>\n",
              "      <th>TotRmsAbvGrd</th>\n",
              "      <th>TotalBsmtSF</th>\n",
              "      <th>GarageCars</th>\n",
              "      <th>GarageArea</th>\n",
              "      <th>1stFlrSF</th>\n",
              "      <th>Total_Bathrooms</th>\n",
              "      <th>FullBath</th>\n",
              "      <th>hasfireplace</th>\n",
              "      <th>Fireplaces</th>\n",
              "      <th>MasVnrArea</th>\n",
              "      <th>TotalArea</th>\n",
              "      <th>LotArea</th>\n",
              "      <th>BsmtFinSF1</th>\n",
              "      <th>2ndFlrSF</th>\n",
              "      <th>Total_porch_sf</th>\n",
              "      <th>WoodDeckSF</th>\n",
              "      <th>HalfBath</th>\n",
              "      <th>OpenPorchSF</th>\n",
              "      <th>CentralAir</th>\n",
              "      <th>BsmtUnfSF</th>\n",
              "      <th>hasgarage</th>\n",
              "      <th>LotFrontage</th>\n",
              "      <th>BsmtFullBath</th>\n",
              "      <th>BedroomAbvGr</th>\n",
              "      <th>hasbsmt</th>\n",
              "      <th>EnclosedPorch</th>\n",
              "      <th>has2ndfloor</th>\n",
              "      <th>PoolArea</th>\n",
              "      <th>3SsnPorch</th>\n",
              "      <th>KitchenAbvGr</th>\n",
              "      <th>haspool</th>\n",
              "      <th>SalePrice</th>\n",
              "      <th>Id</th>\n",
              "      <th>Exterior1st_AsphShn</th>\n",
              "      <th>...</th>\n",
              "      <th>LotShape_Reg</th>\n",
              "      <th>Alley_Grvl</th>\n",
              "      <th>Alley_Pave</th>\n",
              "      <th>FireplaceQu_Ex</th>\n",
              "      <th>FireplaceQu_Fa</th>\n",
              "      <th>FireplaceQu_Gd</th>\n",
              "      <th>FireplaceQu_Po</th>\n",
              "      <th>FireplaceQu_TA</th>\n",
              "      <th>MasVnrType_BrkFace</th>\n",
              "      <th>MasVnrType_Empty</th>\n",
              "      <th>MasVnrType_None</th>\n",
              "      <th>MasVnrType_Stone</th>\n",
              "      <th>Condition1_Feedr</th>\n",
              "      <th>Condition1_Norm</th>\n",
              "      <th>Condition1_PosA</th>\n",
              "      <th>Condition1_PosN</th>\n",
              "      <th>Condition1_RRAe</th>\n",
              "      <th>Condition1_RRAn</th>\n",
              "      <th>Condition1_RRNe</th>\n",
              "      <th>Condition1_RRNn</th>\n",
              "      <th>RoofStyle_Gable</th>\n",
              "      <th>RoofStyle_Gambrel</th>\n",
              "      <th>RoofStyle_Hip</th>\n",
              "      <th>RoofStyle_Mansard</th>\n",
              "      <th>RoofStyle_Shed</th>\n",
              "      <th>BsmtQual_Ex</th>\n",
              "      <th>BsmtQual_Fa</th>\n",
              "      <th>BsmtQual_Gd</th>\n",
              "      <th>BsmtQual_TA</th>\n",
              "      <th>PavedDrive_P</th>\n",
              "      <th>PavedDrive_Y</th>\n",
              "      <th>SaleType_CWD</th>\n",
              "      <th>SaleType_Con</th>\n",
              "      <th>SaleType_ConLD</th>\n",
              "      <th>SaleType_ConLI</th>\n",
              "      <th>SaleType_ConLw</th>\n",
              "      <th>SaleType_Empty</th>\n",
              "      <th>SaleType_New</th>\n",
              "      <th>SaleType_Oth</th>\n",
              "      <th>SaleType_WD</th>\n",
              "    </tr>\n",
              "  </thead>\n",
              "  <tbody>\n",
              "    <tr>\n",
              "      <th>0</th>\n",
              "      <td>1</td>\n",
              "      <td>0.022999</td>\n",
              "      <td>0.424747</td>\n",
              "      <td>0.413476</td>\n",
              "      <td>0.646073</td>\n",
              "      <td>0.563921</td>\n",
              "      <td>0.986680</td>\n",
              "      <td>-0.443002</td>\n",
              "      <td>0.306987</td>\n",
              "      <td>0.349304</td>\n",
              "      <td>-0.773728</td>\n",
              "      <td>1.584495</td>\n",
              "      <td>0.781232</td>\n",
              "      <td>-1.027264</td>\n",
              "      <td>-0.924153</td>\n",
              "      <td>0.528944</td>\n",
              "      <td>-0.177185</td>\n",
              "      <td>-0.217841</td>\n",
              "      <td>0.581046</td>\n",
              "      <td>1.207172</td>\n",
              "      <td>-0.762145</td>\n",
              "      <td>-0.740634</td>\n",
              "      <td>1.232388</td>\n",
              "      <td>0.199972</td>\n",
              "      <td>0.268244</td>\n",
              "      <td>-0.934005</td>\n",
              "      <td>0.239178</td>\n",
              "      <td>0.216038</td>\n",
              "      <td>1.087148</td>\n",
              "      <td>0.169898</td>\n",
              "      <td>0.166755</td>\n",
              "      <td>-0.359539</td>\n",
              "      <td>1.154503</td>\n",
              "      <td>-0.063139</td>\n",
              "      <td>-0.103313</td>\n",
              "      <td>-0.207663</td>\n",
              "      <td>-0.066873</td>\n",
              "      <td>1.108098</td>\n",
              "      <td>1</td>\n",
              "      <td>0</td>\n",
              "      <td>...</td>\n",
              "      <td>1</td>\n",
              "      <td>0</td>\n",
              "      <td>0</td>\n",
              "      <td>0</td>\n",
              "      <td>0</td>\n",
              "      <td>0</td>\n",
              "      <td>0</td>\n",
              "      <td>0</td>\n",
              "      <td>1</td>\n",
              "      <td>0</td>\n",
              "      <td>0</td>\n",
              "      <td>0</td>\n",
              "      <td>0</td>\n",
              "      <td>1</td>\n",
              "      <td>0</td>\n",
              "      <td>0</td>\n",
              "      <td>0</td>\n",
              "      <td>0</td>\n",
              "      <td>0</td>\n",
              "      <td>0</td>\n",
              "      <td>1</td>\n",
              "      <td>0</td>\n",
              "      <td>0</td>\n",
              "      <td>0</td>\n",
              "      <td>0</td>\n",
              "      <td>0</td>\n",
              "      <td>0</td>\n",
              "      <td>1</td>\n",
              "      <td>0</td>\n",
              "      <td>0</td>\n",
              "      <td>1</td>\n",
              "      <td>0</td>\n",
              "      <td>0</td>\n",
              "      <td>0</td>\n",
              "      <td>0</td>\n",
              "      <td>0</td>\n",
              "      <td>0</td>\n",
              "      <td>0</td>\n",
              "      <td>0</td>\n",
              "      <td>1</td>\n",
              "    </tr>\n",
              "    <tr>\n",
              "      <th>1</th>\n",
              "      <td>2</td>\n",
              "      <td>-0.029167</td>\n",
              "      <td>-0.464714</td>\n",
              "      <td>-0.471810</td>\n",
              "      <td>-0.063174</td>\n",
              "      <td>0.332621</td>\n",
              "      <td>-0.287709</td>\n",
              "      <td>0.477381</td>\n",
              "      <td>0.306987</td>\n",
              "      <td>-0.058981</td>\n",
              "      <td>0.261030</td>\n",
              "      <td>0.348157</td>\n",
              "      <td>0.781232</td>\n",
              "      <td>0.973126</td>\n",
              "      <td>0.623525</td>\n",
              "      <td>-0.566919</td>\n",
              "      <td>-0.101416</td>\n",
              "      <td>-0.072032</td>\n",
              "      <td>1.178053</td>\n",
              "      <td>-0.784891</td>\n",
              "      <td>0.718906</td>\n",
              "      <td>1.614603</td>\n",
              "      <td>-0.756191</td>\n",
              "      <td>-0.702722</td>\n",
              "      <td>0.268244</td>\n",
              "      <td>-0.629176</td>\n",
              "      <td>0.239178</td>\n",
              "      <td>0.664045</td>\n",
              "      <td>-0.818789</td>\n",
              "      <td>0.169898</td>\n",
              "      <td>0.166755</td>\n",
              "      <td>-0.359539</td>\n",
              "      <td>-0.865877</td>\n",
              "      <td>-0.063139</td>\n",
              "      <td>-0.103313</td>\n",
              "      <td>-0.207663</td>\n",
              "      <td>-0.066873</td>\n",
              "      <td>0.854568</td>\n",
              "      <td>2</td>\n",
              "      <td>0</td>\n",
              "      <td>...</td>\n",
              "      <td>1</td>\n",
              "      <td>0</td>\n",
              "      <td>0</td>\n",
              "      <td>0</td>\n",
              "      <td>0</td>\n",
              "      <td>0</td>\n",
              "      <td>0</td>\n",
              "      <td>1</td>\n",
              "      <td>0</td>\n",
              "      <td>0</td>\n",
              "      <td>1</td>\n",
              "      <td>0</td>\n",
              "      <td>1</td>\n",
              "      <td>0</td>\n",
              "      <td>0</td>\n",
              "      <td>0</td>\n",
              "      <td>0</td>\n",
              "      <td>0</td>\n",
              "      <td>0</td>\n",
              "      <td>0</td>\n",
              "      <td>1</td>\n",
              "      <td>0</td>\n",
              "      <td>0</td>\n",
              "      <td>0</td>\n",
              "      <td>0</td>\n",
              "      <td>0</td>\n",
              "      <td>0</td>\n",
              "      <td>1</td>\n",
              "      <td>0</td>\n",
              "      <td>0</td>\n",
              "      <td>1</td>\n",
              "      <td>0</td>\n",
              "      <td>0</td>\n",
              "      <td>0</td>\n",
              "      <td>0</td>\n",
              "      <td>0</td>\n",
              "      <td>0</td>\n",
              "      <td>0</td>\n",
              "      <td>0</td>\n",
              "      <td>1</td>\n",
              "    </tr>\n",
              "    <tr>\n",
              "      <th>2</th>\n",
              "      <td>3</td>\n",
              "      <td>0.196886</td>\n",
              "      <td>0.575637</td>\n",
              "      <td>0.563659</td>\n",
              "      <td>0.646073</td>\n",
              "      <td>0.374676</td>\n",
              "      <td>-0.287709</td>\n",
              "      <td>-0.297917</td>\n",
              "      <td>0.306987</td>\n",
              "      <td>0.627680</td>\n",
              "      <td>-0.610614</td>\n",
              "      <td>1.584495</td>\n",
              "      <td>0.781232</td>\n",
              "      <td>0.973126</td>\n",
              "      <td>0.623525</td>\n",
              "      <td>0.338845</td>\n",
              "      <td>0.185123</td>\n",
              "      <td>0.137173</td>\n",
              "      <td>0.098173</td>\n",
              "      <td>1.235163</td>\n",
              "      <td>-0.880880</td>\n",
              "      <td>-0.740634</td>\n",
              "      <td>1.232388</td>\n",
              "      <td>-0.081195</td>\n",
              "      <td>0.268244</td>\n",
              "      <td>-0.287950</td>\n",
              "      <td>0.239178</td>\n",
              "      <td>0.305639</td>\n",
              "      <td>1.087148</td>\n",
              "      <td>0.169898</td>\n",
              "      <td>0.166755</td>\n",
              "      <td>-0.359539</td>\n",
              "      <td>1.154503</td>\n",
              "      <td>-0.063139</td>\n",
              "      <td>-0.103313</td>\n",
              "      <td>-0.207663</td>\n",
              "      <td>-0.066873</td>\n",
              "      <td>1.248948</td>\n",
              "      <td>3</td>\n",
              "      <td>0</td>\n",
              "      <td>...</td>\n",
              "      <td>0</td>\n",
              "      <td>0</td>\n",
              "      <td>0</td>\n",
              "      <td>0</td>\n",
              "      <td>0</td>\n",
              "      <td>0</td>\n",
              "      <td>0</td>\n",
              "      <td>1</td>\n",
              "      <td>1</td>\n",
              "      <td>0</td>\n",
              "      <td>0</td>\n",
              "      <td>0</td>\n",
              "      <td>0</td>\n",
              "      <td>1</td>\n",
              "      <td>0</td>\n",
              "      <td>0</td>\n",
              "      <td>0</td>\n",
              "      <td>0</td>\n",
              "      <td>0</td>\n",
              "      <td>0</td>\n",
              "      <td>1</td>\n",
              "      <td>0</td>\n",
              "      <td>0</td>\n",
              "      <td>0</td>\n",
              "      <td>0</td>\n",
              "      <td>0</td>\n",
              "      <td>0</td>\n",
              "      <td>1</td>\n",
              "      <td>0</td>\n",
              "      <td>0</td>\n",
              "      <td>1</td>\n",
              "      <td>0</td>\n",
              "      <td>0</td>\n",
              "      <td>0</td>\n",
              "      <td>0</td>\n",
              "      <td>0</td>\n",
              "      <td>0</td>\n",
              "      <td>0</td>\n",
              "      <td>0</td>\n",
              "      <td>1</td>\n",
              "    </tr>\n",
              "    <tr>\n",
              "      <th>3</th>\n",
              "      <td>4</td>\n",
              "      <td>-0.092511</td>\n",
              "      <td>0.438644</td>\n",
              "      <td>0.427309</td>\n",
              "      <td>0.646073</td>\n",
              "      <td>-0.070839</td>\n",
              "      <td>0.349486</td>\n",
              "      <td>-0.669697</td>\n",
              "      <td>1.618986</td>\n",
              "      <td>0.785426</td>\n",
              "      <td>-0.506118</td>\n",
              "      <td>-0.270012</td>\n",
              "      <td>-1.027187</td>\n",
              "      <td>0.973126</td>\n",
              "      <td>0.623525</td>\n",
              "      <td>-0.566919</td>\n",
              "      <td>-0.028979</td>\n",
              "      <td>-0.078371</td>\n",
              "      <td>-0.494445</td>\n",
              "      <td>0.978574</td>\n",
              "      <td>0.775149</td>\n",
              "      <td>-0.740634</td>\n",
              "      <td>-0.756191</td>\n",
              "      <td>-0.184783</td>\n",
              "      <td>0.268244</td>\n",
              "      <td>-0.046816</td>\n",
              "      <td>0.239178</td>\n",
              "      <td>0.066702</td>\n",
              "      <td>1.087148</td>\n",
              "      <td>0.169898</td>\n",
              "      <td>0.166755</td>\n",
              "      <td>3.874303</td>\n",
              "      <td>1.154503</td>\n",
              "      <td>-0.063139</td>\n",
              "      <td>-0.103313</td>\n",
              "      <td>-0.207663</td>\n",
              "      <td>-0.066873</td>\n",
              "      <td>0.464884</td>\n",
              "      <td>4</td>\n",
              "      <td>0</td>\n",
              "      <td>...</td>\n",
              "      <td>0</td>\n",
              "      <td>0</td>\n",
              "      <td>0</td>\n",
              "      <td>0</td>\n",
              "      <td>0</td>\n",
              "      <td>1</td>\n",
              "      <td>0</td>\n",
              "      <td>0</td>\n",
              "      <td>0</td>\n",
              "      <td>0</td>\n",
              "      <td>1</td>\n",
              "      <td>0</td>\n",
              "      <td>0</td>\n",
              "      <td>1</td>\n",
              "      <td>0</td>\n",
              "      <td>0</td>\n",
              "      <td>0</td>\n",
              "      <td>0</td>\n",
              "      <td>0</td>\n",
              "      <td>0</td>\n",
              "      <td>1</td>\n",
              "      <td>0</td>\n",
              "      <td>0</td>\n",
              "      <td>0</td>\n",
              "      <td>0</td>\n",
              "      <td>0</td>\n",
              "      <td>0</td>\n",
              "      <td>0</td>\n",
              "      <td>1</td>\n",
              "      <td>0</td>\n",
              "      <td>1</td>\n",
              "      <td>0</td>\n",
              "      <td>0</td>\n",
              "      <td>0</td>\n",
              "      <td>0</td>\n",
              "      <td>0</td>\n",
              "      <td>0</td>\n",
              "      <td>0</td>\n",
              "      <td>0</td>\n",
              "      <td>1</td>\n",
              "    </tr>\n",
              "    <tr>\n",
              "      <th>4</th>\n",
              "      <td>5</td>\n",
              "      <td>0.988072</td>\n",
              "      <td>1.393624</td>\n",
              "      <td>1.377806</td>\n",
              "      <td>1.355319</td>\n",
              "      <td>1.138228</td>\n",
              "      <td>1.623875</td>\n",
              "      <td>0.212148</td>\n",
              "      <td>1.618986</td>\n",
              "      <td>1.685509</td>\n",
              "      <td>-0.037164</td>\n",
              "      <td>1.584495</td>\n",
              "      <td>0.781232</td>\n",
              "      <td>0.973126</td>\n",
              "      <td>0.623525</td>\n",
              "      <td>1.389978</td>\n",
              "      <td>0.635539</td>\n",
              "      <td>0.518814</td>\n",
              "      <td>0.469107</td>\n",
              "      <td>1.671364</td>\n",
              "      <td>0.581425</td>\n",
              "      <td>0.776834</td>\n",
              "      <td>1.232388</td>\n",
              "      <td>0.540332</td>\n",
              "      <td>0.268244</td>\n",
              "      <td>-0.160558</td>\n",
              "      <td>0.239178</td>\n",
              "      <td>0.783513</td>\n",
              "      <td>1.087148</td>\n",
              "      <td>1.385418</td>\n",
              "      <td>0.166755</td>\n",
              "      <td>-0.359539</td>\n",
              "      <td>1.154503</td>\n",
              "      <td>-0.063139</td>\n",
              "      <td>-0.103313</td>\n",
              "      <td>-0.207663</td>\n",
              "      <td>-0.066873</td>\n",
              "      <td>1.497782</td>\n",
              "      <td>5</td>\n",
              "      <td>0</td>\n",
              "      <td>...</td>\n",
              "      <td>0</td>\n",
              "      <td>0</td>\n",
              "      <td>0</td>\n",
              "      <td>0</td>\n",
              "      <td>0</td>\n",
              "      <td>0</td>\n",
              "      <td>0</td>\n",
              "      <td>1</td>\n",
              "      <td>1</td>\n",
              "      <td>0</td>\n",
              "      <td>0</td>\n",
              "      <td>0</td>\n",
              "      <td>0</td>\n",
              "      <td>1</td>\n",
              "      <td>0</td>\n",
              "      <td>0</td>\n",
              "      <td>0</td>\n",
              "      <td>0</td>\n",
              "      <td>0</td>\n",
              "      <td>0</td>\n",
              "      <td>1</td>\n",
              "      <td>0</td>\n",
              "      <td>0</td>\n",
              "      <td>0</td>\n",
              "      <td>0</td>\n",
              "      <td>0</td>\n",
              "      <td>0</td>\n",
              "      <td>1</td>\n",
              "      <td>0</td>\n",
              "      <td>0</td>\n",
              "      <td>1</td>\n",
              "      <td>0</td>\n",
              "      <td>0</td>\n",
              "      <td>0</td>\n",
              "      <td>0</td>\n",
              "      <td>0</td>\n",
              "      <td>0</td>\n",
              "      <td>0</td>\n",
              "      <td>0</td>\n",
              "      <td>1</td>\n",
              "    </tr>\n",
              "  </tbody>\n",
              "</table>\n",
              "<p>5 rows × 1195 columns</p>\n",
              "</div>"
            ],
            "text/plain": [
              "   Id   TotalSF  TotalLivingArea  ...  SaleType_New  SaleType_Oth  SaleType_WD\n",
              "0   1  0.022999         0.424747  ...             0             0            1\n",
              "1   2 -0.029167        -0.464714  ...             0             0            1\n",
              "2   3  0.196886         0.575637  ...             0             0            1\n",
              "3   4 -0.092511         0.438644  ...             0             0            1\n",
              "4   5  0.988072         1.393624  ...             0             0            1\n",
              "\n",
              "[5 rows x 1195 columns]"
            ]
          },
          "metadata": {
            "tags": []
          },
          "execution_count": 81
        }
      ]
    },
    {
      "cell_type": "code",
      "metadata": {
        "scrolled": true,
        "id": "IEkzm4B0M8oO",
        "colab_type": "code",
        "outputId": "7bbbf4be-e6bd-4f75-f6b5-6eb6cde68871",
        "colab": {
          "base_uri": "https://localhost:8080/",
          "height": 402
        }
      },
      "source": [
        "# # Filter highly correlated variables\n",
        "# correlation = df3.corr()\n",
        "# pre_selection = correlated_variables(correlation,'SalePrice')\n",
        "# pre_selection"
      ],
      "execution_count": 82,
      "outputs": [
        {
          "output_type": "execute_result",
          "data": {
            "text/html": [
              "<div>\n",
              "<style scoped>\n",
              "    .dataframe tbody tr th:only-of-type {\n",
              "        vertical-align: middle;\n",
              "    }\n",
              "\n",
              "    .dataframe tbody tr th {\n",
              "        vertical-align: top;\n",
              "    }\n",
              "\n",
              "    .dataframe thead th {\n",
              "        text-align: right;\n",
              "    }\n",
              "</style>\n",
              "<table border=\"1\" class=\"dataframe\">\n",
              "  <thead>\n",
              "    <tr style=\"text-align: right;\">\n",
              "      <th></th>\n",
              "      <th>Variable1</th>\n",
              "      <th>Variable2</th>\n",
              "      <th>Corr_V1&amp;V2</th>\n",
              "      <th>Corr_V1&amp;Obj</th>\n",
              "      <th>Corr_V2&amp;Obj</th>\n",
              "    </tr>\n",
              "  </thead>\n",
              "  <tbody>\n",
              "    <tr>\n",
              "      <th>0</th>\n",
              "      <td>Id</td>\n",
              "      <td>Id</td>\n",
              "      <td>1.000000</td>\n",
              "      <td>-0.739838</td>\n",
              "      <td>-0.739838</td>\n",
              "    </tr>\n",
              "    <tr>\n",
              "      <th>0</th>\n",
              "      <td>YrBltAndRemod_18961950</td>\n",
              "      <td>GarageYrBlt_1896.0</td>\n",
              "      <td>1.000000</td>\n",
              "      <td>-0.015733</td>\n",
              "      <td>-0.015733</td>\n",
              "    </tr>\n",
              "    <tr>\n",
              "      <th>0</th>\n",
              "      <td>YrBltAndRemod_18932000</td>\n",
              "      <td>YearBuilt_1893</td>\n",
              "      <td>1.000000</td>\n",
              "      <td>0.040771</td>\n",
              "      <td>0.040771</td>\n",
              "    </tr>\n",
              "    <tr>\n",
              "      <th>0</th>\n",
              "      <td>YrBltAndRemod_18821986</td>\n",
              "      <td>YearBuilt_1882</td>\n",
              "      <td>1.000000</td>\n",
              "      <td>0.013476</td>\n",
              "      <td>0.013476</td>\n",
              "    </tr>\n",
              "    <tr>\n",
              "      <th>0</th>\n",
              "      <td>YrBltAndRemod_18751996</td>\n",
              "      <td>YearBuilt_1875</td>\n",
              "      <td>1.000000</td>\n",
              "      <td>0.000610</td>\n",
              "      <td>0.000610</td>\n",
              "    </tr>\n",
              "    <tr>\n",
              "      <th>...</th>\n",
              "      <td>...</td>\n",
              "      <td>...</td>\n",
              "      <td>...</td>\n",
              "      <td>...</td>\n",
              "      <td>...</td>\n",
              "    </tr>\n",
              "    <tr>\n",
              "      <th>0</th>\n",
              "      <td>RoofStyle_Gable</td>\n",
              "      <td>RoofStyle_Hip</td>\n",
              "      <td>-0.939469</td>\n",
              "      <td>-0.105885</td>\n",
              "      <td>0.104730</td>\n",
              "    </tr>\n",
              "    <tr>\n",
              "      <th>0</th>\n",
              "      <td>hasbsmt</td>\n",
              "      <td>BsmtExposure_Empty</td>\n",
              "      <td>-0.981018</td>\n",
              "      <td>0.064235</td>\n",
              "      <td>-0.064620</td>\n",
              "    </tr>\n",
              "    <tr>\n",
              "      <th>0</th>\n",
              "      <td>hasbsmt</td>\n",
              "      <td>BsmtFinType2_Empty</td>\n",
              "      <td>-0.993555</td>\n",
              "      <td>0.064235</td>\n",
              "      <td>-0.060030</td>\n",
              "    </tr>\n",
              "    <tr>\n",
              "      <th>0</th>\n",
              "      <td>hasgarage</td>\n",
              "      <td>GarageType_Empty</td>\n",
              "      <td>-0.996650</td>\n",
              "      <td>0.084306</td>\n",
              "      <td>-0.083268</td>\n",
              "    </tr>\n",
              "    <tr>\n",
              "      <th>0</th>\n",
              "      <td>hasbsmt</td>\n",
              "      <td>BsmtFinType1_Empty</td>\n",
              "      <td>-1.000000</td>\n",
              "      <td>0.064235</td>\n",
              "      <td>-0.064235</td>\n",
              "    </tr>\n",
              "  </tbody>\n",
              "</table>\n",
              "<p>513 rows × 5 columns</p>\n",
              "</div>"
            ],
            "text/plain": [
              "                 Variable1           Variable2  ...  Corr_V1&Obj  Corr_V2&Obj\n",
              "0                       Id                  Id  ...    -0.739838    -0.739838\n",
              "0   YrBltAndRemod_18961950  GarageYrBlt_1896.0  ...    -0.015733    -0.015733\n",
              "0   YrBltAndRemod_18932000      YearBuilt_1893  ...     0.040771     0.040771\n",
              "0   YrBltAndRemod_18821986      YearBuilt_1882  ...     0.013476     0.013476\n",
              "0   YrBltAndRemod_18751996      YearBuilt_1875  ...     0.000610     0.000610\n",
              "..                     ...                 ...  ...          ...          ...\n",
              "0          RoofStyle_Gable       RoofStyle_Hip  ...    -0.105885     0.104730\n",
              "0                  hasbsmt  BsmtExposure_Empty  ...     0.064235    -0.064620\n",
              "0                  hasbsmt  BsmtFinType2_Empty  ...     0.064235    -0.060030\n",
              "0                hasgarage    GarageType_Empty  ...     0.084306    -0.083268\n",
              "0                  hasbsmt  BsmtFinType1_Empty  ...     0.064235    -0.064235\n",
              "\n",
              "[513 rows x 5 columns]"
            ]
          },
          "metadata": {
            "tags": []
          },
          "execution_count": 82
        }
      ]
    },
    {
      "cell_type": "code",
      "metadata": {
        "id": "rn-LLzeoM8oX",
        "colab_type": "code",
        "outputId": "2a98eac7-b57c-483d-c0fc-3b050f4a9a3b",
        "colab": {
          "base_uri": "https://localhost:8080/",
          "height": 67
        }
      },
      "source": [
        "# Filter strongly correlated variables\n",
        "\n",
        "# pre_selection.reset_index(drop=True,inplace=True)\n",
        "# result = []\n",
        "# max_correlation = 0.4\n",
        "# for i in pre_selection.index:\n",
        "#     if pre_selection.loc[i,'Corr_V1&V2'] < max_correlation:\n",
        "#         a = pre_selection.loc[i,'Corr_V1&Obj']\n",
        "#         b = pre_selection.loc[i,'Corr_V2&Obj']\n",
        "#         if a>=b:\n",
        "#             result.append(pre_selection.loc[i,'Variable1'])\n",
        "#         else:\n",
        "#             result.append(pre_selection.loc[i,'Variable2'])\n",
        "# result"
      ],
      "execution_count": 83,
      "outputs": [
        {
          "output_type": "execute_result",
          "data": {
            "text/html": [
              "['BsmtCond_TA', 'Foundation_PConc', 'Condition1_Norm', 'GarageQual_TA', 'LandContour_HLS', 'ExterQual_Gd', 'Foundation_PConc', 'BsmtFinSF1', 'OverallQual', 'SaleType_New', 'SaleCondition_Partial', 'HouseStyle_2Story', 'has2ndfloor', 'MasVnrArea', 'GarageQual_TA', 'GarageType_Attchd', 'RoofMatl_Tar&Grv', 'SalePrice', 'BsmtQual_Gd', 'SaleCondition_Partial', 'GarageCond_TA', 'SaleType_New', 'Foundation_PConc', 'hasbsmt', '2ndFlrSF', 'MasVnrType_BrkFace', 'MSZoning_RL', 'KitchenQual_Gd', 'Electrical_SBrkr', 'has2ndfloor', 'ExterCond_TA', 'ExterQual_Gd', 'RoofStyle_Hip', 'hasbsmt', 'hasbsmt', 'hasgarage', 'hasbsmt']"
            ],
            "text/plain": [
              "['BsmtCond_TA',\n",
              " 'Foundation_PConc',\n",
              " 'Condition1_Norm',\n",
              " 'GarageQual_TA',\n",
              " 'LandContour_HLS',\n",
              " 'ExterQual_Gd',\n",
              " 'Foundation_PConc',\n",
              " 'BsmtFinSF1',\n",
              " 'OverallQual',\n",
              " 'SaleType_New',\n",
              " 'SaleCondition_Partial',\n",
              " 'HouseStyle_2Story',\n",
              " 'has2ndfloor',\n",
              " 'MasVnrArea',\n",
              " 'GarageQual_TA',\n",
              " 'GarageType_Attchd',\n",
              " 'RoofMatl_Tar&Grv',\n",
              " 'SalePrice',\n",
              " 'BsmtQual_Gd',\n",
              " 'SaleCondition_Partial',\n",
              " 'GarageCond_TA',\n",
              " 'SaleType_New',\n",
              " 'Foundation_PConc',\n",
              " 'hasbsmt',\n",
              " '2ndFlrSF',\n",
              " 'MasVnrType_BrkFace',\n",
              " 'MSZoning_RL',\n",
              " 'KitchenQual_Gd',\n",
              " 'Electrical_SBrkr',\n",
              " 'has2ndfloor',\n",
              " 'ExterCond_TA',\n",
              " 'ExterQual_Gd',\n",
              " 'RoofStyle_Hip',\n",
              " 'hasbsmt',\n",
              " 'hasbsmt',\n",
              " 'hasgarage',\n",
              " 'hasbsmt']"
            ]
          },
          "metadata": {
            "tags": []
          },
          "execution_count": 83
        }
      ]
    },
    {
      "cell_type": "markdown",
      "metadata": {
        "id": "_2ePPmtdM8oi",
        "colab_type": "text"
      },
      "source": [
        "## Transformation"
      ]
    },
    {
      "cell_type": "code",
      "metadata": {
        "id": "Q20s_MLDM8ok",
        "colab_type": "code",
        "outputId": "f176fd17-3f11-4dfb-ae8e-db9c6c8951d6",
        "colab": {
          "base_uri": "https://localhost:8080/",
          "height": 50
        }
      },
      "source": [
        "# a = list(set([i.split('_')[0] for i in result]))\n",
        "# #b = [i for i in selected_numerical.index]\n",
        "# c = ['SalePrice']\n",
        "# d = list(set(a+c))\n",
        "# d"
      ],
      "execution_count": 93,
      "outputs": [
        {
          "output_type": "execute_result",
          "data": {
            "text/html": [
              "['has2ndfloor', 'ExterCond', 'BsmtCond', 'GarageType', 'GarageCond', 'MSZoning', 'RoofMatl', 'SalePrice', 'BsmtFinSF1', 'OverallQual', 'hasgarage', 'GarageQual', 'HouseStyle', 'Electrical', 'hasbsmt', 'MasVnrArea', 'SaleCondition', 'Foundation', 'KitchenQual', 'LandContour', 'ExterQual', 'MasVnrType', 'Condition1', 'RoofStyle', 'BsmtQual', '2ndFlrSF', 'SaleType']"
            ],
            "text/plain": [
              "['has2ndfloor',\n",
              " 'ExterCond',\n",
              " 'BsmtCond',\n",
              " 'GarageType',\n",
              " 'GarageCond',\n",
              " 'MSZoning',\n",
              " 'RoofMatl',\n",
              " 'SalePrice',\n",
              " 'BsmtFinSF1',\n",
              " 'OverallQual',\n",
              " 'hasgarage',\n",
              " 'GarageQual',\n",
              " 'HouseStyle',\n",
              " 'Electrical',\n",
              " 'hasbsmt',\n",
              " 'MasVnrArea',\n",
              " 'SaleCondition',\n",
              " 'Foundation',\n",
              " 'KitchenQual',\n",
              " 'LandContour',\n",
              " 'ExterQual',\n",
              " 'MasVnrType',\n",
              " 'Condition1',\n",
              " 'RoofStyle',\n",
              " 'BsmtQual',\n",
              " '2ndFlrSF',\n",
              " 'SaleType']"
            ]
          },
          "metadata": {
            "tags": []
          },
          "execution_count": 93
        }
      ]
    },
    {
      "cell_type": "code",
      "metadata": {
        "id": "wY5x5ektM8ov",
        "colab_type": "code",
        "outputId": "1ca563bd-b238-4b94-cfb1-0b6402bc388f",
        "colab": {
          "base_uri": "https://localhost:8080/",
          "height": 34
        }
      },
      "source": [
        "datasets.keys()"
      ],
      "execution_count": 86,
      "outputs": [
        {
          "output_type": "execute_result",
          "data": {
            "text/plain": [
              "dict_keys(['1.original', '0.0_test_original', '2.cleaned + new variables', '3.standardized'])"
            ]
          },
          "metadata": {
            "tags": []
          },
          "execution_count": 86
        }
      ]
    },
    {
      "cell_type": "code",
      "metadata": {
        "id": "11wL02mXM8o7",
        "colab_type": "code",
        "outputId": "3233839e-4959-4222-a86d-cf894c45fbd2",
        "colab": {
          "base_uri": "https://localhost:8080/",
          "height": 215
        }
      },
      "source": [
        "}df4 = pd.concat([datasets['2.cleaned + new variables'][d],df2['Id']],axis=1).reset_index(drop=True)\n",
        "df4.head()"
      ],
      "execution_count": 87,
      "outputs": [
        {
          "output_type": "execute_result",
          "data": {
            "text/html": [
              "<div>\n",
              "<style scoped>\n",
              "    .dataframe tbody tr th:only-of-type {\n",
              "        vertical-align: middle;\n",
              "    }\n",
              "\n",
              "    .dataframe tbody tr th {\n",
              "        vertical-align: top;\n",
              "    }\n",
              "\n",
              "    .dataframe thead th {\n",
              "        text-align: right;\n",
              "    }\n",
              "</style>\n",
              "<table border=\"1\" class=\"dataframe\">\n",
              "  <thead>\n",
              "    <tr style=\"text-align: right;\">\n",
              "      <th></th>\n",
              "      <th>has2ndfloor</th>\n",
              "      <th>ExterCond</th>\n",
              "      <th>BsmtCond</th>\n",
              "      <th>GarageType</th>\n",
              "      <th>GarageCond</th>\n",
              "      <th>MSZoning</th>\n",
              "      <th>RoofMatl</th>\n",
              "      <th>SalePrice</th>\n",
              "      <th>OverallQual</th>\n",
              "      <th>BsmtFinSF1</th>\n",
              "      <th>hasgarage</th>\n",
              "      <th>GarageQual</th>\n",
              "      <th>HouseStyle</th>\n",
              "      <th>Electrical</th>\n",
              "      <th>hasbsmt</th>\n",
              "      <th>MasVnrArea</th>\n",
              "      <th>SaleCondition</th>\n",
              "      <th>Foundation</th>\n",
              "      <th>KitchenQual</th>\n",
              "      <th>LandContour</th>\n",
              "      <th>ExterQual</th>\n",
              "      <th>MasVnrType</th>\n",
              "      <th>Condition1</th>\n",
              "      <th>RoofStyle</th>\n",
              "      <th>BsmtQual</th>\n",
              "      <th>2ndFlrSF</th>\n",
              "      <th>SaleType</th>\n",
              "      <th>SalePrice</th>\n",
              "      <th>Id</th>\n",
              "    </tr>\n",
              "  </thead>\n",
              "  <tbody>\n",
              "    <tr>\n",
              "      <th>0</th>\n",
              "      <td>1</td>\n",
              "      <td>TA</td>\n",
              "      <td>TA</td>\n",
              "      <td>Attchd</td>\n",
              "      <td>TA</td>\n",
              "      <td>RL</td>\n",
              "      <td>CompShg</td>\n",
              "      <td>208500.0</td>\n",
              "      <td>7</td>\n",
              "      <td>706.0</td>\n",
              "      <td>1</td>\n",
              "      <td>TA</td>\n",
              "      <td>2Story</td>\n",
              "      <td>SBrkr</td>\n",
              "      <td>1</td>\n",
              "      <td>196.0</td>\n",
              "      <td>Normal</td>\n",
              "      <td>PConc</td>\n",
              "      <td>Gd</td>\n",
              "      <td>Lvl</td>\n",
              "      <td>Gd</td>\n",
              "      <td>BrkFace</td>\n",
              "      <td>Norm</td>\n",
              "      <td>Gable</td>\n",
              "      <td>Gd</td>\n",
              "      <td>854</td>\n",
              "      <td>WD</td>\n",
              "      <td>208500.0</td>\n",
              "      <td>1</td>\n",
              "    </tr>\n",
              "    <tr>\n",
              "      <th>1</th>\n",
              "      <td>0</td>\n",
              "      <td>TA</td>\n",
              "      <td>TA</td>\n",
              "      <td>Attchd</td>\n",
              "      <td>TA</td>\n",
              "      <td>RL</td>\n",
              "      <td>CompShg</td>\n",
              "      <td>181500.0</td>\n",
              "      <td>6</td>\n",
              "      <td>978.0</td>\n",
              "      <td>1</td>\n",
              "      <td>TA</td>\n",
              "      <td>1Story</td>\n",
              "      <td>SBrkr</td>\n",
              "      <td>1</td>\n",
              "      <td>0.0</td>\n",
              "      <td>Normal</td>\n",
              "      <td>CBlock</td>\n",
              "      <td>TA</td>\n",
              "      <td>Lvl</td>\n",
              "      <td>TA</td>\n",
              "      <td>None</td>\n",
              "      <td>Feedr</td>\n",
              "      <td>Gable</td>\n",
              "      <td>Gd</td>\n",
              "      <td>0</td>\n",
              "      <td>WD</td>\n",
              "      <td>181500.0</td>\n",
              "      <td>2</td>\n",
              "    </tr>\n",
              "    <tr>\n",
              "      <th>2</th>\n",
              "      <td>1</td>\n",
              "      <td>TA</td>\n",
              "      <td>TA</td>\n",
              "      <td>Attchd</td>\n",
              "      <td>TA</td>\n",
              "      <td>RL</td>\n",
              "      <td>CompShg</td>\n",
              "      <td>223500.0</td>\n",
              "      <td>7</td>\n",
              "      <td>486.0</td>\n",
              "      <td>1</td>\n",
              "      <td>TA</td>\n",
              "      <td>2Story</td>\n",
              "      <td>SBrkr</td>\n",
              "      <td>1</td>\n",
              "      <td>162.0</td>\n",
              "      <td>Normal</td>\n",
              "      <td>PConc</td>\n",
              "      <td>Gd</td>\n",
              "      <td>Lvl</td>\n",
              "      <td>Gd</td>\n",
              "      <td>BrkFace</td>\n",
              "      <td>Norm</td>\n",
              "      <td>Gable</td>\n",
              "      <td>Gd</td>\n",
              "      <td>866</td>\n",
              "      <td>WD</td>\n",
              "      <td>223500.0</td>\n",
              "      <td>3</td>\n",
              "    </tr>\n",
              "    <tr>\n",
              "      <th>3</th>\n",
              "      <td>1</td>\n",
              "      <td>TA</td>\n",
              "      <td>Gd</td>\n",
              "      <td>Detchd</td>\n",
              "      <td>TA</td>\n",
              "      <td>RL</td>\n",
              "      <td>CompShg</td>\n",
              "      <td>140000.0</td>\n",
              "      <td>7</td>\n",
              "      <td>216.0</td>\n",
              "      <td>1</td>\n",
              "      <td>TA</td>\n",
              "      <td>2Story</td>\n",
              "      <td>SBrkr</td>\n",
              "      <td>1</td>\n",
              "      <td>0.0</td>\n",
              "      <td>Abnorml</td>\n",
              "      <td>BrkTil</td>\n",
              "      <td>Gd</td>\n",
              "      <td>Lvl</td>\n",
              "      <td>TA</td>\n",
              "      <td>None</td>\n",
              "      <td>Norm</td>\n",
              "      <td>Gable</td>\n",
              "      <td>TA</td>\n",
              "      <td>756</td>\n",
              "      <td>WD</td>\n",
              "      <td>140000.0</td>\n",
              "      <td>4</td>\n",
              "    </tr>\n",
              "    <tr>\n",
              "      <th>4</th>\n",
              "      <td>1</td>\n",
              "      <td>TA</td>\n",
              "      <td>TA</td>\n",
              "      <td>Attchd</td>\n",
              "      <td>TA</td>\n",
              "      <td>RL</td>\n",
              "      <td>CompShg</td>\n",
              "      <td>250000.0</td>\n",
              "      <td>8</td>\n",
              "      <td>655.0</td>\n",
              "      <td>1</td>\n",
              "      <td>TA</td>\n",
              "      <td>2Story</td>\n",
              "      <td>SBrkr</td>\n",
              "      <td>1</td>\n",
              "      <td>350.0</td>\n",
              "      <td>Normal</td>\n",
              "      <td>PConc</td>\n",
              "      <td>Gd</td>\n",
              "      <td>Lvl</td>\n",
              "      <td>Gd</td>\n",
              "      <td>BrkFace</td>\n",
              "      <td>Norm</td>\n",
              "      <td>Gable</td>\n",
              "      <td>Gd</td>\n",
              "      <td>1053</td>\n",
              "      <td>WD</td>\n",
              "      <td>250000.0</td>\n",
              "      <td>5</td>\n",
              "    </tr>\n",
              "  </tbody>\n",
              "</table>\n",
              "</div>"
            ],
            "text/plain": [
              "   has2ndfloor ExterCond BsmtCond GarageType  ... 2ndFlrSF SaleType SalePrice  Id\n",
              "0            1        TA       TA     Attchd  ...      854       WD  208500.0   1\n",
              "1            0        TA       TA     Attchd  ...        0       WD  181500.0   2\n",
              "2            1        TA       TA     Attchd  ...      866       WD  223500.0   3\n",
              "3            1        TA       Gd     Detchd  ...      756       WD  140000.0   4\n",
              "4            1        TA       TA     Attchd  ...     1053       WD  250000.0   5\n",
              "\n",
              "[5 rows x 29 columns]"
            ]
          },
          "metadata": {
            "tags": []
          },
          "execution_count": 87
        }
      ]
    },
    {
      "cell_type": "code",
      "metadata": {
        "id": "LUr8kUeEM8pA",
        "colab_type": "code",
        "colab": {}
      },
      "source": [
        "# datasets['4.selected variables'] = df4"
      ],
      "execution_count": 0,
      "outputs": []
    },
    {
      "cell_type": "markdown",
      "metadata": {
        "id": "2UEHB11RM8pF",
        "colab_type": "text"
      },
      "source": [
        "### Generate New Features from selected ones"
      ]
    },
    {
      "cell_type": "code",
      "metadata": {
        "id": "53ArWLhd46f3",
        "colab_type": "code",
        "colab": {
          "base_uri": "https://localhost:8080/",
          "height": 195
        },
        "outputId": "1a8fa873-532a-483b-9221-4c26fa065c8c"
      },
      "source": [
        "# datasets['4.selected variables']['SalePrice'].head()"
      ],
      "execution_count": 92,
      "outputs": [
        {
          "output_type": "execute_result",
          "data": {
            "text/html": [
              "<div>\n",
              "<style scoped>\n",
              "    .dataframe tbody tr th:only-of-type {\n",
              "        vertical-align: middle;\n",
              "    }\n",
              "\n",
              "    .dataframe tbody tr th {\n",
              "        vertical-align: top;\n",
              "    }\n",
              "\n",
              "    .dataframe thead th {\n",
              "        text-align: right;\n",
              "    }\n",
              "</style>\n",
              "<table border=\"1\" class=\"dataframe\">\n",
              "  <thead>\n",
              "    <tr style=\"text-align: right;\">\n",
              "      <th></th>\n",
              "      <th>SalePrice</th>\n",
              "      <th>SalePrice</th>\n",
              "    </tr>\n",
              "  </thead>\n",
              "  <tbody>\n",
              "    <tr>\n",
              "      <th>0</th>\n",
              "      <td>208500.0</td>\n",
              "      <td>208500.0</td>\n",
              "    </tr>\n",
              "    <tr>\n",
              "      <th>1</th>\n",
              "      <td>181500.0</td>\n",
              "      <td>181500.0</td>\n",
              "    </tr>\n",
              "    <tr>\n",
              "      <th>2</th>\n",
              "      <td>223500.0</td>\n",
              "      <td>223500.0</td>\n",
              "    </tr>\n",
              "    <tr>\n",
              "      <th>3</th>\n",
              "      <td>140000.0</td>\n",
              "      <td>140000.0</td>\n",
              "    </tr>\n",
              "    <tr>\n",
              "      <th>4</th>\n",
              "      <td>250000.0</td>\n",
              "      <td>250000.0</td>\n",
              "    </tr>\n",
              "  </tbody>\n",
              "</table>\n",
              "</div>"
            ],
            "text/plain": [
              "   SalePrice  SalePrice\n",
              "0   208500.0   208500.0\n",
              "1   181500.0   181500.0\n",
              "2   223500.0   223500.0\n",
              "3   140000.0   140000.0\n",
              "4   250000.0   250000.0"
            ]
          },
          "metadata": {
            "tags": []
          },
          "execution_count": 92
        }
      ]
    },
    {
      "cell_type": "code",
      "metadata": {
        "id": "vvcnWIf6M8pG",
        "colab_type": "code",
        "colab": {}
      },
      "source": [
        "# dummie_features = datasets['4.selected variables'].dtypes=='uint8'\n",
        "# datasets['4.selected variables']['sum_dummies'] = datasets['4.selected variables'].loc[:,dummie_features].sum(axis=1)\n",
        "#table = datasets['4.selected variables'].groupby('sum_dummies').agg({'SalePrice':['mean','count','std']})\n",
        "#table"
      ],
      "execution_count": 0,
      "outputs": []
    },
    {
      "cell_type": "code",
      "metadata": {
        "id": "cMr-c_3WM8pN",
        "colab_type": "code",
        "colab": {}
      },
      "source": [
        "# datasets['4.selected variables'].boxplot(['SalePrice'],by='sum_dummies')"
      ],
      "execution_count": 0,
      "outputs": []
    },
    {
      "cell_type": "code",
      "metadata": {
        "id": "-W6H-WrbM8pS",
        "colab_type": "code",
        "colab": {}
      },
      "source": [
        "# numeric_features = datasets['4.selected variables'].loc[:,datasets['4.selected variables'].dtypes!='uint8']\n",
        "# scaler = StandardScaler() \n",
        "# data_scaled = scaler.fit_transform(numeric_features)\n",
        "# df_data_scaled = pd.DataFrame(data_scaled,columns=numeric_features.columns)\n",
        "# df_data_scaled['sum_numeric'] = df_data_scaled.drop(['SalePrice','Id','sum_dummies'],axis=1).sum(axis=1)\n",
        "# #df_data_scaled['sum_numeric_range'] = pd.cut(df_data_scaled['sum_numeric'].reset_index(drop=True),10)\n",
        "# df_data_scaled.plot.scatter('sum_numeric','SalePrice')"
      ],
      "execution_count": 0,
      "outputs": []
    },
    {
      "cell_type": "code",
      "metadata": {
        "id": "zqUhta5LM8pY",
        "colab_type": "code",
        "colab": {}
      },
      "source": [
        "# datasets['4.selected variables']['numeric_sum_std'] = df_data_scaled['sum_numeric']"
      ],
      "execution_count": 0,
      "outputs": []
    },
    {
      "cell_type": "markdown",
      "metadata": {
        "id": "DJE-SGZXM8pe",
        "colab_type": "text"
      },
      "source": [
        "## Modeling 1\n",
        "\n"
      ]
    },
    {
      "cell_type": "code",
      "metadata": {
        "id": "DXIw6XUVM8pg",
        "colab_type": "code",
        "outputId": "34cb49f4-27b0-44f1-e11d-5668651914b2",
        "colab": {
          "base_uri": "https://localhost:8080/",
          "height": 34
        }
      },
      "source": [
        "datasets.keys()"
      ],
      "execution_count": 150,
      "outputs": [
        {
          "output_type": "execute_result",
          "data": {
            "text/plain": [
              "dict_keys(['1.original', '0.0_test_original', '2.cleaned + new variables'])"
            ]
          },
          "metadata": {
            "tags": []
          },
          "execution_count": 150
        }
      ]
    },
    {
      "cell_type": "markdown",
      "metadata": {
        "id": "AMLTh8rjnjN7",
        "colab_type": "text"
      },
      "source": [
        "## Transform features\n"
      ]
    },
    {
      "cell_type": "code",
      "metadata": {
        "id": "LllEMmpC9ELc",
        "colab_type": "code",
        "colab": {
          "base_uri": "https://localhost:8080/",
          "height": 312
        },
        "outputId": "bd435615-ed3d-45b6-c82a-3bc1bb71d65d"
      },
      "source": [
        "y = datasets['1.original'][\"SalePrice\"]\n",
        "plt.figure(1); plt.title('XXX')\n",
        "sns.distplot(y, kde=False, fit=stats.norm)"
      ],
      "execution_count": 148,
      "outputs": [
        {
          "output_type": "execute_result",
          "data": {
            "text/plain": [
              "<matplotlib.axes._subplots.AxesSubplot at 0x7fce561d2fd0>"
            ]
          },
          "metadata": {
            "tags": []
          },
          "execution_count": 148
        },
        {
          "output_type": "display_data",
          "data": {
            "image/png": "[encoded data removed]",
            "text/plain": [
              "<Figure size 432x288 with 1 Axes>"
            ]
          },
          "metadata": {
            "tags": [],
            "needs_background": "light"
          }
        }
      ]
    },
    {
      "cell_type": "code",
      "metadata": {
        "id": "5IsknIkCIjbS",
        "colab_type": "code",
        "outputId": "43227ad3-a819-49e8-e2e0-5763c9ec47c7",
        "colab": {
          "base_uri": "https://localhost:8080/",
          "height": 307
        }
      },
      "source": [
        "log_y = round(np.log1p(datasets['1.original'][\"SalePrice\"])*1e6).astype(int)\n",
        "sns.distplot(log_y,kde=False,fit=stats.norm)"
      ],
      "execution_count": 163,
      "outputs": [
        {
          "output_type": "execute_result",
          "data": {
            "text/plain": [
              "<matplotlib.axes._subplots.AxesSubplot at 0x7fce5417dd68>"
            ]
          },
          "metadata": {
            "tags": []
          },
          "execution_count": 163
        },
        {
          "output_type": "display_data",
          "data": {
            "image/png": "[encoded data removed]",
            "text/plain": [
              "<Figure size 432x288 with 1 Axes>"
            ]
          },
          "metadata": {
            "tags": [],
            "needs_background": "light"
          }
        }
      ]
    },
    {
      "cell_type": "code",
      "metadata": {
        "id": "mOakzMG_rq7t",
        "colab_type": "code",
        "colab": {}
      },
      "source": [
        "def inverse_transform(data_transformed):\n",
        "  try:\n",
        "    return round(data_transformed.apply(lambda x: math.exp(x/1e6)-1)).astype(int)\n",
        "  except:\n",
        "    return (np.exp(data_transformed/1e6)-1).round().astype(int)"
      ],
      "execution_count": 0,
      "outputs": []
    },
    {
      "cell_type": "code",
      "metadata": {
        "id": "RRoqhJLfoUfE",
        "colab_type": "code",
        "outputId": "25a4a9cf-8d3e-484e-9d2a-993d5cd7949d",
        "colab": {
          "base_uri": "https://localhost:8080/",
          "height": 34
        }
      },
      "source": [
        "data = datasets['2.cleaned + new variables']\n",
        "numeric_features = []\n",
        "for i in data:\n",
        "  if data[i].dtype != object:\n",
        "    numeric_features.append(i)\n",
        "numeric_features = [i for i in numeric_features if i not in ['Id','SalePrice']]\n",
        "numeric_features[0:10]\n"
      ],
      "execution_count": 167,
      "outputs": [
        {
          "output_type": "execute_result",
          "data": {
            "text/html": [
              "['LotFrontage', 'LotArea', 'OverallQual', 'OverallCond', 'MasVnrArea', 'BsmtFinSF1', 'BsmtFinSF2', 'BsmtUnfSF', 'TotalBsmtSF', 'CentralAir']"
            ],
            "text/plain": [
              "['LotFrontage',\n",
              " 'LotArea',\n",
              " 'OverallQual',\n",
              " 'OverallCond',\n",
              " 'MasVnrArea',\n",
              " 'BsmtFinSF1',\n",
              " 'BsmtFinSF2',\n",
              " 'BsmtUnfSF',\n",
              " 'TotalBsmtSF',\n",
              " 'CentralAir']"
            ]
          },
          "metadata": {
            "tags": []
          },
          "execution_count": 167
        }
      ]
    },
    {
      "cell_type": "code",
      "metadata": {
        "id": "7kvkoD2arrj7",
        "colab_type": "code",
        "outputId": "0dfc61c2-4c21-49b4-f86b-5f2a6ae3b324",
        "colab": {
          "base_uri": "https://localhost:8080/",
          "height": 118
        }
      },
      "source": [
        "skew_features = data[numeric_features].apply(lambda x: skew(x))#.sort_values(ascending=False)\n",
        "skew_features.head()"
      ],
      "execution_count": 168,
      "outputs": [
        {
          "output_type": "execute_result",
          "data": {
            "text/plain": [
              "LotFrontage     0.022013\n",
              "LotArea        12.822431\n",
              "OverallQual     0.197110\n",
              "OverallCond     0.570312\n",
              "MasVnrArea      2.613592\n",
              "dtype: float64"
            ]
          },
          "metadata": {
            "tags": []
          },
          "execution_count": 168
        }
      ]
    },
    {
      "cell_type": "code",
      "metadata": {
        "id": "u9Ck8OBMz6YG",
        "colab_type": "code",
        "outputId": "aa699220-c55e-4f38-e0e4-028674245274",
        "colab": {
          "base_uri": "https://localhost:8080/",
          "height": 50
        }
      },
      "source": [
        "from scipy.special import boxcox1p\n",
        "from scipy.stats import boxcox_normmax\n",
        "high_skew = skew_features[skew_features > 0.5]\n",
        "skew_index = high_skew.index\n",
        "\n",
        "for i in skew_index:\n",
        "    data[i] = boxcox1p(data[i], boxcox_normmax(data[i] + 1))"
      ],
      "execution_count": 169,
      "outputs": [
        {
          "output_type": "stream",
          "text": [
            "An input array is constant; the correlation coefficent is not defined.\n",
            "An input array is nearly constant; the computed correlation coefficent may be inaccurate.\n"
          ],
          "name": "stderr"
        }
      ]
    },
    {
      "cell_type": "code",
      "metadata": {
        "id": "DvbSiUxWd2dz",
        "colab_type": "code",
        "outputId": "493c6e36-0d44-4d65-ae6c-996c1d2209df",
        "colab": {
          "base_uri": "https://localhost:8080/",
          "height": 34
        }
      },
      "source": [
        "datasets.keys()"
      ],
      "execution_count": 170,
      "outputs": [
        {
          "output_type": "execute_result",
          "data": {
            "text/plain": [
              "dict_keys(['1.original', '0.0_test_original', '2.cleaned + new variables'])"
            ]
          },
          "metadata": {
            "tags": []
          },
          "execution_count": 170
        }
      ]
    },
    {
      "cell_type": "code",
      "metadata": {
        "id": "-gm7HG0zRVkq",
        "colab_type": "code",
        "outputId": "ed3a982c-76ad-4a57-eb49-b1add3936f4a",
        "colab": {
          "base_uri": "https://localhost:8080/",
          "height": 218
        }
      },
      "source": [
        "final_features = pd.get_dummies(data).reset_index(drop=True)\n",
        "\n",
        "#Delete previous 'SalePrice' column\n",
        "#final_features.drop('SalePrice',axis=1,inplace=True)\n",
        "\n",
        "datasets['5.all_features_log_transform'] = pd.concat([log_y,final_features],axis=1).reset_index(drop=True)\n",
        "datasets['5.all_features_log_transform'].SalePrice"
      ],
      "execution_count": 171,
      "outputs": [
        {
          "output_type": "execute_result",
          "data": {
            "text/plain": [
              "0       12247699.0\n",
              "1       12109016.0\n",
              "2       12317171.0\n",
              "3       11849405.0\n",
              "4       12429220.0\n",
              "           ...    \n",
              "2914           NaN\n",
              "2915           NaN\n",
              "2916           NaN\n",
              "2917           NaN\n",
              "2918           NaN\n",
              "Name: SalePrice, Length: 2919, dtype: float64"
            ]
          },
          "metadata": {
            "tags": []
          },
          "execution_count": 171
        }
      ]
    },
    {
      "cell_type": "markdown",
      "metadata": {
        "id": "gBXyH0VSnt70",
        "colab_type": "text"
      },
      "source": [
        "### Train Models\n"
      ]
    },
    {
      "cell_type": "code",
      "metadata": {
        "id": "aHgBahhsM8pm",
        "colab_type": "code",
        "colab": {}
      },
      "source": [
        "#data = datasets['5.all_features_log_transform']\n",
        "#x_train,x_test,y_train,y_test = train_test_split(data.drop(['SalePrice','Id'],axis=1),data['SalePrice'], test_size=0.2,random_state=42)\n"
      ],
      "execution_count": 0,
      "outputs": []
    },
    {
      "cell_type": "code",
      "metadata": {
        "id": "yJAn-rksM8pr",
        "colab_type": "code",
        "colab": {}
      },
      "source": [
        "def train_models(x_train,x_test,y_train,y_test):\n",
        "    tree = DecisionTreeRegressor(max_depth=5,min_weight_fraction_leaf=0.03,random_state=42)\n",
        "    rf = RandomForestRegressor(n_estimators = 50, random_state = 42, bootstrap=True\n",
        "                               #,max_samples=0.5\n",
        "                               ,min_weight_fraction_leaf=0.01\n",
        "                              )\n",
        "    xgboost = XGBRegressor(n_estimators=100,early_stopping_rounds=5,eval_set=[(x_test, y_test)])\n",
        "    mod_list = {'lin_reg':LinearRegression(),'svm':svm.SVR(kernel='linear'),'tree':tree,'random_forest':rf,'xgboost':xgboost}\n",
        "    perf_metrics = ['R^2','MAE','RMSE','MAPE','RMSLE']\n",
        "    results = pd.DataFrame(columns=perf_metrics)\n",
        "\n",
        "    for i in mod_list:\n",
        "        #Train models\n",
        "        mod_list[i].fit(x_train,y_train)\n",
        "        y_pred = mod_list[i].predict(x_test)\n",
        "        #Transform y_test and y_pred to original values if needed\n",
        "        y_test2 = inverse_transform(y_test)\n",
        "        y_pred2 = inverse_transform(y_pred)\n",
        "        r2 = mod_list[i].score(x_test, y_test)\n",
        "        mae = metrics.mean_absolute_error(y_pred2,y_test2)\n",
        "        rmse = np.sqrt(metrics.mean_squared_error(y_pred2,y_test2))\n",
        "        mape = mean_absolute_percentage_error(y_test2,y_pred2)\n",
        "        rmsle = ''\n",
        "        try:\n",
        "            rmsle = np.sqrt(metrics.mean_squared_log_error(y_test2,y_pred2))\n",
        "        except:\n",
        "            pass\n",
        "        line = pd.DataFrame(data=[[r2,mae,rmse,mape,rmsle]],index=[i],columns=results.columns)\n",
        "        results = pd.concat([results,line],axis=0)\n",
        "    \n",
        "    return results,mod_list"
      ],
      "execution_count": 0,
      "outputs": []
    },
    {
      "cell_type": "code",
      "metadata": {
        "id": "G_1V43EbM8pv",
        "colab_type": "code",
        "colab": {}
      },
      "source": [
        "# results,mod_list = train_models(x_train,x_test,y_train,y_test)\n",
        "# results"
      ],
      "execution_count": 0,
      "outputs": []
    },
    {
      "cell_type": "code",
      "metadata": {
        "id": "Eki35rdGM8p0",
        "colab_type": "code",
        "colab": {}
      },
      "source": [
        "# # Plot Decision Tree\n",
        "# model = mod_list['random_forest'].estimators_[2]\n",
        "# model.get_depth()\n",
        "# plt.figure(figsize=(120,50))\n",
        "# a = plot_tree(model, \n",
        "#               feature_names=x_train.columns, \n",
        "#               #class_names=breast_cancer.target_names, \n",
        "#               filled=True, \n",
        "#               rounded=True, \n",
        "#               fontsize=40)"
      ],
      "execution_count": 0,
      "outputs": []
    },
    {
      "cell_type": "code",
      "metadata": {
        "id": "4o-NjrX3M8p5",
        "colab_type": "code",
        "colab": {}
      },
      "source": [
        "# # Cross Validation\n",
        "# X = datasets['4.selected variables'].drop(['SalePrice','Id'],axis=1)                                         \n",
        "# y = datasets['4.selected variables']['SalePrice']\n",
        "# metric = 'neg_mean_squared_log_error'\n",
        "# print('Cross Validation: \\n',metric,':')\n",
        "# np.mean(np.sqrt(np.absolute(cross_val_score(mod_list['random_forest'],X, y, cv=5, scoring=metric))))"
      ],
      "execution_count": 0,
      "outputs": []
    },
    {
      "cell_type": "code",
      "metadata": {
        "id": "QeR-SjijgmUm",
        "colab_type": "code",
        "outputId": "3b015ea4-078a-47f7-ff3a-36feb0234e8e",
        "colab": {
          "base_uri": "https://localhost:8080/",
          "height": 34
        }
      },
      "source": [
        "datasets.keys()"
      ],
      "execution_count": 172,
      "outputs": [
        {
          "output_type": "execute_result",
          "data": {
            "text/plain": [
              "dict_keys(['1.original', '0.0_test_original', '2.cleaned + new variables', '5.all_features_log_transform'])"
            ]
          },
          "metadata": {
            "tags": []
          },
          "execution_count": 172
        }
      ]
    },
    {
      "cell_type": "markdown",
      "metadata": {
        "id": "hYFbZ_tXmjUn",
        "colab_type": "text"
      },
      "source": [
        "### Submission File"
      ]
    },
    {
      "cell_type": "code",
      "metadata": {
        "id": "znzG3kCZfFfu",
        "colab_type": "code",
        "outputId": "9d0460f4-4e32-428d-b1d5-3cef089da805",
        "colab": {
          "base_uri": "https://localhost:8080/",
          "height": 151
        }
      },
      "source": [
        "y = datasets['1.original']['SalePrice']\n",
        "x_train = final_features.iloc[:len(y),:]\n",
        "y_train = log_y\n",
        "x_test = final_features.iloc[len(y):,:]\n",
        "xgboost = XGBRegressor(n_estimators=100,early_stopping_rounds=5)\n",
        "xgboost.fit(x_train,y_train)"
      ],
      "execution_count": 174,
      "outputs": [
        {
          "output_type": "stream",
          "text": [
            "[20:55:10] WARNING: /workspace/src/objective/regression_obj.cu:152: reg:linear is now deprecated in favor of reg:squarederror.\n"
          ],
          "name": "stdout"
        },
        {
          "output_type": "execute_result",
          "data": {
            "text/plain": [
              "XGBRegressor(base_score=0.5, booster='gbtree', colsample_bylevel=1,\n",
              "             colsample_bynode=1, colsample_bytree=1, early_stopping_rounds=5,\n",
              "             gamma=0, importance_type='gain', learning_rate=0.1,\n",
              "             max_delta_step=0, max_depth=3, min_child_weight=1, missing=None,\n",
              "             n_estimators=100, n_jobs=1, nthread=None, objective='reg:linear',\n",
              "             random_state=0, reg_alpha=0, reg_lambda=1, scale_pos_weight=1,\n",
              "             seed=None, silent=None, subsample=1, verbosity=1)"
            ]
          },
          "metadata": {
            "tags": []
          },
          "execution_count": 174
        }
      ]
    },
    {
      "cell_type": "code",
      "metadata": {
        "id": "uyo_sD1Ojcw-",
        "colab_type": "code",
        "outputId": "33b35c60-1bf8-49b7-c51d-c50f2ffc2098",
        "colab": {
          "base_uri": "https://localhost:8080/",
          "height": 195
        }
      },
      "source": [
        "submission = pd.read_csv('https://raw.githubusercontent.com/tgrasty/house_prices/master/sample_submission.csv')\n",
        "submission.head()"
      ],
      "execution_count": 185,
      "outputs": [
        {
          "output_type": "execute_result",
          "data": {
            "text/html": [
              "<div>\n",
              "<style scoped>\n",
              "    .dataframe tbody tr th:only-of-type {\n",
              "        vertical-align: middle;\n",
              "    }\n",
              "\n",
              "    .dataframe tbody tr th {\n",
              "        vertical-align: top;\n",
              "    }\n",
              "\n",
              "    .dataframe thead th {\n",
              "        text-align: right;\n",
              "    }\n",
              "</style>\n",
              "<table border=\"1\" class=\"dataframe\">\n",
              "  <thead>\n",
              "    <tr style=\"text-align: right;\">\n",
              "      <th></th>\n",
              "      <th>Id</th>\n",
              "      <th>SalePrice</th>\n",
              "    </tr>\n",
              "  </thead>\n",
              "  <tbody>\n",
              "    <tr>\n",
              "      <th>0</th>\n",
              "      <td>1461</td>\n",
              "      <td>169277.052498</td>\n",
              "    </tr>\n",
              "    <tr>\n",
              "      <th>1</th>\n",
              "      <td>1462</td>\n",
              "      <td>187758.393989</td>\n",
              "    </tr>\n",
              "    <tr>\n",
              "      <th>2</th>\n",
              "      <td>1463</td>\n",
              "      <td>183583.683570</td>\n",
              "    </tr>\n",
              "    <tr>\n",
              "      <th>3</th>\n",
              "      <td>1464</td>\n",
              "      <td>179317.477511</td>\n",
              "    </tr>\n",
              "    <tr>\n",
              "      <th>4</th>\n",
              "      <td>1465</td>\n",
              "      <td>150730.079977</td>\n",
              "    </tr>\n",
              "  </tbody>\n",
              "</table>\n",
              "</div>"
            ],
            "text/plain": [
              "     Id      SalePrice\n",
              "0  1461  169277.052498\n",
              "1  1462  187758.393989\n",
              "2  1463  183583.683570\n",
              "3  1464  179317.477511\n",
              "4  1465  150730.079977"
            ]
          },
          "metadata": {
            "tags": []
          },
          "execution_count": 185
        }
      ]
    },
    {
      "cell_type": "code",
      "metadata": {
        "id": "m2lI-z7jIPXG",
        "colab_type": "code",
        "colab": {
          "base_uri": "https://localhost:8080/",
          "height": 225
        },
        "outputId": "6f599d37-ba4f-4807-e0a0-a4adc25c23ed"
      },
      "source": [
        "submission.iloc[:,1] = inverse_transform(xgboost.predict(x_test))\n",
        "submission.set_index(submission['Id'],inplace=True)\n",
        "submission.drop('Id',axis=1,inplace=True)\n",
        "submission.head()"
      ],
      "execution_count": 189,
      "outputs": [
        {
          "output_type": "execute_result",
          "data": {
            "text/html": [
              "<div>\n",
              "<style scoped>\n",
              "    .dataframe tbody tr th:only-of-type {\n",
              "        vertical-align: middle;\n",
              "    }\n",
              "\n",
              "    .dataframe tbody tr th {\n",
              "        vertical-align: top;\n",
              "    }\n",
              "\n",
              "    .dataframe thead th {\n",
              "        text-align: right;\n",
              "    }\n",
              "</style>\n",
              "<table border=\"1\" class=\"dataframe\">\n",
              "  <thead>\n",
              "    <tr style=\"text-align: right;\">\n",
              "      <th></th>\n",
              "      <th>SalePrice</th>\n",
              "    </tr>\n",
              "    <tr>\n",
              "      <th>Id</th>\n",
              "      <th></th>\n",
              "    </tr>\n",
              "  </thead>\n",
              "  <tbody>\n",
              "    <tr>\n",
              "      <th>1461</th>\n",
              "      <td>126068</td>\n",
              "    </tr>\n",
              "    <tr>\n",
              "      <th>1462</th>\n",
              "      <td>168256</td>\n",
              "    </tr>\n",
              "    <tr>\n",
              "      <th>1463</th>\n",
              "      <td>175957</td>\n",
              "    </tr>\n",
              "    <tr>\n",
              "      <th>1464</th>\n",
              "      <td>187687</td>\n",
              "    </tr>\n",
              "    <tr>\n",
              "      <th>1465</th>\n",
              "      <td>202937</td>\n",
              "    </tr>\n",
              "  </tbody>\n",
              "</table>\n",
              "</div>"
            ],
            "text/plain": [
              "      SalePrice\n",
              "Id             \n",
              "1461     126068\n",
              "1462     168256\n",
              "1463     175957\n",
              "1464     187687\n",
              "1465     202937"
            ]
          },
          "metadata": {
            "tags": []
          },
          "execution_count": 189
        }
      ]
    },
    {
      "cell_type": "code",
      "metadata": {
        "id": "13vTUjr4f-Ue",
        "colab_type": "code",
        "colab": {
          "base_uri": "https://localhost:8080/",
          "height": 34
        },
        "outputId": "efdf146a-98d4-4f48-b629-70830b416b08"
      },
      "source": [
        "submission.shape"
      ],
      "execution_count": 190,
      "outputs": [
        {
          "output_type": "execute_result",
          "data": {
            "text/plain": [
              "(1459, 1)"
            ]
          },
          "metadata": {
            "tags": []
          },
          "execution_count": 190
        }
      ]
    },
    {
      "cell_type": "code",
      "metadata": {
        "id": "2Zo1wp28ghH2",
        "colab_type": "code",
        "colab": {}
      },
      "source": [
        "from google.colab import files\n",
        "submission.to_csv('house_prices-submission.csv')\n",
        "files.download('house_prices-submission.csv')"
      ],
      "execution_count": 0,
      "outputs": []
    },
    {
      "cell_type": "markdown",
      "metadata": {
        "id": "iyvy2bNKM8qA",
        "colab_type": "text"
      },
      "source": [
        "### Feature Importance"
      ]
    },
    {
      "cell_type": "code",
      "metadata": {
        "id": "wqMt-lHTM8qB",
        "colab_type": "code",
        "colab": {}
      },
      "source": [
        "#Random Forest Score\n",
        "# Keep in mind that this importance score is biased because it favors high cardinality features\n",
        "importances = pd.DataFrame(mod_list['random_forest'].feature_importances_,columns=['score'])\n",
        "pd.concat([pd.DataFrame(x_train.columns,columns=['features']),importances],axis=1).sort_values('score',ascending=False)"
      ],
      "execution_count": 0,
      "outputs": []
    },
    {
      "cell_type": "code",
      "metadata": {
        "id": "N-DQxGRVM8qG",
        "colab_type": "code",
        "colab": {}
      },
      "source": [
        "# Recursive feature elimination\n",
        "estimator = mod_list['random_forest']\n",
        "selector = RFE(estimator, n_features_to_select=5, step=1)\n",
        "selector = selector.fit(x_train, y_train)"
      ],
      "execution_count": 0,
      "outputs": []
    },
    {
      "cell_type": "code",
      "metadata": {
        "id": "0KVvCANWM8qP",
        "colab_type": "code",
        "colab": {}
      },
      "source": [
        "#Careful! notice that RFE provides a Ranking not a Score, which means the LOWEST value represents the best feature\n",
        "rfe_importances = pd.DataFrame(selector.ranking_,columns=['score'])\n",
        "pd.concat([pd.DataFrame(x_train.columns,columns=['features']),rfe_importances],axis=1).sort_values('score',ascending=True)"
      ],
      "execution_count": 0,
      "outputs": []
    },
    {
      "cell_type": "code",
      "metadata": {
        "id": "-YYiV-4-M8qW",
        "colab_type": "code",
        "colab": {}
      },
      "source": [
        "#Permutation Importance\n",
        "model = mod_list['random_forest']\n",
        "result = permutation_importance(model, x_test, y_test, n_repeats=10,random_state=42,scoring='neg_mean_squared_log_error')"
      ],
      "execution_count": 0,
      "outputs": []
    },
    {
      "cell_type": "code",
      "metadata": {
        "id": "XuRuKyeUM8qd",
        "colab_type": "code",
        "colab": {}
      },
      "source": [
        "#Careful! notice that Permutation Importance provides a Score, which means the HIGHEST value represents the best feature\n",
        "perm_importances = pd.DataFrame(result.importances_mean,columns=['score'])\n",
        "perm_importances = perm_importances['score'].apply(lambda x: '%.10f' % x)\n",
        "df_perm_imiportances = pd.concat([pd.DataFrame(x_train.columns,columns=['features']),perm_importances],axis=1).sort_values('score',ascending=False)\n",
        "df_perm_imiportances"
      ],
      "execution_count": 0,
      "outputs": []
    },
    {
      "cell_type": "code",
      "metadata": {
        "id": "awpJtD6AM8qk",
        "colab_type": "code",
        "colab": {}
      },
      "source": [
        "#Select features for next training cycle\n",
        "feature_selection2 = df_perm_imiportances.iloc[0:10,0]\n",
        "feature_selection2"
      ],
      "execution_count": 0,
      "outputs": []
    },
    {
      "cell_type": "markdown",
      "metadata": {
        "id": "Haa5l6rLM8qs",
        "colab_type": "text"
      },
      "source": [
        "#### Global Interpretability"
      ]
    },
    {
      "cell_type": "code",
      "metadata": {
        "id": "bYakEZjIM8qv",
        "colab_type": "code",
        "colab": {}
      },
      "source": [
        "model = mod_list['random_forest']\n",
        "shap_values = shap.TreeExplainer(model).shap_values(x_train)\n",
        "shap.summary_plot(shap_values, x_train)"
      ],
      "execution_count": 0,
      "outputs": []
    },
    {
      "cell_type": "code",
      "metadata": {
        "id": "T6K1GgenM8q2",
        "colab_type": "code",
        "colab": {}
      },
      "source": [
        "shap.dependence_plot('OverallQual', shap_values, x_train)"
      ],
      "execution_count": 0,
      "outputs": []
    },
    {
      "cell_type": "markdown",
      "metadata": {
        "id": "N1TonO0QM8q7",
        "colab_type": "text"
      },
      "source": [
        "#### Local Interpretability"
      ]
    },
    {
      "cell_type": "code",
      "metadata": {
        "id": "6Wk8AQexM8q8",
        "colab_type": "code",
        "colab": {}
      },
      "source": [
        "# Initialize your Jupyter notebook with initjs(), otherwise you will get an error message.\n",
        "shap.initjs()\n",
        "\n",
        "# Write in a function\n",
        "def shap_plot(j):\n",
        "    explainerModel = shap.TreeExplainer(model)\n",
        "    shap_values_Model = explainerModel.shap_values(S)\n",
        "    p = shap.force_plot(explainerModel.expected_value, shap_values_Model[j], S.iloc[[j]])\n",
        "    return(p)"
      ],
      "execution_count": 0,
      "outputs": []
    },
    {
      "cell_type": "code",
      "metadata": {
        "id": "RDQAL8pxM8rB",
        "colab_type": "code",
        "colab": {}
      },
      "source": [
        "x_output = x_test.copy()\n",
        "x_output.loc[:,'predict'] = np.round(model.predict(x_output),2)\n",
        "S = x_output.head()\n",
        "S"
      ],
      "execution_count": 0,
      "outputs": []
    },
    {
      "cell_type": "code",
      "metadata": {
        "id": "pmJN39SqM8rF",
        "colab_type": "code",
        "colab": {}
      },
      "source": [
        "shap_plot(0)"
      ],
      "execution_count": 0,
      "outputs": []
    },
    {
      "cell_type": "code",
      "metadata": {
        "id": "21WdRq1MM8rJ",
        "colab_type": "code",
        "colab": {}
      },
      "source": [
        "pd.DataFrame(shap_values,columns=x_train.columns).head()"
      ],
      "execution_count": 0,
      "outputs": []
    },
    {
      "cell_type": "markdown",
      "metadata": {
        "id": "6BJZLiwUM8rR",
        "colab_type": "text"
      },
      "source": [
        "## Modeling 2"
      ]
    },
    {
      "cell_type": "markdown",
      "metadata": {
        "id": "N6qvar7ZM8ro",
        "colab_type": "text"
      },
      "source": [
        "### Explore Errors "
      ]
    },
    {
      "cell_type": "code",
      "metadata": {
        "id": "DZO3NIIaM8rp",
        "colab_type": "code",
        "colab": {}
      },
      "source": [
        "explore_errors = {}\n",
        "for i in mod_list:\n",
        "    y_pred = inverse_transform(mod_list[i].predict(x_test))\n",
        "    y_test = inverse_transform(y_test)\n",
        "    ranges = pd.cut(y_test.reset_index(drop=True),20)\n",
        "    explore_errors[i] = pd.concat([y_test.reset_index(drop=True),ranges,pd.DataFrame(y_pred)],axis=1)\n",
        "    explore_errors[i].columns = ['y_test','y_test_range','y_pred']"
      ],
      "execution_count": 0,
      "outputs": []
    },
    {
      "cell_type": "code",
      "metadata": {
        "id": "SCIpT5fLM8rw",
        "colab_type": "code",
        "colab": {}
      },
      "source": [
        "i = 'random_forest'\n",
        "test = pd.concat([x_test.reset_index(drop=True),explore_errors[i]],axis=1)\n",
        "test['error'] = test['y_pred']-test['y_test']"
      ],
      "execution_count": 0,
      "outputs": []
    },
    {
      "cell_type": "code",
      "metadata": {
        "id": "srkTat3pM8r4",
        "colab_type": "code",
        "colab": {}
      },
      "source": [
        "table = test.groupby('y_test_range').agg({'error':'mean','y_pred':'count'})\n",
        "table['%'] = table['y_pred']/table['y_pred'].sum()*100\n",
        "table['%cum_sum'] = table['%'].cumsum()\n",
        "table.columns = ['error_mean','count(y_pred)','%','%cum_sum']\n",
        "table.head()"
      ],
      "execution_count": 0,
      "outputs": []
    },
    {
      "cell_type": "code",
      "metadata": {
        "id": "mzj6ivoNM8sB",
        "colab_type": "code",
        "colab": {}
      },
      "source": [
        "table['y_test_range'] = table.index"
      ],
      "execution_count": 0,
      "outputs": []
    },
    {
      "cell_type": "code",
      "metadata": {
        "id": "GH5wx4TEM8sJ",
        "colab_type": "code",
        "colab": {}
      },
      "source": [
        "cross_plot(table,'%','error_mean','y_test_range',order=0,titulo='Errores Modelo')"
      ],
      "execution_count": 0,
      "outputs": []
    },
    {
      "cell_type": "code",
      "metadata": {
        "id": "6HaKY0d5M8sP",
        "colab_type": "code",
        "colab": {}
      },
      "source": [
        "table"
      ],
      "execution_count": 0,
      "outputs": []
    }
  ]
}